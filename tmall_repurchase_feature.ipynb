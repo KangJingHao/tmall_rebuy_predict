{
 "cells": [
  {
   "cell_type": "code",
   "execution_count": 10,
   "metadata": {},
   "outputs": [
    {
     "name": "stdout",
     "output_type": "stream",
     "text": [
      "<class 'pandas.core.frame.DataFrame'>\n",
      "RangeIndex: 54925330 entries, 0 to 54925329\n",
      "Data columns (total 7 columns):\n",
      " #   Column       Dtype  \n",
      "---  ------       -----  \n",
      " 0   user_id      uint32 \n",
      " 1   item_id      uint32 \n",
      " 2   cat_id       uint16 \n",
      " 3   seller_id    uint16 \n",
      " 4   brand_id     float32\n",
      " 5   time_stamp   uint16 \n",
      " 6   action_type  uint8  \n",
      "dtypes: float32(1), uint16(3), uint32(2), uint8(1)\n",
      "memory usage: 995.2 MB\n",
      "Before compressed:\n",
      " None\n",
      "<class 'pandas.core.frame.DataFrame'>\n",
      "RangeIndex: 54925330 entries, 0 to 54925329\n",
      "Data columns (total 7 columns):\n",
      " #   Column       Dtype  \n",
      "---  ------       -----  \n",
      " 0   user_id      uint32 \n",
      " 1   item_id      uint32 \n",
      " 2   cat_id       uint16 \n",
      " 3   seller_id    uint16 \n",
      " 4   brand_id     float32\n",
      " 5   time_stamp   uint16 \n",
      " 6   action_type  uint8  \n",
      "dtypes: float32(1), uint16(3), uint32(2), uint8(1)\n",
      "memory usage: 995.2 MB\n",
      "After compressed:\n",
      " None\n"
     ]
    }
   ],
   "source": [
    "def compress_data(data):\n",
    "\n",
    "    for eachtype in set(data.dtypes.values):\n",
    "        ##檢查數據的類型\n",
    "        if 'int' in str(eachtype):\n",
    "            ## 對每列進行轉換類型的轉換\n",
    "            for i in data.select_dtypes(eachtype).columns.values:\n",
    "                if data[i].min() < 0:\n",
    "                    data[i] = pd.to_numeric(data[i],downcast='signed')\n",
    "                else:\n",
    "                    data[i] = pd.to_numeric(data[i],downcast='unsigned')      \n",
    "        elif 'float' in str(eachtype):\n",
    "            for i in data.select_dtypes(eachtype).columns.values:   \n",
    "                data[i] = pd.to_numeric(data[i],downcast='float')\n",
    "        elif 'object' in str(eachtype):\n",
    "            for i in data.select_dtypes(eachtype).columns.values: \n",
    "                data[i] = trainData7[i].astype('category')\n",
    "    return data\n",
    " \n",
    "user_log = pd.read_csv('user_log_format1.csv')\n",
    "print('Before compress_data:\\n',user_log.info())\n",
    "user_log = compressData(user_log)\n",
    "print('After compress_data:\\n',user_log.info())"
   ]
  },
  {
   "cell_type": "code",
   "execution_count": 41,
   "metadata": {},
   "outputs": [],
   "source": [
    "user_info = pd.read_csv('user_info_format1.csv')\n"
   ]
  },
  {
   "cell_type": "code",
   "execution_count": 14,
   "metadata": {},
   "outputs": [],
   "source": [
    "#將所有缺失值的索引都找出來\n",
    "missing_value = user_log[user_log.brand_id.isnull()].index\n",
    "#將seller_id合併並且選出每個seller_id中brand_id的眾數代表他可能最常逛的品牌作為填充\n",
    "seller_mode = user_log.groupby(['seller_id']).apply(lambda x:x.brand_id.mode()[0]).reset_index()\n",
    "\n"
   ]
  },
  {
   "cell_type": "code",
   "execution_count": 22,
   "metadata": {},
   "outputs": [],
   "source": [
    "#將缺失數據挑選出來\n",
    "missing_pickup = user_log.loc[missing_value]\n",
    "#向左合併數據已missing_pickup為主並且以seller_mode中索取到的眾數\n",
    "missing_pickup = pd.merge(missing_pickup,seller_mode ,how='left',on=['seller_id']).astype('float32')\n",
    "\n",
    "missing_pickup = missing_value\n",
    "#選出缺失值並將用剛剛用好的眾數得值取代掉\n",
    "user_log.loc[missing_value,'brand_id'] = missing_pickup\n"
   ]
  },
  {
   "cell_type": "code",
   "execution_count": null,
   "metadata": {},
   "outputs": [],
   "source": [
    "#填充好後節省空間將多餘數值刪除\n",
    "del pickUP,sellerMode,missingIndex"
   ]
  },
  {
   "cell_type": "code",
   "execution_count": 42,
   "metadata": {},
   "outputs": [
    {
     "data": {
      "text/plain": [
       "user_id         0\n",
       "age_range    2217\n",
       "gender       6436\n",
       "dtype: int64"
      ]
     },
     "execution_count": 42,
     "metadata": {},
     "output_type": "execute_result"
    }
   ],
   "source": [
    "#用戶特徵\n",
    "user_info.isnull().sum()"
   ]
  },
  {
   "cell_type": "code",
   "execution_count": 43,
   "metadata": {},
   "outputs": [],
   "source": [
    "#將用戶特徵進行填充\n",
    "#年齡用中位數\n",
    "user_info.age_range.fillna(user_info.age_range.median(),inplace=True)\n",
    "#性別使用眾數\n",
    "user_info.gender.fillna(user_info.gender.mode()[0],inplace=True)"
   ]
  },
  {
   "cell_type": "code",
   "execution_count": 44,
   "metadata": {},
   "outputs": [
    {
     "data": {
      "text/plain": [
       "user_id      0\n",
       "age_range    0\n",
       "gender       0\n",
       "dtype: int64"
      ]
     },
     "execution_count": 44,
     "metadata": {},
     "output_type": "execute_result"
    }
   ],
   "source": [
    "user_info.isnull().sum()"
   ]
  },
  {
   "cell_type": "code",
   "execution_count": 45,
   "metadata": {},
   "outputs": [],
   "source": [
    "#對age 與 gender 進行 get_dummy\n",
    "df_age= pd.get_dummies(user_info.age_range,prefix='age')\n",
    "df_sex = pd.get_dummies(user_info.gender)\n",
    "#對做好的性別啞變量進行更名\n",
    "df_sex.rename(columns={0:'female',1:'male',2:'unknown'},inplace=True)"
   ]
  },
  {
   "cell_type": "code",
   "execution_count": 46,
   "metadata": {},
   "outputs": [],
   "source": [
    "#對剛剛創建好的數據與user原始數據進行合併\n",
    "user_info = pd.concat([user_info.user_id,df_age,df_sex],axis=1)"
   ]
  },
  {
   "cell_type": "code",
   "execution_count": 51,
   "metadata": {},
   "outputs": [],
   "source": [
    "#用戶行為提取\n",
    "action_total = user_log[['user_id','action_type']]"
   ]
  },
  {
   "cell_type": "code",
   "execution_count": 53,
   "metadata": {},
   "outputs": [],
   "source": [
    "#進行為進行啞變量\n",
    "df=pd.get_dummies(action_total['action_type'],prefix='user_action_total',ax_index=False)"
   ]
  },
  {
   "cell_type": "code",
   "execution_count": 58,
   "metadata": {},
   "outputs": [
    {
     "name": "stdout",
     "output_type": "stream",
     "text": [
      "<class 'pandas.core.frame.DataFrame'>\n",
      "Int64Index: 424170 entries, 0 to 424169\n",
      "Data columns (total 6 columns):\n",
      " #   Column               Non-Null Count   Dtype  \n",
      "---  ------               --------------   -----  \n",
      " 0   user_id              424170 non-null  uint64 \n",
      " 1   user_action_total_0  424170 non-null  float64\n",
      " 2   user_action_total_1  424170 non-null  float64\n",
      " 3   user_action_total_2  424170 non-null  float64\n",
      " 4   user_action_total_3  424170 non-null  float64\n",
      " 5   user_action_total    424170 non-null  float64\n",
      "dtypes: float64(5), uint64(1)\n",
      "memory usage: 22.7 MB\n"
     ]
    }
   ],
   "source": [
    "#對剛剛建立好的啞變量進行根據每個人進行行為次數的加總\n",
    "#ax_index在消除分組鍵的同時會自動生成一個索引\n",
    "action_total = pd.concat([action_total.user_id,df],axis=1).groupby(['user_id'],as_index=False).sum()\n",
    "action_total['user_action_total']=action_total['user_action_total_0']+action_total['user_action_total_1']+action_total['user_action_total_2']+action_total['user_action_total_3']\n",
    "action_total.info()"
   ]
  },
  {
   "cell_type": "code",
   "execution_count": 69,
   "metadata": {
    "scrolled": true
   },
   "outputs": [
    {
     "name": "stdout",
     "output_type": "stream",
     "text": [
      "所有行為次數: 54925330\n",
      "所有用戶數目: 424170\n",
      "所有用戶平均行為次數：129.48895490015795\n"
     ]
    }
   ],
   "source": [
    "#用戶互動次數在所有用戶中的類別\n",
    "\n",
    "#用戶互動次數佔所有用戶互動次數的比例\n",
    "\n",
    "print('所有行為次數: ' +str(user_log.shape[0]))\n",
    "print('所有用戶數目: ' +str(user_log['user_id'].nunique()))\n",
    "print('所有用戶平均行為次數：'+str(user_log.shape[0]/user_log['user_id'].nunique()))\n",
    "action_total['user_total_action_ratio']=action_total['user_action_total']/user_log.shape[0]\n",
    "#user_log.shape[0]/userLog['user_id'].nunique() 代表平均每個人要多少次行為\n",
    "#user_total_action_diff 代表每個人總行為的次數與整體每個人平均行為的次數可以推斷這個人對於網站的偏好度是否高\n",
    "action_total['user_total_action_diff'] = action_total['user_action_total']-user_log.shape[0]/user_log['user_id'].nunique()"
   ]
  },
  {
   "cell_type": "code",
   "execution_count": 78,
   "metadata": {},
   "outputs": [
    {
     "data": {
      "text/html": [
       "<div>\n",
       "<style scoped>\n",
       "    .dataframe tbody tr th:only-of-type {\n",
       "        vertical-align: middle;\n",
       "    }\n",
       "\n",
       "    .dataframe tbody tr th {\n",
       "        vertical-align: top;\n",
       "    }\n",
       "\n",
       "    .dataframe thead th {\n",
       "        text-align: right;\n",
       "    }\n",
       "</style>\n",
       "<table border=\"1\" class=\"dataframe\">\n",
       "  <thead>\n",
       "    <tr style=\"text-align: right;\">\n",
       "      <th></th>\n",
       "      <th>user_id</th>\n",
       "      <th>item_id</th>\n",
       "      <th>cat_id</th>\n",
       "      <th>seller_id</th>\n",
       "      <th>brand_id</th>\n",
       "      <th>time_stamp</th>\n",
       "      <th>action_type</th>\n",
       "    </tr>\n",
       "  </thead>\n",
       "  <tbody>\n",
       "    <tr>\n",
       "      <th>0</th>\n",
       "      <td>328862</td>\n",
       "      <td>323294</td>\n",
       "      <td>833</td>\n",
       "      <td>2882</td>\n",
       "      <td>2661.0</td>\n",
       "      <td>829</td>\n",
       "      <td>0</td>\n",
       "    </tr>\n",
       "    <tr>\n",
       "      <th>1</th>\n",
       "      <td>328862</td>\n",
       "      <td>844400</td>\n",
       "      <td>1271</td>\n",
       "      <td>2882</td>\n",
       "      <td>2661.0</td>\n",
       "      <td>829</td>\n",
       "      <td>0</td>\n",
       "    </tr>\n",
       "    <tr>\n",
       "      <th>2</th>\n",
       "      <td>328862</td>\n",
       "      <td>575153</td>\n",
       "      <td>1271</td>\n",
       "      <td>2882</td>\n",
       "      <td>2661.0</td>\n",
       "      <td>829</td>\n",
       "      <td>0</td>\n",
       "    </tr>\n",
       "    <tr>\n",
       "      <th>3</th>\n",
       "      <td>328862</td>\n",
       "      <td>996875</td>\n",
       "      <td>1271</td>\n",
       "      <td>2882</td>\n",
       "      <td>2661.0</td>\n",
       "      <td>829</td>\n",
       "      <td>0</td>\n",
       "    </tr>\n",
       "    <tr>\n",
       "      <th>4</th>\n",
       "      <td>328862</td>\n",
       "      <td>1086186</td>\n",
       "      <td>1271</td>\n",
       "      <td>1253</td>\n",
       "      <td>1049.0</td>\n",
       "      <td>829</td>\n",
       "      <td>0</td>\n",
       "    </tr>\n",
       "  </tbody>\n",
       "</table>\n",
       "</div>"
      ],
      "text/plain": [
       "   user_id  item_id  cat_id  seller_id  brand_id  time_stamp  action_type\n",
       "0   328862   323294     833       2882    2661.0         829            0\n",
       "1   328862   844400    1271       2882    2661.0         829            0\n",
       "2   328862   575153    1271       2882    2661.0         829            0\n",
       "3   328862   996875    1271       2882    2661.0         829            0\n",
       "4   328862  1086186    1271       1253    1049.0         829            0"
      ]
     },
     "execution_count": 78,
     "metadata": {},
     "output_type": "execute_result"
    }
   ],
   "source": [
    "user_log.head()"
   ]
  },
  {
   "cell_type": "markdown",
   "metadata": {},
   "source": [
    "**用戶點擊次數在所有用戶點擊次數中的一部分**\n",
    "\n",
    "●用戶點擊次數佔所有用戶點擊次數的比例\n",
    "\n",
    "●用戶點擊次數與用戶平均點擊次數的差值（絕對差值，相對差值）\n",
    "\n",
    "●用戶點擊次數在所有用戶點擊次數中的分位數\n",
    "\n",
    "●用戶點擊次數在所有用戶點擊次數中的排名"
   ]
  },
  {
   "cell_type": "code",
   "execution_count": 99,
   "metadata": {},
   "outputs": [
    {
     "name": "stdout",
     "output_type": "stream",
     "text": [
      "所有用戶點擊次數:48550713\n",
      "用戶平均點擊次數:114.46050640073555\n"
     ]
    }
   ],
   "source": [
    "#用戶點擊次數在所有用戶點擊次數中的一部分\n",
    "\n",
    "#用戶點擊次數佔所有用戶點擊次數的比例\n",
    "\n",
    "print('所有用戶點擊次數:'+str(user_log[user_log.action_type==0].shape[0]))\n",
    "action_total['user_click_rate'] = action_total['user_action_total_0']/ user_log[user_log.action_type==0].shape[0]\n",
    "print('用戶平均點擊次數:' +str(user_log[user_log.action_type==0].shape[0]/user_log['user_id'].nunique()))\n",
    "action_total['user_click_diff']=action_total['user_action_total_0']-user_log[user_log.action_type==0].shape[0]/user_log['user_id'].nunique()\n"
   ]
  },
  {
   "cell_type": "code",
   "execution_count": 100,
   "metadata": {},
   "outputs": [
    {
     "data": {
      "text/html": [
       "<div>\n",
       "<style scoped>\n",
       "    .dataframe tbody tr th:only-of-type {\n",
       "        vertical-align: middle;\n",
       "    }\n",
       "\n",
       "    .dataframe tbody tr th {\n",
       "        vertical-align: top;\n",
       "    }\n",
       "\n",
       "    .dataframe thead th {\n",
       "        text-align: right;\n",
       "    }\n",
       "</style>\n",
       "<table border=\"1\" class=\"dataframe\">\n",
       "  <thead>\n",
       "    <tr style=\"text-align: right;\">\n",
       "      <th></th>\n",
       "      <th>user_id</th>\n",
       "      <th>user_action_total_0</th>\n",
       "      <th>user_action_total_1</th>\n",
       "      <th>user_action_total_2</th>\n",
       "      <th>user_action_total_3</th>\n",
       "      <th>user_action_total</th>\n",
       "      <th>user_total_action_ratio</th>\n",
       "      <th>user_total_action_diff</th>\n",
       "      <th>user_click_rate</th>\n",
       "      <th>user_click_diff</th>\n",
       "      <th>user_addtocart_rate</th>\n",
       "      <th>user_addtocart_diff</th>\n",
       "    </tr>\n",
       "  </thead>\n",
       "  <tbody>\n",
       "    <tr>\n",
       "      <th>0</th>\n",
       "      <td>1</td>\n",
       "      <td>27.0</td>\n",
       "      <td>0.0</td>\n",
       "      <td>6.0</td>\n",
       "      <td>0.0</td>\n",
       "      <td>33.0</td>\n",
       "      <td>6.008157e-07</td>\n",
       "      <td>-96.488955</td>\n",
       "      <td>5.561195e-07</td>\n",
       "      <td>-87.460506</td>\n",
       "      <td>0.0</td>\n",
       "      <td>0.0</td>\n",
       "    </tr>\n",
       "    <tr>\n",
       "      <th>1</th>\n",
       "      <td>2</td>\n",
       "      <td>47.0</td>\n",
       "      <td>0.0</td>\n",
       "      <td>14.0</td>\n",
       "      <td>2.0</td>\n",
       "      <td>63.0</td>\n",
       "      <td>1.147012e-06</td>\n",
       "      <td>-66.488955</td>\n",
       "      <td>9.680599e-07</td>\n",
       "      <td>-67.460506</td>\n",
       "      <td>0.0</td>\n",
       "      <td>0.0</td>\n",
       "    </tr>\n",
       "    <tr>\n",
       "      <th>2</th>\n",
       "      <td>3</td>\n",
       "      <td>63.0</td>\n",
       "      <td>0.0</td>\n",
       "      <td>4.0</td>\n",
       "      <td>1.0</td>\n",
       "      <td>68.0</td>\n",
       "      <td>1.238044e-06</td>\n",
       "      <td>-61.488955</td>\n",
       "      <td>1.297612e-06</td>\n",
       "      <td>-51.460506</td>\n",
       "      <td>0.0</td>\n",
       "      <td>0.0</td>\n",
       "    </tr>\n",
       "    <tr>\n",
       "      <th>3</th>\n",
       "      <td>4</td>\n",
       "      <td>49.0</td>\n",
       "      <td>0.0</td>\n",
       "      <td>1.0</td>\n",
       "      <td>0.0</td>\n",
       "      <td>50.0</td>\n",
       "      <td>9.103268e-07</td>\n",
       "      <td>-79.488955</td>\n",
       "      <td>1.009254e-06</td>\n",
       "      <td>-65.460506</td>\n",
       "      <td>0.0</td>\n",
       "      <td>0.0</td>\n",
       "    </tr>\n",
       "    <tr>\n",
       "      <th>4</th>\n",
       "      <td>5</td>\n",
       "      <td>150.0</td>\n",
       "      <td>0.0</td>\n",
       "      <td>13.0</td>\n",
       "      <td>10.0</td>\n",
       "      <td>173.0</td>\n",
       "      <td>3.149731e-06</td>\n",
       "      <td>43.511045</td>\n",
       "      <td>3.089553e-06</td>\n",
       "      <td>35.539494</td>\n",
       "      <td>0.0</td>\n",
       "      <td>0.0</td>\n",
       "    </tr>\n",
       "    <tr>\n",
       "      <th>...</th>\n",
       "      <td>...</td>\n",
       "      <td>...</td>\n",
       "      <td>...</td>\n",
       "      <td>...</td>\n",
       "      <td>...</td>\n",
       "      <td>...</td>\n",
       "      <td>...</td>\n",
       "      <td>...</td>\n",
       "      <td>...</td>\n",
       "      <td>...</td>\n",
       "      <td>...</td>\n",
       "      <td>...</td>\n",
       "    </tr>\n",
       "    <tr>\n",
       "      <th>424165</th>\n",
       "      <td>424166</td>\n",
       "      <td>79.0</td>\n",
       "      <td>0.0</td>\n",
       "      <td>11.0</td>\n",
       "      <td>0.0</td>\n",
       "      <td>90.0</td>\n",
       "      <td>1.638588e-06</td>\n",
       "      <td>-39.488955</td>\n",
       "      <td>1.627165e-06</td>\n",
       "      <td>-35.460506</td>\n",
       "      <td>0.0</td>\n",
       "      <td>0.0</td>\n",
       "    </tr>\n",
       "    <tr>\n",
       "      <th>424166</th>\n",
       "      <td>424167</td>\n",
       "      <td>28.0</td>\n",
       "      <td>0.0</td>\n",
       "      <td>6.0</td>\n",
       "      <td>1.0</td>\n",
       "      <td>35.0</td>\n",
       "      <td>6.372288e-07</td>\n",
       "      <td>-94.488955</td>\n",
       "      <td>5.767166e-07</td>\n",
       "      <td>-86.460506</td>\n",
       "      <td>0.0</td>\n",
       "      <td>0.0</td>\n",
       "    </tr>\n",
       "    <tr>\n",
       "      <th>424167</th>\n",
       "      <td>424168</td>\n",
       "      <td>216.0</td>\n",
       "      <td>0.0</td>\n",
       "      <td>6.0</td>\n",
       "      <td>1.0</td>\n",
       "      <td>223.0</td>\n",
       "      <td>4.060058e-06</td>\n",
       "      <td>93.511045</td>\n",
       "      <td>4.448956e-06</td>\n",
       "      <td>101.539494</td>\n",
       "      <td>0.0</td>\n",
       "      <td>0.0</td>\n",
       "    </tr>\n",
       "    <tr>\n",
       "      <th>424168</th>\n",
       "      <td>424169</td>\n",
       "      <td>277.0</td>\n",
       "      <td>0.0</td>\n",
       "      <td>17.0</td>\n",
       "      <td>3.0</td>\n",
       "      <td>297.0</td>\n",
       "      <td>5.407341e-06</td>\n",
       "      <td>167.511045</td>\n",
       "      <td>5.705375e-06</td>\n",
       "      <td>162.539494</td>\n",
       "      <td>0.0</td>\n",
       "      <td>0.0</td>\n",
       "    </tr>\n",
       "    <tr>\n",
       "      <th>424169</th>\n",
       "      <td>424170</td>\n",
       "      <td>39.0</td>\n",
       "      <td>0.0</td>\n",
       "      <td>1.0</td>\n",
       "      <td>0.0</td>\n",
       "      <td>40.0</td>\n",
       "      <td>7.282614e-07</td>\n",
       "      <td>-89.488955</td>\n",
       "      <td>8.032838e-07</td>\n",
       "      <td>-75.460506</td>\n",
       "      <td>0.0</td>\n",
       "      <td>0.0</td>\n",
       "    </tr>\n",
       "  </tbody>\n",
       "</table>\n",
       "<p>424170 rows × 12 columns</p>\n",
       "</div>"
      ],
      "text/plain": [
       "        user_id  user_action_total_0  user_action_total_1  \\\n",
       "0             1                 27.0                  0.0   \n",
       "1             2                 47.0                  0.0   \n",
       "2             3                 63.0                  0.0   \n",
       "3             4                 49.0                  0.0   \n",
       "4             5                150.0                  0.0   \n",
       "...         ...                  ...                  ...   \n",
       "424165   424166                 79.0                  0.0   \n",
       "424166   424167                 28.0                  0.0   \n",
       "424167   424168                216.0                  0.0   \n",
       "424168   424169                277.0                  0.0   \n",
       "424169   424170                 39.0                  0.0   \n",
       "\n",
       "        user_action_total_2  user_action_total_3  user_action_total  \\\n",
       "0                       6.0                  0.0               33.0   \n",
       "1                      14.0                  2.0               63.0   \n",
       "2                       4.0                  1.0               68.0   \n",
       "3                       1.0                  0.0               50.0   \n",
       "4                      13.0                 10.0              173.0   \n",
       "...                     ...                  ...                ...   \n",
       "424165                 11.0                  0.0               90.0   \n",
       "424166                  6.0                  1.0               35.0   \n",
       "424167                  6.0                  1.0              223.0   \n",
       "424168                 17.0                  3.0              297.0   \n",
       "424169                  1.0                  0.0               40.0   \n",
       "\n",
       "        user_total_action_ratio  user_total_action_diff  user_click_rate  \\\n",
       "0                  6.008157e-07              -96.488955     5.561195e-07   \n",
       "1                  1.147012e-06              -66.488955     9.680599e-07   \n",
       "2                  1.238044e-06              -61.488955     1.297612e-06   \n",
       "3                  9.103268e-07              -79.488955     1.009254e-06   \n",
       "4                  3.149731e-06               43.511045     3.089553e-06   \n",
       "...                         ...                     ...              ...   \n",
       "424165             1.638588e-06              -39.488955     1.627165e-06   \n",
       "424166             6.372288e-07              -94.488955     5.767166e-07   \n",
       "424167             4.060058e-06               93.511045     4.448956e-06   \n",
       "424168             5.407341e-06              167.511045     5.705375e-06   \n",
       "424169             7.282614e-07              -89.488955     8.032838e-07   \n",
       "\n",
       "        user_click_diff  user_addtocart_rate  user_addtocart_diff  \n",
       "0            -87.460506                  0.0                  0.0  \n",
       "1            -67.460506                  0.0                  0.0  \n",
       "2            -51.460506                  0.0                  0.0  \n",
       "3            -65.460506                  0.0                  0.0  \n",
       "4             35.539494                  0.0                  0.0  \n",
       "...                 ...                  ...                  ...  \n",
       "424165       -35.460506                  0.0                  0.0  \n",
       "424166       -86.460506                  0.0                  0.0  \n",
       "424167       101.539494                  0.0                  0.0  \n",
       "424168       162.539494                  0.0                  0.0  \n",
       "424169       -75.460506                  0.0                  0.0  \n",
       "\n",
       "[424170 rows x 12 columns]"
      ]
     },
     "execution_count": 100,
     "metadata": {},
     "output_type": "execute_result"
    }
   ],
   "source": [
    "action_total"
   ]
  },
  {
   "cell_type": "code",
   "execution_count": 101,
   "metadata": {},
   "outputs": [
    {
     "name": "stdout",
     "output_type": "stream",
     "text": [
      "所有用戶加入購物次：76750\n",
      "用戶平均加入購物車次數：0.18094160360232925\n"
     ]
    }
   ],
   "source": [
    "print('所有用戶加入購物次：'+str(user_log[user_log.action_type==1].shape[0]))\n",
    "action_total['user_addtocart_rate']=action_total['user_action_total_1']/user_log[user_log.action_type==1].shape[0]\n",
    "print('用戶平均加入購物車次數：'+str(user_log[user_log.action_type==1].shape[0]/user_log['user_id'].nunique()))\n",
    "action_total['user_addtocart_diff']=action_total['user_action_total_1']-user_log[user_log.action_type==1].shape[0]/user_log['user_id'].nunique()"
   ]
  },
  {
   "cell_type": "code",
   "execution_count": 103,
   "metadata": {},
   "outputs": [
    {
     "data": {
      "text/html": [
       "<div>\n",
       "<style scoped>\n",
       "    .dataframe tbody tr th:only-of-type {\n",
       "        vertical-align: middle;\n",
       "    }\n",
       "\n",
       "    .dataframe tbody tr th {\n",
       "        vertical-align: top;\n",
       "    }\n",
       "\n",
       "    .dataframe thead th {\n",
       "        text-align: right;\n",
       "    }\n",
       "</style>\n",
       "<table border=\"1\" class=\"dataframe\">\n",
       "  <thead>\n",
       "    <tr style=\"text-align: right;\">\n",
       "      <th></th>\n",
       "      <th>user_id</th>\n",
       "      <th>user_action_total_0</th>\n",
       "      <th>user_action_total_1</th>\n",
       "      <th>user_action_total_2</th>\n",
       "      <th>user_action_total_3</th>\n",
       "      <th>user_action_total</th>\n",
       "      <th>user_total_action_ratio</th>\n",
       "      <th>user_total_action_diff</th>\n",
       "      <th>user_click_rate</th>\n",
       "      <th>user_click_diff</th>\n",
       "      <th>user_addtocart_rate</th>\n",
       "      <th>user_addtocart_diff</th>\n",
       "    </tr>\n",
       "  </thead>\n",
       "  <tbody>\n",
       "    <tr>\n",
       "      <th>17</th>\n",
       "      <td>18</td>\n",
       "      <td>106.0</td>\n",
       "      <td>3.0</td>\n",
       "      <td>1.0</td>\n",
       "      <td>0.0</td>\n",
       "      <td>110.0</td>\n",
       "      <td>2.002719e-06</td>\n",
       "      <td>-19.488955</td>\n",
       "      <td>2.183284e-06</td>\n",
       "      <td>-8.460506</td>\n",
       "      <td>0.000039</td>\n",
       "      <td>2.819058</td>\n",
       "    </tr>\n",
       "    <tr>\n",
       "      <th>22</th>\n",
       "      <td>23</td>\n",
       "      <td>165.0</td>\n",
       "      <td>3.0</td>\n",
       "      <td>6.0</td>\n",
       "      <td>0.0</td>\n",
       "      <td>174.0</td>\n",
       "      <td>3.167937e-06</td>\n",
       "      <td>44.511045</td>\n",
       "      <td>3.398508e-06</td>\n",
       "      <td>50.539494</td>\n",
       "      <td>0.000039</td>\n",
       "      <td>2.819058</td>\n",
       "    </tr>\n",
       "    <tr>\n",
       "      <th>40</th>\n",
       "      <td>41</td>\n",
       "      <td>77.0</td>\n",
       "      <td>1.0</td>\n",
       "      <td>4.0</td>\n",
       "      <td>1.0</td>\n",
       "      <td>83.0</td>\n",
       "      <td>1.511142e-06</td>\n",
       "      <td>-46.488955</td>\n",
       "      <td>1.585971e-06</td>\n",
       "      <td>-37.460506</td>\n",
       "      <td>0.000013</td>\n",
       "      <td>0.819058</td>\n",
       "    </tr>\n",
       "    <tr>\n",
       "      <th>42</th>\n",
       "      <td>43</td>\n",
       "      <td>26.0</td>\n",
       "      <td>1.0</td>\n",
       "      <td>2.0</td>\n",
       "      <td>0.0</td>\n",
       "      <td>29.0</td>\n",
       "      <td>5.279895e-07</td>\n",
       "      <td>-100.488955</td>\n",
       "      <td>5.355225e-07</td>\n",
       "      <td>-88.460506</td>\n",
       "      <td>0.000013</td>\n",
       "      <td>0.819058</td>\n",
       "    </tr>\n",
       "    <tr>\n",
       "      <th>45</th>\n",
       "      <td>46</td>\n",
       "      <td>176.0</td>\n",
       "      <td>1.0</td>\n",
       "      <td>11.0</td>\n",
       "      <td>0.0</td>\n",
       "      <td>188.0</td>\n",
       "      <td>3.422829e-06</td>\n",
       "      <td>58.511045</td>\n",
       "      <td>3.625075e-06</td>\n",
       "      <td>61.539494</td>\n",
       "      <td>0.000013</td>\n",
       "      <td>0.819058</td>\n",
       "    </tr>\n",
       "  </tbody>\n",
       "</table>\n",
       "</div>"
      ],
      "text/plain": [
       "    user_id  user_action_total_0  user_action_total_1  user_action_total_2  \\\n",
       "17       18                106.0                  3.0                  1.0   \n",
       "22       23                165.0                  3.0                  6.0   \n",
       "40       41                 77.0                  1.0                  4.0   \n",
       "42       43                 26.0                  1.0                  2.0   \n",
       "45       46                176.0                  1.0                 11.0   \n",
       "\n",
       "    user_action_total_3  user_action_total  user_total_action_ratio  \\\n",
       "17                  0.0              110.0             2.002719e-06   \n",
       "22                  0.0              174.0             3.167937e-06   \n",
       "40                  1.0               83.0             1.511142e-06   \n",
       "42                  0.0               29.0             5.279895e-07   \n",
       "45                  0.0              188.0             3.422829e-06   \n",
       "\n",
       "    user_total_action_diff  user_click_rate  user_click_diff  \\\n",
       "17              -19.488955     2.183284e-06        -8.460506   \n",
       "22               44.511045     3.398508e-06        50.539494   \n",
       "40              -46.488955     1.585971e-06       -37.460506   \n",
       "42             -100.488955     5.355225e-07       -88.460506   \n",
       "45               58.511045     3.625075e-06        61.539494   \n",
       "\n",
       "    user_addtocart_rate  user_addtocart_diff  \n",
       "17             0.000039             2.819058  \n",
       "22             0.000039             2.819058  \n",
       "40             0.000013             0.819058  \n",
       "42             0.000013             0.819058  \n",
       "45             0.000013             0.819058  "
      ]
     },
     "execution_count": 103,
     "metadata": {},
     "output_type": "execute_result"
    }
   ],
   "source": [
    "#查看一下不等於0的結果\n",
    "action_total[action_total.user_action_total_1!=0].head()"
   ]
  },
  {
   "cell_type": "code",
   "execution_count": 104,
   "metadata": {},
   "outputs": [
    {
     "name": "stdout",
     "output_type": "stream",
     "text": [
      "所有用戶購買次數： 3292144\n",
      "平均每人購買次數： 7.761378692505364\n"
     ]
    }
   ],
   "source": [
    "#用戶購買次數在所有用戶購買次數中的一部分\n",
    "\n",
    "#用戶購買次數佔所有用戶購買次數的比例\n",
    "print('所有用戶購買次數： '+str(user_log[user_log.action_type==2].shape[0]))\n",
    "action_total['user_purchase_rate']=action_total['user_action_total_2'] / user_log[user_log.action_type==2].shape[0]\n",
    "print('平均每人購買次數： '+str(user_log[user_log.action_type==2].shape[0]/user_log['user_id'].nunique()))\n",
    "action_total['user_purchase_diff'] = action_total['user_action_total_2'] -user_log[user_log.action_type==2].shape[0]/user_log['user_id'].nunique()\n"
   ]
  },
  {
   "cell_type": "code",
   "execution_count": 105,
   "metadata": {},
   "outputs": [
    {
     "name": "stdout",
     "output_type": "stream",
     "text": [
      "所有收藏購買次數： 3005723\n",
      "平均每人收藏次數： 7.086128203314709\n"
     ]
    }
   ],
   "source": [
    "#用戶收藏次數在所有用戶收藏次數中的一部分\n",
    "\n",
    "#用戶收藏次數佔所有用戶收藏次數的比例\n",
    "print('所有收藏購買次數： '+str(user_log[user_log.action_type==3].shape[0]))\n",
    "action_total['user_save_rate']=action_total['user_action_total_3'] / user_log[user_log.action_type==3].shape[0]\n",
    "print('平均每人收藏次數： '+str(user_log[user_log.action_type==3].shape[0]/user_log['user_id'].nunique()))\n",
    "action_total['user_save_diff'] = action_total['user_action_total_3'] -user_log[user_log.action_type==3].shape[0]/user_log['user_id'].nunique()\n"
   ]
  },
  {
   "cell_type": "markdown",
   "metadata": {},
   "source": [
    "\n",
    "\n",
    "●用戶加入購物車次數佔用戶總交互次數的比例\n",
    "\n",
    "●用戶購買次數佔用戶總互動次數的比例\n",
    "\n",
    "●用戶收藏次數佔用戶總互動次數的比例"
   ]
  },
  {
   "cell_type": "code",
   "execution_count": 110,
   "metadata": {},
   "outputs": [],
   "source": [
    "#統計用戶不同行為的習慣（用戶內部）\n",
    "\n",
    "#用戶點擊次數佔用戶總互動次數的比例\n",
    "#統計用戶點擊、加入購物車、收藏、購買次數佔整體行為次數的比例\n",
    "action_total['click_action_rate']=action_total['user_action_total_0'] / action_total['user_action_total']\n",
    "action_total['addtocart_action_rate']=action_total['user_action_total_1'] / action_total['user_action_total']\n",
    "action_total['purchase_action_rate']=action_total['user_action_total_2'] / action_total['user_action_total']\n",
    "action_total['save_action_rate']=action_total['user_action_total_3'] / action_total['user_action_total']\n"
   ]
  },
  {
   "cell_type": "markdown",
   "metadata": {},
   "source": [
    "**統計用戶的點擊，加入購物車，收藏者的購買轉化率**\n",
    "\n",
    "●用戶點擊轉化率\n",
    "\n",
    "●用戶加入購物車購買轉化率\n",
    "\n",
    "●用戶收藏轉化率"
   ]
  },
  {
   "cell_type": "code",
   "execution_count": 139,
   "metadata": {},
   "outputs": [],
   "source": [
    "#統計用戶的點擊，加入購物車，收藏者的購買轉化率\n",
    "\n",
    "#用戶點擊轉化率\n",
    "\n",
    "#用戶加入購物車購買轉化率\n",
    "\n",
    "●#用戶收藏轉化率\n",
    "\n",
    "\n",
    "#購買/點擊\n",
    "action_total['user_pruchase_ratio'] = action_total['user_action_total_2'] / action_total['user_action_total_0']\n",
    "#加入購物車/點擊\n",
    "action_total['user_addtocart_ratio'] = action_total['user_action_total_1'] / action_total['user_action_total_0']\n",
    "#收藏/點擊\n",
    "action_total['user_save_ratio'] = action_total['user_action_total_3'] / action_total['user_action_total_0']"
   ]
  },
  {
   "cell_type": "markdown",
   "metadata": {},
   "source": []
  },
  {
   "cell_type": "code",
   "execution_count": 144,
   "metadata": {},
   "outputs": [],
   "source": [
    "#用戶互動的時間信息（按天）\n",
    "#用戶互動的總天數，與所有用戶平均互動總天數的比較\n",
    "#用戶每個月的交互天數，與所有用戶平均每個月的交互天數的比較\n",
    "#用戶月互動天數的變化量，與所有用戶平均月交互天數變化量的比較\n",
    "#算出每個人有任何行動的天數的次數\n",
    "day_cnt = user_log.groupby(['user_id'])['time_stamp'].nunique()\n",
    "#再將這些次去剪掉平均整體每個人，可以知道用戶對於網站是否常來購買\n",
    "days_cnt_diff =day_cnt - user_log.groupby(['user_id'])['time_stamp'].nunique().mean()"
   ]
  },
  {
   "cell_type": "code",
   "execution_count": 149,
   "metadata": {},
   "outputs": [],
   "source": [
    "#用戶互動的時間信息（按次數）**\n",
    "#用戶互動的總天數，與所有用戶平均互動總天數的比較\n",
    "#用戶每個月的交互天數，與所有用戶平均每個月的交互天數的比較\n",
    "#用戶月互動天數的變化量，與所有用戶平均月交互天數變化量的比較\n",
    "#先剛剛剛做出來所有浮點數類型的維度進行標準化避免數字大小差異過大造成後續模型計算上的偏誤\n",
    "num_col = action_total.columns[action_total.dtypes == 'float64']\n",
    "num_col_mean = action_total.loc[:,num_col].mean()\n",
    "num_col_std  = action_total.loc[:,num_col].std()\n",
    "action_total.loc[:,num_col]=(action_total.loc[:,num_col] - num_col_mean) / num_col_std\n"
   ]
  },
  {
   "cell_type": "code",
   "execution_count": 152,
   "metadata": {},
   "outputs": [],
   "source": [
    "#將上述做好的資料進行串接\n",
    "user_info = pd.merge(user_info,action_total,how='left',on=['user_id'])\n"
   ]
  },
  {
   "cell_type": "code",
   "execution_count": 160,
   "metadata": {},
   "outputs": [
    {
     "name": "stdout",
     "output_type": "stream",
     "text": [
      "1112\n",
      "511\n"
     ]
    }
   ],
   "source": [
    "print(user_log.time_stamp.max())\n",
    "print(user_log.time_stamp.min())"
   ]
  },
  {
   "cell_type": "code",
   "execution_count": 178,
   "metadata": {},
   "outputs": [],
   "source": [
    "#用戶6個月中做出行為的商品數量\n",
    "item_count = user_log.groupby(['user_id'])['item_id'].nunique()\n",
    "#用戶6個月中做出行為的種類數量\n",
    "cat_count = user_log.groupby(['user_id'])['cat_id'].nunique()\n",
    "#用戶6個月中做出行為的店鋪數量\n",
    "seller_count = user_log.groupby(['user_id'])['seller_id'].nunique()\n",
    "#用戶6個月中做出行為的品牌數量\n",
    "brand_count = user_log.groupby(['user_id'])['brand_id'].nunique()\n",
    "#用戶6個月中做出行為的行為數量\n",
    "days_count = user_log.groupby(['user_id'])['time_stamp'].nunique()\n",
    "\n",
    "allcount = pd.concat([item_count,cat_count],axis=1)\n",
    "allcount = pd.concat([allcount,seller_count],axis=1)\n",
    "allcount = pd.concat([allcount,brand_count],axis=1)\n",
    "allcount = pd.concat([allcount,days_count],axis=1)\n"
   ]
  },
  {
   "cell_type": "code",
   "execution_count": 179,
   "metadata": {},
   "outputs": [],
   "source": [
    "allcount.rename(columns={'item_id':'item_count','cat_id':'cat_count','seller_id':'seller_count','brand_id':'brand_count','time_stamp':'active_days'},inplace=True)\n"
   ]
  },
  {
   "cell_type": "code",
   "execution_count": 180,
   "metadata": {},
   "outputs": [
    {
     "data": {
      "text/html": [
       "<div>\n",
       "<style scoped>\n",
       "    .dataframe tbody tr th:only-of-type {\n",
       "        vertical-align: middle;\n",
       "    }\n",
       "\n",
       "    .dataframe tbody tr th {\n",
       "        vertical-align: top;\n",
       "    }\n",
       "\n",
       "    .dataframe thead th {\n",
       "        text-align: right;\n",
       "    }\n",
       "</style>\n",
       "<table border=\"1\" class=\"dataframe\">\n",
       "  <thead>\n",
       "    <tr style=\"text-align: right;\">\n",
       "      <th></th>\n",
       "      <th>user_id</th>\n",
       "      <th>item_count</th>\n",
       "      <th>cat_count</th>\n",
       "      <th>seller_count</th>\n",
       "      <th>brand_count</th>\n",
       "      <th>active_days</th>\n",
       "    </tr>\n",
       "  </thead>\n",
       "  <tbody>\n",
       "    <tr>\n",
       "      <th>0</th>\n",
       "      <td>1</td>\n",
       "      <td>12</td>\n",
       "      <td>6</td>\n",
       "      <td>9</td>\n",
       "      <td>9</td>\n",
       "      <td>5</td>\n",
       "    </tr>\n",
       "    <tr>\n",
       "      <th>1</th>\n",
       "      <td>2</td>\n",
       "      <td>43</td>\n",
       "      <td>14</td>\n",
       "      <td>14</td>\n",
       "      <td>15</td>\n",
       "      <td>9</td>\n",
       "    </tr>\n",
       "    <tr>\n",
       "      <th>2</th>\n",
       "      <td>3</td>\n",
       "      <td>45</td>\n",
       "      <td>19</td>\n",
       "      <td>23</td>\n",
       "      <td>22</td>\n",
       "      <td>13</td>\n",
       "    </tr>\n",
       "    <tr>\n",
       "      <th>3</th>\n",
       "      <td>4</td>\n",
       "      <td>28</td>\n",
       "      <td>13</td>\n",
       "      <td>12</td>\n",
       "      <td>12</td>\n",
       "      <td>10</td>\n",
       "    </tr>\n",
       "    <tr>\n",
       "      <th>4</th>\n",
       "      <td>5</td>\n",
       "      <td>87</td>\n",
       "      <td>40</td>\n",
       "      <td>56</td>\n",
       "      <td>60</td>\n",
       "      <td>30</td>\n",
       "    </tr>\n",
       "    <tr>\n",
       "      <th>...</th>\n",
       "      <td>...</td>\n",
       "      <td>...</td>\n",
       "      <td>...</td>\n",
       "      <td>...</td>\n",
       "      <td>...</td>\n",
       "      <td>...</td>\n",
       "    </tr>\n",
       "    <tr>\n",
       "      <th>424165</th>\n",
       "      <td>424166</td>\n",
       "      <td>48</td>\n",
       "      <td>12</td>\n",
       "      <td>22</td>\n",
       "      <td>23</td>\n",
       "      <td>12</td>\n",
       "    </tr>\n",
       "    <tr>\n",
       "      <th>424166</th>\n",
       "      <td>424167</td>\n",
       "      <td>15</td>\n",
       "      <td>9</td>\n",
       "      <td>12</td>\n",
       "      <td>9</td>\n",
       "      <td>8</td>\n",
       "    </tr>\n",
       "    <tr>\n",
       "      <th>424167</th>\n",
       "      <td>424168</td>\n",
       "      <td>160</td>\n",
       "      <td>48</td>\n",
       "      <td>112</td>\n",
       "      <td>97</td>\n",
       "      <td>55</td>\n",
       "    </tr>\n",
       "    <tr>\n",
       "      <th>424168</th>\n",
       "      <td>424169</td>\n",
       "      <td>176</td>\n",
       "      <td>46</td>\n",
       "      <td>102</td>\n",
       "      <td>103</td>\n",
       "      <td>34</td>\n",
       "    </tr>\n",
       "    <tr>\n",
       "      <th>424169</th>\n",
       "      <td>424170</td>\n",
       "      <td>15</td>\n",
       "      <td>5</td>\n",
       "      <td>6</td>\n",
       "      <td>6</td>\n",
       "      <td>5</td>\n",
       "    </tr>\n",
       "  </tbody>\n",
       "</table>\n",
       "<p>424170 rows × 6 columns</p>\n",
       "</div>"
      ],
      "text/plain": [
       "        user_id  item_count  cat_count  seller_count  brand_count  active_days\n",
       "0             1          12          6             9            9            5\n",
       "1             2          43         14            14           15            9\n",
       "2             3          45         19            23           22           13\n",
       "3             4          28         13            12           12           10\n",
       "4             5          87         40            56           60           30\n",
       "...         ...         ...        ...           ...          ...          ...\n",
       "424165   424166          48         12            22           23           12\n",
       "424166   424167          15          9            12            9            8\n",
       "424167   424168         160         48           112           97           55\n",
       "424168   424169         176         46           102          103           34\n",
       "424169   424170          15          5             6            6            5\n",
       "\n",
       "[424170 rows x 6 columns]"
      ]
     },
     "execution_count": 180,
     "metadata": {},
     "output_type": "execute_result"
    }
   ],
   "source": [
    "allcount.reset_index()"
   ]
  },
  {
   "cell_type": "code",
   "execution_count": 181,
   "metadata": {},
   "outputs": [
    {
     "name": "stdout",
     "output_type": "stream",
     "text": [
      "Index(['item_count', 'cat_count', 'seller_count', 'brand_count',\n",
      "       'active_days'],\n",
      "      dtype='object')\n"
     ]
    },
    {
     "data": {
      "text/html": [
       "<div>\n",
       "<style scoped>\n",
       "    .dataframe tbody tr th:only-of-type {\n",
       "        vertical-align: middle;\n",
       "    }\n",
       "\n",
       "    .dataframe tbody tr th {\n",
       "        vertical-align: top;\n",
       "    }\n",
       "\n",
       "    .dataframe thead th {\n",
       "        text-align: right;\n",
       "    }\n",
       "</style>\n",
       "<table border=\"1\" class=\"dataframe\">\n",
       "  <thead>\n",
       "    <tr style=\"text-align: right;\">\n",
       "      <th></th>\n",
       "      <th>item_count</th>\n",
       "      <th>cat_count</th>\n",
       "      <th>seller_count</th>\n",
       "      <th>brand_count</th>\n",
       "      <th>active_days</th>\n",
       "    </tr>\n",
       "    <tr>\n",
       "      <th>user_id</th>\n",
       "      <th></th>\n",
       "      <th></th>\n",
       "      <th></th>\n",
       "      <th></th>\n",
       "      <th></th>\n",
       "    </tr>\n",
       "  </thead>\n",
       "  <tbody>\n",
       "    <tr>\n",
       "      <th>1</th>\n",
       "      <td>-0.619293</td>\n",
       "      <td>-0.985184</td>\n",
       "      <td>-0.713461</td>\n",
       "      <td>-0.725656</td>\n",
       "      <td>-0.839753</td>\n",
       "    </tr>\n",
       "    <tr>\n",
       "      <th>2</th>\n",
       "      <td>-0.315566</td>\n",
       "      <td>-0.507574</td>\n",
       "      <td>-0.565709</td>\n",
       "      <td>-0.544117</td>\n",
       "      <td>-0.557186</td>\n",
       "    </tr>\n",
       "    <tr>\n",
       "      <th>3</th>\n",
       "      <td>-0.295971</td>\n",
       "      <td>-0.209068</td>\n",
       "      <td>-0.299757</td>\n",
       "      <td>-0.332322</td>\n",
       "      <td>-0.274619</td>\n",
       "    </tr>\n",
       "    <tr>\n",
       "      <th>4</th>\n",
       "      <td>-0.462530</td>\n",
       "      <td>-0.567275</td>\n",
       "      <td>-0.624810</td>\n",
       "      <td>-0.634886</td>\n",
       "      <td>-0.486544</td>\n",
       "    </tr>\n",
       "    <tr>\n",
       "      <th>5</th>\n",
       "      <td>0.115530</td>\n",
       "      <td>1.044659</td>\n",
       "      <td>0.675404</td>\n",
       "      <td>0.817425</td>\n",
       "      <td>0.926290</td>\n",
       "    </tr>\n",
       "  </tbody>\n",
       "</table>\n",
       "</div>"
      ],
      "text/plain": [
       "         item_count  cat_count  seller_count  brand_count  active_days\n",
       "user_id                                                               \n",
       "1         -0.619293  -0.985184     -0.713461    -0.725656    -0.839753\n",
       "2         -0.315566  -0.507574     -0.565709    -0.544117    -0.557186\n",
       "3         -0.295971  -0.209068     -0.299757    -0.332322    -0.274619\n",
       "4         -0.462530  -0.567275     -0.624810    -0.634886    -0.486544\n",
       "5          0.115530   1.044659      0.675404     0.817425     0.926290"
      ]
     },
     "execution_count": 181,
     "metadata": {},
     "output_type": "execute_result"
    }
   ],
   "source": [
    "numeric_cols = allcount.columns[allcount.dtypes == 'int64']\n",
    "print(numeric_cols)\n",
    "numeric_col_means = allcount.loc[:, numeric_cols].mean()\n",
    "numeric_col_std = allcount.loc[:, numeric_cols].std()\n",
    "allcount.loc[:, numeric_cols] = (allcount.loc[:, numeric_cols] - numeric_col_means) / numeric_col_std\n",
    "allcount.head(5)"
   ]
  },
  {
   "cell_type": "code",
   "execution_count": 171,
   "metadata": {},
   "outputs": [
    {
     "data": {
      "text/plain": [
       "Index(['item_count', 'cat_count', 'seller_count', 'brand_count',\n",
       "       'active_days'],\n",
       "      dtype='object')"
      ]
     },
     "execution_count": 171,
     "metadata": {},
     "output_type": "execute_result"
    }
   ],
   "source": [
    "num_col"
   ]
  },
  {
   "cell_type": "code",
   "execution_count": 197,
   "metadata": {},
   "outputs": [],
   "source": [
    "#統計在雙11之前是否就有消費者有重複購買的情況發生\n",
    "#先選取user、seller、時間、與行為的內容\n",
    "repurchase = user_log[['user_id','seller_id','time_stamp','action_type']]\n",
    "#篩選出行為是購買的並且購買的時間要小於 1111這天\n",
    "repurchase = repurchase[(repurchase.action_type==2) &(repurchase.time_stamp<1111)]\n"
   ]
  },
  {
   "cell_type": "code",
   "execution_count": 198,
   "metadata": {},
   "outputs": [],
   "source": [
    "#因為可能會有一天購買多筆的情況出現所以將重複的刪除\n",
    "repurchase.drop_duplicates(inplace=True)\n",
    "#因主要要看是否有多少消費者已經購買過某一個店家重複的商品，所以groupby 的維度為user_id、seller_id並\n",
    "repurchase = repurchase.groupby(['user_id','seller_id'])['time_stamp'].count().reset_index()"
   ]
  },
  {
   "cell_type": "code",
   "execution_count": 199,
   "metadata": {},
   "outputs": [],
   "source": [
    "#選取大於1的資料\n",
    "repurchase = repurchase[repurchase.time_stamp>1]\n",
    "#選出使用者ID並且購買次數大於二的店家\n",
    "repurchase = repurchase.groupby(['user_id'])['seller_id'].count().reset_index()\n",
    "#將表格重新命名\n",
    "repurchase.rename(columns={'seller_id':'repurchase_count'},inplace=True)"
   ]
  },
  {
   "cell_type": "code",
   "execution_count": 201,
   "metadata": {},
   "outputs": [
    {
     "name": "stdout",
     "output_type": "stream",
     "text": [
      "Index(['repurchase_count'], dtype='object')\n"
     ]
    },
    {
     "data": {
      "text/html": [
       "<div>\n",
       "<style scoped>\n",
       "    .dataframe tbody tr th:only-of-type {\n",
       "        vertical-align: middle;\n",
       "    }\n",
       "\n",
       "    .dataframe tbody tr th {\n",
       "        vertical-align: top;\n",
       "    }\n",
       "\n",
       "    .dataframe thead th {\n",
       "        text-align: right;\n",
       "    }\n",
       "</style>\n",
       "<table border=\"1\" class=\"dataframe\">\n",
       "  <thead>\n",
       "    <tr style=\"text-align: right;\">\n",
       "      <th></th>\n",
       "      <th>user_id</th>\n",
       "      <th>repurchase_count</th>\n",
       "    </tr>\n",
       "  </thead>\n",
       "  <tbody>\n",
       "    <tr>\n",
       "      <th>0</th>\n",
       "      <td>6</td>\n",
       "      <td>-0.331954</td>\n",
       "    </tr>\n",
       "    <tr>\n",
       "      <th>1</th>\n",
       "      <td>8</td>\n",
       "      <td>0.590256</td>\n",
       "    </tr>\n",
       "    <tr>\n",
       "      <th>2</th>\n",
       "      <td>14</td>\n",
       "      <td>2.434676</td>\n",
       "    </tr>\n",
       "    <tr>\n",
       "      <th>3</th>\n",
       "      <td>21</td>\n",
       "      <td>2.434676</td>\n",
       "    </tr>\n",
       "    <tr>\n",
       "      <th>4</th>\n",
       "      <td>25</td>\n",
       "      <td>-0.331954</td>\n",
       "    </tr>\n",
       "    <tr>\n",
       "      <th>...</th>\n",
       "      <td>...</td>\n",
       "      <td>...</td>\n",
       "    </tr>\n",
       "    <tr>\n",
       "      <th>74760</th>\n",
       "      <td>424131</td>\n",
       "      <td>-0.331954</td>\n",
       "    </tr>\n",
       "    <tr>\n",
       "      <th>74761</th>\n",
       "      <td>424133</td>\n",
       "      <td>-0.331954</td>\n",
       "    </tr>\n",
       "    <tr>\n",
       "      <th>74762</th>\n",
       "      <td>424134</td>\n",
       "      <td>-0.331954</td>\n",
       "    </tr>\n",
       "    <tr>\n",
       "      <th>74763</th>\n",
       "      <td>424153</td>\n",
       "      <td>-0.331954</td>\n",
       "    </tr>\n",
       "    <tr>\n",
       "      <th>74764</th>\n",
       "      <td>424169</td>\n",
       "      <td>1.512466</td>\n",
       "    </tr>\n",
       "  </tbody>\n",
       "</table>\n",
       "<p>74765 rows × 2 columns</p>\n",
       "</div>"
      ],
      "text/plain": [
       "       user_id  repurchase_count\n",
       "0            6         -0.331954\n",
       "1            8          0.590256\n",
       "2           14          2.434676\n",
       "3           21          2.434676\n",
       "4           25         -0.331954\n",
       "...        ...               ...\n",
       "74760   424131         -0.331954\n",
       "74761   424133         -0.331954\n",
       "74762   424134         -0.331954\n",
       "74763   424153         -0.331954\n",
       "74764   424169          1.512466\n",
       "\n",
       "[74765 rows x 2 columns]"
      ]
     },
     "execution_count": 201,
     "metadata": {},
     "output_type": "execute_result"
    }
   ],
   "source": [
    "#對數值型特徵進行標準化\n",
    "numeric_col=repurchase.columns[repurchase.dtypes=='int64']\n",
    "print(numeric_col)\n",
    "numeric_col_mean = repurchase.loc[:,numeric_col].mean()\n",
    "numeric_col_std = repurchase.loc[:,numeric_col].std()\n",
    "repurchase.loc[:,numeric_col]=(repurchase.loc[:,numeric_col]-numeric_col_mean)/numeric_col_std\n",
    "repurchase"
   ]
  },
  {
   "cell_type": "code",
   "execution_count": 202,
   "metadata": {},
   "outputs": [],
   "source": [
    "#將資料合併到原本的user_info上\n",
    "user_info = pd.merge(user_info,repurchase,how='left',on=['user_id'])\n",
    "#假如遇到沒有重複購買的使用者用\"0\" 進行填充\n",
    "user_info.repurchase_count.fillna(0,inplace=True)\n",
    "#因為可能在一家店面重複購買多次所以將所有>=1的數字都調整為1\n",
    "user_info['repurchase_count']=user_info['repurchase_count'].apply(lambda x:1 if x!=0 else 0)\n"
   ]
  },
  {
   "cell_type": "code",
   "execution_count": 204,
   "metadata": {},
   "outputs": [],
   "source": [
    "del repurchase"
   ]
  },
  {
   "cell_type": "markdown",
   "metadata": {},
   "source": [
    "**用戶的活躍程度的變化**\n",
    "\n",
    "●用戶每個月點擊的次數\n",
    "\n",
    "●用戶每個月加購的次數\n",
    "\n",
    "●用戶每個月購買的次數\n",
    "\n",
    "●用戶每個月收藏的次數\n",
    "\n",
    "●用戶每個月互動的總次數"
   ]
  },
  {
   "cell_type": "code",
   "execution_count": 206,
   "metadata": {},
   "outputs": [
    {
     "name": "stderr",
     "output_type": "stream",
     "text": [
      "C:\\Users\\austin\\anaconda3\\lib\\site-packages\\pandas\\core\\indexing.py:966: SettingWithCopyWarning: \n",
      "A value is trying to be set on a copy of a slice from a DataFrame.\n",
      "Try using .loc[row_indexer,col_indexer] = value instead\n",
      "\n",
      "See the caveats in the documentation: https://pandas.pydata.org/pandas-docs/stable/user_guide/indexing.html#returning-a-view-versus-a-copy\n",
      "  self.obj[item] = s\n"
     ]
    }
   ],
   "source": [
    "monthly_action_count = user_log[['user_id','time_stamp','action_type']]\n",
    "result = list()\n",
    "for i in range(5,12):\n",
    "    #建構開始日\n",
    "    start = int(str(i)+'00')\n",
    "    #建構結束日\n",
    "    end = int(str(i)+'30')\n",
    "    #拿與第I個月份的數據\n",
    "    month_exam = monthly_action_count[(monthly_action_count.time_stamp>=start) & (monthly_action_count.time_stamp<=end)]\n",
    "    #對拿取出來的月份進行啞編碼\n",
    "    df = pd.get_dummies(month_exam['action_type'],prefix='%d_action'%i)\n",
    "    df['Month'+str(i)+'_action'] = df['Month'+str(i)+'_action_0']+df['Month'+str(i)+'_action_1']+df['Month'+str(i)+'_action_2']+df['Month'+str(i)+'_action_3']\n",
    "    # 將example 的 時段的數據設定為月份值\n",
    "    month_exam.loc[:,'time_stamp'] = month_exam.time_stamp.apply(lambda x:int(str(x)[0]) if len(str(x)) == 3 else int(str(x)[:2]))\n",
    "    result.append(pd.concat([month_exam,df],axis=1).groupby(['user_id','time_stamp'],as_index=False).sum())\n",
    "    \n",
    "for i in range(0,7):\n",
    "    user_info = pd.merge(user_info,result[i],how='left',on=['user_id'])\n",
    "    user_info.fillna(0,inplace=True)"
   ]
  },
  {
   "cell_type": "code",
   "execution_count": 211,
   "metadata": {},
   "outputs": [],
   "source": [
    "#將多餘的action_type 與 time_stamp刪除\n",
    "for i in ['time_stamp_x','action_type_x','time_stamp_y','action_type_y','time_stamp','action_type']:\n",
    "    del user_info[i]\n",
    "for i in range(5,12):\n",
    "    user_info['Month'+str(i)+'_action'] = user_info['Month'+str(i)+'_action_0']+user_info['Month'+str(i)+'_action_1']+user_info['Month'+str(i)+'_action_2']+user_info['Month'+str(i)+'_action_3']\n",
    "\n"
   ]
  },
  {
   "cell_type": "code",
   "execution_count": 213,
   "metadata": {},
   "outputs": [],
   "source": [
    "import pickle\n",
    "import os"
   ]
  },
  {
   "cell_type": "code",
   "execution_count": 214,
   "metadata": {},
   "outputs": [],
   "source": [
    "user_file_path = 'user_info_features.pkl'\n",
    "pickle.dump(user_info,open(user_file_path,'wb'))"
   ]
  },
  {
   "cell_type": "code",
   "execution_count": 221,
   "metadata": {},
   "outputs": [
    {
     "name": "stdout",
     "output_type": "stream",
     "text": [
      "<class 'pandas.core.frame.DataFrame'>\n",
      "Int64Index: 424170 entries, 0 to 424169\n",
      "Data columns (total 72 columns):\n",
      " #   Column                     Non-Null Count   Dtype  \n",
      "---  ------                     --------------   -----  \n",
      " 0   user_id                    424170 non-null  int64  \n",
      " 1   age_0.0                    424170 non-null  uint8  \n",
      " 2   age_1.0                    424170 non-null  uint8  \n",
      " 3   age_2.0                    424170 non-null  uint8  \n",
      " 4   age_3.0                    424170 non-null  uint8  \n",
      " 5   age_4.0                    424170 non-null  uint8  \n",
      " 6   age_5.0                    424170 non-null  uint8  \n",
      " 7   age_6.0                    424170 non-null  uint8  \n",
      " 8   age_7.0                    424170 non-null  uint8  \n",
      " 9   age_8.0                    424170 non-null  uint8  \n",
      " 10  female                     424170 non-null  uint8  \n",
      " 11  male                       424170 non-null  uint8  \n",
      " 12  unknown                    424170 non-null  uint8  \n",
      " 13  user_action_total_0        424170 non-null  float64\n",
      " 14  user_action_total_1        424170 non-null  float64\n",
      " 15  user_action_total_2        424170 non-null  float64\n",
      " 16  user_action_total_3        424170 non-null  float64\n",
      " 17  user_action_total          424170 non-null  float64\n",
      " 18  user_total_action_ratio    424170 non-null  float64\n",
      " 19  user_total_action_diff     424170 non-null  float64\n",
      " 20  user_click_rate            424170 non-null  float64\n",
      " 21  user_click_diff            424170 non-null  float64\n",
      " 22  user_addtocart_rate        424170 non-null  float64\n",
      " 23  user_addtocart_diff        424170 non-null  float64\n",
      " 24  user_purchase_rate         424170 non-null  float64\n",
      " 25  user_purchase_diff         424170 non-null  float64\n",
      " 26  user_save_rate             424170 non-null  float64\n",
      " 27  user_save_diff             424170 non-null  float64\n",
      " 28  click_action_rate          424170 non-null  float64\n",
      " 29  addtocart_action_rate      424170 non-null  float64\n",
      " 30  purchase_action_rate       424170 non-null  float64\n",
      " 31  save_action_rate           424170 non-null  float64\n",
      " 32  user_action_total_0_ratio  424170 non-null  float64\n",
      " 33  user_pruchase_ratio        424170 non-null  float64\n",
      " 34  user_addtocart_ratio       424170 non-null  float64\n",
      " 35  user_save_ratio            424170 non-null  float64\n",
      " 36  repurchase_count           424170 non-null  int64  \n",
      " 37  5_action_0                 424170 non-null  float64\n",
      " 38  5_action_1                 424170 non-null  float64\n",
      " 39  5_action_2                 424170 non-null  float64\n",
      " 40  5_action_3                 424170 non-null  float64\n",
      " 41  5_action                   424170 non-null  float64\n",
      " 42  6_action_0                 424170 non-null  float64\n",
      " 43  6_action_1                 424170 non-null  float64\n",
      " 44  6_action_2                 424170 non-null  float64\n",
      " 45  6_action_3                 424170 non-null  float64\n",
      " 46  6_action                   424170 non-null  float64\n",
      " 47  7_action_0                 424170 non-null  float64\n",
      " 48  7_action_1                 424170 non-null  float64\n",
      " 49  7_action_2                 424170 non-null  float64\n",
      " 50  7_action_3                 424170 non-null  float64\n",
      " 51  7_action                   424170 non-null  float64\n",
      " 52  8_action_0                 424170 non-null  float64\n",
      " 53  8_action_1                 424170 non-null  float64\n",
      " 54  8_action_2                 424170 non-null  float64\n",
      " 55  8_action_3                 424170 non-null  float64\n",
      " 56  8_action                   424170 non-null  float64\n",
      " 57  9_action_0                 424170 non-null  float64\n",
      " 58  9_action_1                 424170 non-null  float64\n",
      " 59  9_action_2                 424170 non-null  float64\n",
      " 60  9_action_3                 424170 non-null  float64\n",
      " 61  9_action                   424170 non-null  float64\n",
      " 62  10_action_0                424170 non-null  float64\n",
      " 63  10_action_1                424170 non-null  float64\n",
      " 64  10_action_2                424170 non-null  float64\n",
      " 65  10_action_3                424170 non-null  float64\n",
      " 66  10_action                  424170 non-null  float64\n",
      " 67  11_action_0                424170 non-null  float64\n",
      " 68  11_action_1                424170 non-null  float64\n",
      " 69  11_action_2                424170 non-null  float64\n",
      " 70  11_action_3                424170 non-null  float64\n",
      " 71  11_action                  424170 non-null  float64\n",
      "dtypes: float64(58), int64(2), uint8(12)\n",
      "memory usage: 202.3 MB\n"
     ]
    }
   ],
   "source": [
    "#讀取特徵\n",
    "user_file_path='user_info_features.pkl'\n",
    "if os.path.exists(user_file_path):\n",
    "    user_info = pickle.load(open(user_file_path,'rb'))\n",
    "user_info.info()"
   ]
  },
  {
   "cell_type": "code",
   "execution_count": 222,
   "metadata": {},
   "outputs": [],
   "source": [
    "#統計每個用戶的商品，商品的類別、這些商品品牌總數，並合併成表格形式如上面用戶特徵一樣，並將這些特徵命好名稱\n",
    "item_count = user_log[['seller_id','item_id']].groupby(['seller_id'])['item_id'].nunique().reset_index()\n",
    "cat_count = user_log[['seller_id','cat_id']].groupby(['seller_id'])['cat_id'].nunique().reset_index()\n",
    "brand_count = user_log[['seller_id','brand_id']].groupby(['seller_id'])['brand_id'].nunique().reset_index()\n",
    "item_count.rename(columns={'item_id':'item_count'},inplace=True)\n",
    "cat_count.rename(columns={'cat_id':'cat_count'},inplace=True)\n",
    "brand_count.rename(columns={'brand_id':'brand_count'},inplace=True)\n"
   ]
  },
  {
   "cell_type": "code",
   "execution_count": 250,
   "metadata": {},
   "outputs": [],
   "source": [
    "#商品在雙11之前的重複買家的數量\n",
    "#第一步選取雙11以前的數據並且將action_type鎖定在購買過\n",
    "repurchase_count = user_log[(user_log.time_stamp < 1111) &(user_log.action_type==2)]\n",
    "#將數據根據每個銷售Id呈列出有哪些user_id 使用並將其轉呈dataframe 的形式\n",
    "repurchase_count = repurchase_count.groupby(['seller_id'])['user_id'].value_counts().to_frame()\n",
    "#將數據名稱重新命名\n",
    "repurchase_count.rename(columns={'user_id':'user_buy_count'},inplace=True)\n",
    "#目前看來像是樞紐分析表並沒有，每列的index 給予每列相對應的代號\n",
    "repurchase_count.reset_index(inplace=True)\n",
    "#因為要計算那些人重複購買篩選出買過大於1次的\n",
    "repurchase_count = repurchase_count[repurchase_count.user_buy_count >1]\n",
    "#計算出每個seller_id 有多少人購買\n",
    "repurchase_count = repurchase_count.groupby(['seller_id']).apply(lambda x:len(x.user_id)).reset_index()\n",
    "#合併seller_id 與對應的重複購買的人數，並且將沒有重複購買的seller_id的數字填充為0\n",
    "repurchase_count = pd.merge(pd.DataFrame({'seller_id':range(1,4996,1)}),repurchase_count,how='left',on=['seller_id']).fillna(0)\n",
    "repurchase_count.rename(columns={0:'repurchase_count'},inplace=True)\n"
   ]
  },
  {
   "cell_type": "code",
   "execution_count": 278,
   "metadata": {},
   "outputs": [
    {
     "data": {
      "text/html": [
       "<div>\n",
       "<style scoped>\n",
       "    .dataframe tbody tr th:only-of-type {\n",
       "        vertical-align: middle;\n",
       "    }\n",
       "\n",
       "    .dataframe tbody tr th {\n",
       "        vertical-align: top;\n",
       "    }\n",
       "\n",
       "    .dataframe thead th {\n",
       "        text-align: right;\n",
       "    }\n",
       "</style>\n",
       "<table border=\"1\" class=\"dataframe\">\n",
       "  <thead>\n",
       "    <tr style=\"text-align: right;\">\n",
       "      <th></th>\n",
       "      <th>seller_id</th>\n",
       "      <th>0</th>\n",
       "    </tr>\n",
       "  </thead>\n",
       "  <tbody>\n",
       "    <tr>\n",
       "      <th>0</th>\n",
       "      <td>1</td>\n",
       "      <td>2214.0</td>\n",
       "    </tr>\n",
       "    <tr>\n",
       "      <th>1</th>\n",
       "      <td>2</td>\n",
       "      <td>4.0</td>\n",
       "    </tr>\n",
       "    <tr>\n",
       "      <th>2</th>\n",
       "      <td>3</td>\n",
       "      <td>2.0</td>\n",
       "    </tr>\n",
       "    <tr>\n",
       "      <th>3</th>\n",
       "      <td>4</td>\n",
       "      <td>48.0</td>\n",
       "    </tr>\n",
       "    <tr>\n",
       "      <th>4</th>\n",
       "      <td>5</td>\n",
       "      <td>14.0</td>\n",
       "    </tr>\n",
       "  </tbody>\n",
       "</table>\n",
       "</div>"
      ],
      "text/plain": [
       "   seller_id       0\n",
       "0          1  2214.0\n",
       "1          2     4.0\n",
       "2          3     2.0\n",
       "3          4    48.0\n",
       "4          5    14.0"
      ]
     },
     "execution_count": 278,
     "metadata": {},
     "output_type": "execute_result"
    }
   ],
   "source": [
    "repurchase_count.head()"
   ]
  },
  {
   "cell_type": "code",
   "execution_count": 298,
   "metadata": {},
   "outputs": [],
   "source": [
    "#統計seller被點擊、加入購物車、購買、收藏的次數\n",
    "#計算個階段轉換率\n",
    "seller = user_log[['seller_id','action_type']]\n",
    "#將action_type 裡面得4種數據進行啞編碼\n",
    "df  = pd.get_dummies(seller['action_type'],prefix='seller')\n",
    "#將兩類數具合併並根據seller_id 做 groupby 給予 index 並將\n",
    "seller = pd.concat([seller,df],axis=1).groupby(['seller_id'],as_index=False).sum()\n",
    "seller.drop('action_type',axis=1,inplace=True)\n"
   ]
  },
  {
   "cell_type": "code",
   "execution_count": 299,
   "metadata": {},
   "outputs": [
    {
     "data": {
      "text/plain": [
       "Index(['seller_id', 'seller_0', 'seller_1', 'seller_2', 'seller_3'], dtype='object')"
      ]
     },
     "execution_count": 299,
     "metadata": {},
     "output_type": "execute_result"
    }
   ],
   "source": [
    "seller.columns"
   ]
  },
  {
   "cell_type": "code",
   "execution_count": 300,
   "metadata": {},
   "outputs": [],
   "source": [
    "#開始計算轉換率，計算標準是 點擊後各加入購物車、購買、收藏的次數等指標的轉換率\n",
    "seller['seller_purchase_rate'] = round(seller['seller_2'] / seller['seller_0'],5)\n",
    "seller['seller_addtocart_rate'] = round(seller['seller_1'] / seller['seller_0'],5)\n",
    "seller['seller_save_rate'] = round(seller['seller_3'] / seller['seller_0'],5)\n"
   ]
  },
  {
   "cell_type": "code",
   "execution_count": 274,
   "metadata": {},
   "outputs": [],
   "source": [
    "#統計每一個銷售人被用戶點擊的購買、加入購物車、收藏等次數\n",
    "buyer_count = user_log[['user_id','seller_id','action_type']]\n",
    "var = pd.get_dummies(buyer_count['action_type'],prefix='seller_buyer_count')\n",
    "#將兩張表合併\n",
    "buyer_count = pd.concat([buyer_count,var],axis=1)\n",
    "buyer_count.drop('action_type',axis=1,inplace=True)\n",
    "#將重複的數值刪除\n",
    "buyer_count.drop_duplicates(inplace=True)\n",
    "#開始計算每個銷售者個行為的加總\n",
    "click_count = buyer_count.groupby(['seller_id']).apply(lambda x:x.seller_buyer_count_0.sum())\n",
    "addtocart_count = buyer_count.groupby(['seller_id']).apply(lambda x:x.seller_buyer_count_1.sum())\n",
    "buy_count = buyer_count.groupby(['seller_id']).apply(lambda x:x.seller_buyer_count_2.sum())\n",
    "save_count = buyer_count.groupby(['seller_id']).apply(lambda x:x.seller_buyer_count_3.sum())\n",
    "#將剛剛計算的表格合併\n",
    "buyer_count = pd.concat([click_count,addtocart_count,buy_count,save_count],axis=1).reset_index()\n",
    "buyer_count.rename(columns={0:'click_count',1:'addtocart_count',2:'buy_count',3:'save_count'},inplace=True)\n"
   ]
  },
  {
   "cell_type": "code",
   "execution_count": 301,
   "metadata": {},
   "outputs": [],
   "source": [
    "#將對商品種類計算的所有的表進行合併\n",
    "seller = pd.merge(seller,item_count,on=['seller_id'])\n",
    "seller = pd.merge(seller,cat_count,on=['seller_id'])\n",
    "seller = pd.merge(seller,brand_count,on=['seller_id'])\n",
    "seller = pd.merge(seller,repurchase_count,on=['seller_id'])\n",
    "seller = pd.merge(seller,buyer_count,on=['seller_id'])\n",
    "\n"
   ]
  },
  {
   "cell_type": "code",
   "execution_count": 302,
   "metadata": {
    "scrolled": true
   },
   "outputs": [
    {
     "data": {
      "text/html": [
       "<div>\n",
       "<style scoped>\n",
       "    .dataframe tbody tr th:only-of-type {\n",
       "        vertical-align: middle;\n",
       "    }\n",
       "\n",
       "    .dataframe tbody tr th {\n",
       "        vertical-align: top;\n",
       "    }\n",
       "\n",
       "    .dataframe thead th {\n",
       "        text-align: right;\n",
       "    }\n",
       "</style>\n",
       "<table border=\"1\" class=\"dataframe\">\n",
       "  <thead>\n",
       "    <tr style=\"text-align: right;\">\n",
       "      <th></th>\n",
       "      <th>seller_id</th>\n",
       "      <th>seller_0</th>\n",
       "      <th>seller_1</th>\n",
       "      <th>seller_2</th>\n",
       "      <th>seller_3</th>\n",
       "      <th>seller_purchase_rate</th>\n",
       "      <th>seller_addtocart_rate</th>\n",
       "      <th>seller_save_rate</th>\n",
       "      <th>item_count</th>\n",
       "      <th>cat_count</th>\n",
       "      <th>brand_count</th>\n",
       "      <th>0</th>\n",
       "      <th>click_count</th>\n",
       "      <th>seller_peopleNum_1</th>\n",
       "      <th>buy_count</th>\n",
       "      <th>save_count</th>\n",
       "    </tr>\n",
       "  </thead>\n",
       "  <tbody>\n",
       "    <tr>\n",
       "      <th>0</th>\n",
       "      <td>1</td>\n",
       "      <td>308236.0</td>\n",
       "      <td>444.0</td>\n",
       "      <td>17705.0</td>\n",
       "      <td>12755.0</td>\n",
       "      <td>0.05744</td>\n",
       "      <td>0.00144</td>\n",
       "      <td>0.04138</td>\n",
       "      <td>2977</td>\n",
       "      <td>44</td>\n",
       "      <td>398</td>\n",
       "      <td>2214.0</td>\n",
       "      <td>29251</td>\n",
       "      <td>265</td>\n",
       "      <td>7666</td>\n",
       "      <td>4965</td>\n",
       "    </tr>\n",
       "    <tr>\n",
       "      <th>1</th>\n",
       "      <td>2</td>\n",
       "      <td>2030.0</td>\n",
       "      <td>8.0</td>\n",
       "      <td>189.0</td>\n",
       "      <td>144.0</td>\n",
       "      <td>0.09310</td>\n",
       "      <td>0.00394</td>\n",
       "      <td>0.07094</td>\n",
       "      <td>154</td>\n",
       "      <td>10</td>\n",
       "      <td>9</td>\n",
       "      <td>4.0</td>\n",
       "      <td>902</td>\n",
       "      <td>6</td>\n",
       "      <td>161</td>\n",
       "      <td>127</td>\n",
       "    </tr>\n",
       "    <tr>\n",
       "      <th>2</th>\n",
       "      <td>3</td>\n",
       "      <td>2399.0</td>\n",
       "      <td>4.0</td>\n",
       "      <td>67.0</td>\n",
       "      <td>175.0</td>\n",
       "      <td>0.02793</td>\n",
       "      <td>0.00167</td>\n",
       "      <td>0.07295</td>\n",
       "      <td>171</td>\n",
       "      <td>4</td>\n",
       "      <td>5</td>\n",
       "      <td>2.0</td>\n",
       "      <td>1103</td>\n",
       "      <td>4</td>\n",
       "      <td>65</td>\n",
       "      <td>150</td>\n",
       "    </tr>\n",
       "    <tr>\n",
       "      <th>3</th>\n",
       "      <td>4</td>\n",
       "      <td>2646.0</td>\n",
       "      <td>2.0</td>\n",
       "      <td>294.0</td>\n",
       "      <td>164.0</td>\n",
       "      <td>0.11111</td>\n",
       "      <td>0.00076</td>\n",
       "      <td>0.06198</td>\n",
       "      <td>155</td>\n",
       "      <td>7</td>\n",
       "      <td>6</td>\n",
       "      <td>48.0</td>\n",
       "      <td>1384</td>\n",
       "      <td>2</td>\n",
       "      <td>201</td>\n",
       "      <td>153</td>\n",
       "    </tr>\n",
       "    <tr>\n",
       "      <th>4</th>\n",
       "      <td>5</td>\n",
       "      <td>7483.0</td>\n",
       "      <td>9.0</td>\n",
       "      <td>144.0</td>\n",
       "      <td>556.0</td>\n",
       "      <td>0.01924</td>\n",
       "      <td>0.00120</td>\n",
       "      <td>0.07430</td>\n",
       "      <td>660</td>\n",
       "      <td>23</td>\n",
       "      <td>10</td>\n",
       "      <td>14.0</td>\n",
       "      <td>3535</td>\n",
       "      <td>9</td>\n",
       "      <td>120</td>\n",
       "      <td>458</td>\n",
       "    </tr>\n",
       "  </tbody>\n",
       "</table>\n",
       "</div>"
      ],
      "text/plain": [
       "   seller_id  seller_0  seller_1  seller_2  seller_3  seller_purchase_rate  \\\n",
       "0          1  308236.0     444.0   17705.0   12755.0               0.05744   \n",
       "1          2    2030.0       8.0     189.0     144.0               0.09310   \n",
       "2          3    2399.0       4.0      67.0     175.0               0.02793   \n",
       "3          4    2646.0       2.0     294.0     164.0               0.11111   \n",
       "4          5    7483.0       9.0     144.0     556.0               0.01924   \n",
       "\n",
       "   seller_addtocart_rate  seller_save_rate  item_count  cat_count  \\\n",
       "0                0.00144           0.04138        2977         44   \n",
       "1                0.00394           0.07094         154         10   \n",
       "2                0.00167           0.07295         171          4   \n",
       "3                0.00076           0.06198         155          7   \n",
       "4                0.00120           0.07430         660         23   \n",
       "\n",
       "   brand_count       0  click_count  seller_peopleNum_1  buy_count  save_count  \n",
       "0          398  2214.0        29251                 265       7666        4965  \n",
       "1            9     4.0          902                   6        161         127  \n",
       "2            5     2.0         1103                   4         65         150  \n",
       "3            6    48.0         1384                   2        201         153  \n",
       "4           10    14.0         3535                   9        120         458  "
      ]
     },
     "execution_count": 302,
     "metadata": {},
     "output_type": "execute_result"
    }
   ],
   "source": [
    "seller.head()"
   ]
  },
  {
   "cell_type": "code",
   "execution_count": 303,
   "metadata": {},
   "outputs": [],
   "source": [
    "#計算出每個銷售者的商品的數量、種類、品牌佔據總量的比例(表示銷售者整體的市場規模大小)\n",
    "seller['item_percentage'] = seller['item_count'] / user_log['item_id'].nunique()\n",
    "seller['cat_percentage'] = seller['cat_count'] / user_log['cat_id'].nunique()\n",
    "seller['brand_percentage'] = seller['brand_count'] / user_log['brand_id'].nunique()"
   ]
  },
  {
   "cell_type": "code",
   "execution_count": 307,
   "metadata": {},
   "outputs": [
    {
     "data": {
      "text/html": [
       "<div>\n",
       "<style scoped>\n",
       "    .dataframe tbody tr th:only-of-type {\n",
       "        vertical-align: middle;\n",
       "    }\n",
       "\n",
       "    .dataframe tbody tr th {\n",
       "        vertical-align: top;\n",
       "    }\n",
       "\n",
       "    .dataframe thead th {\n",
       "        text-align: right;\n",
       "    }\n",
       "</style>\n",
       "<table border=\"1\" class=\"dataframe\">\n",
       "  <thead>\n",
       "    <tr style=\"text-align: right;\">\n",
       "      <th></th>\n",
       "      <th>seller_id</th>\n",
       "      <th>seller_0</th>\n",
       "      <th>seller_1</th>\n",
       "      <th>seller_2</th>\n",
       "      <th>seller_3</th>\n",
       "      <th>seller_purchase_rate</th>\n",
       "      <th>seller_addtocart_rate</th>\n",
       "      <th>seller_save_rate</th>\n",
       "      <th>item_count</th>\n",
       "      <th>cat_count</th>\n",
       "      <th>brand_count</th>\n",
       "      <th>buyer_count</th>\n",
       "      <th>click_count</th>\n",
       "      <th>addtocart_count</th>\n",
       "      <th>buy_count</th>\n",
       "      <th>save_count</th>\n",
       "      <th>item_percentage</th>\n",
       "      <th>cat_percentage</th>\n",
       "      <th>brand_percentage</th>\n",
       "    </tr>\n",
       "  </thead>\n",
       "  <tbody>\n",
       "    <tr>\n",
       "      <th>0</th>\n",
       "      <td>1</td>\n",
       "      <td>308236.0</td>\n",
       "      <td>444.0</td>\n",
       "      <td>17705.0</td>\n",
       "      <td>12755.0</td>\n",
       "      <td>0.05744</td>\n",
       "      <td>0.00144</td>\n",
       "      <td>0.04138</td>\n",
       "      <td>2977</td>\n",
       "      <td>44</td>\n",
       "      <td>398</td>\n",
       "      <td>2214.0</td>\n",
       "      <td>29251</td>\n",
       "      <td>265</td>\n",
       "      <td>7666</td>\n",
       "      <td>4965</td>\n",
       "      <td>0.002730</td>\n",
       "      <td>0.026538</td>\n",
       "      <td>0.004358</td>\n",
       "    </tr>\n",
       "    <tr>\n",
       "      <th>1</th>\n",
       "      <td>2</td>\n",
       "      <td>2030.0</td>\n",
       "      <td>8.0</td>\n",
       "      <td>189.0</td>\n",
       "      <td>144.0</td>\n",
       "      <td>0.09310</td>\n",
       "      <td>0.00394</td>\n",
       "      <td>0.07094</td>\n",
       "      <td>154</td>\n",
       "      <td>10</td>\n",
       "      <td>9</td>\n",
       "      <td>4.0</td>\n",
       "      <td>902</td>\n",
       "      <td>6</td>\n",
       "      <td>161</td>\n",
       "      <td>127</td>\n",
       "      <td>0.000141</td>\n",
       "      <td>0.006031</td>\n",
       "      <td>0.000099</td>\n",
       "    </tr>\n",
       "    <tr>\n",
       "      <th>2</th>\n",
       "      <td>3</td>\n",
       "      <td>2399.0</td>\n",
       "      <td>4.0</td>\n",
       "      <td>67.0</td>\n",
       "      <td>175.0</td>\n",
       "      <td>0.02793</td>\n",
       "      <td>0.00167</td>\n",
       "      <td>0.07295</td>\n",
       "      <td>171</td>\n",
       "      <td>4</td>\n",
       "      <td>5</td>\n",
       "      <td>2.0</td>\n",
       "      <td>1103</td>\n",
       "      <td>4</td>\n",
       "      <td>65</td>\n",
       "      <td>150</td>\n",
       "      <td>0.000157</td>\n",
       "      <td>0.002413</td>\n",
       "      <td>0.000055</td>\n",
       "    </tr>\n",
       "    <tr>\n",
       "      <th>3</th>\n",
       "      <td>4</td>\n",
       "      <td>2646.0</td>\n",
       "      <td>2.0</td>\n",
       "      <td>294.0</td>\n",
       "      <td>164.0</td>\n",
       "      <td>0.11111</td>\n",
       "      <td>0.00076</td>\n",
       "      <td>0.06198</td>\n",
       "      <td>155</td>\n",
       "      <td>7</td>\n",
       "      <td>6</td>\n",
       "      <td>48.0</td>\n",
       "      <td>1384</td>\n",
       "      <td>2</td>\n",
       "      <td>201</td>\n",
       "      <td>153</td>\n",
       "      <td>0.000142</td>\n",
       "      <td>0.004222</td>\n",
       "      <td>0.000066</td>\n",
       "    </tr>\n",
       "    <tr>\n",
       "      <th>4</th>\n",
       "      <td>5</td>\n",
       "      <td>7483.0</td>\n",
       "      <td>9.0</td>\n",
       "      <td>144.0</td>\n",
       "      <td>556.0</td>\n",
       "      <td>0.01924</td>\n",
       "      <td>0.00120</td>\n",
       "      <td>0.07430</td>\n",
       "      <td>660</td>\n",
       "      <td>23</td>\n",
       "      <td>10</td>\n",
       "      <td>14.0</td>\n",
       "      <td>3535</td>\n",
       "      <td>9</td>\n",
       "      <td>120</td>\n",
       "      <td>458</td>\n",
       "      <td>0.000605</td>\n",
       "      <td>0.013872</td>\n",
       "      <td>0.000109</td>\n",
       "    </tr>\n",
       "  </tbody>\n",
       "</table>\n",
       "</div>"
      ],
      "text/plain": [
       "   seller_id  seller_0  seller_1  seller_2  seller_3  seller_purchase_rate  \\\n",
       "0          1  308236.0     444.0   17705.0   12755.0               0.05744   \n",
       "1          2    2030.0       8.0     189.0     144.0               0.09310   \n",
       "2          3    2399.0       4.0      67.0     175.0               0.02793   \n",
       "3          4    2646.0       2.0     294.0     164.0               0.11111   \n",
       "4          5    7483.0       9.0     144.0     556.0               0.01924   \n",
       "\n",
       "   seller_addtocart_rate  seller_save_rate  item_count  cat_count  \\\n",
       "0                0.00144           0.04138        2977         44   \n",
       "1                0.00394           0.07094         154         10   \n",
       "2                0.00167           0.07295         171          4   \n",
       "3                0.00076           0.06198         155          7   \n",
       "4                0.00120           0.07430         660         23   \n",
       "\n",
       "   brand_count  buyer_count  click_count  addtocart_count  buy_count  \\\n",
       "0          398       2214.0        29251              265       7666   \n",
       "1            9          4.0          902                6        161   \n",
       "2            5          2.0         1103                4         65   \n",
       "3            6         48.0         1384                2        201   \n",
       "4           10         14.0         3535                9        120   \n",
       "\n",
       "   save_count  item_percentage  cat_percentage  brand_percentage  \n",
       "0        4965         0.002730        0.026538          0.004358  \n",
       "1         127         0.000141        0.006031          0.000099  \n",
       "2         150         0.000157        0.002413          0.000055  \n",
       "3         153         0.000142        0.004222          0.000066  \n",
       "4         458         0.000605        0.013872          0.000109  "
      ]
     },
     "execution_count": 307,
     "metadata": {},
     "output_type": "execute_result"
    }
   ],
   "source": [
    "seller.head()"
   ]
  },
  {
   "cell_type": "code",
   "execution_count": 308,
   "metadata": {},
   "outputs": [],
   "source": [
    "#計算出每用銷售者被點擊、加入購物車、購買與收藏的人數佔整體點擊、加入購物車、購買與收藏的比例\n",
    "seller['click_buyer_percentage'] = seller['click_count']/user_log[user_log['action_type']==0]['user_id'].nunique()\n",
    "seller['addtocart_buyer_percentage'] = seller['addtocart_count']/user_log[user_log['action_type']==1]['user_id'].nunique()\n",
    "seller['buy_buyer_percentage'] = seller['buy_count']/user_log[user_log['action_type']==2]['user_id'].nunique()\n",
    "seller['save_buyer_percentage'] = seller['save_count']/user_log[user_log['action_type']==3]['user_id'].nunique()"
   ]
  },
  {
   "cell_type": "code",
   "execution_count": 310,
   "metadata": {},
   "outputs": [
    {
     "name": "stdout",
     "output_type": "stream",
     "text": [
      "Index(['seller_0', 'seller_1', 'seller_2', 'seller_3', 'seller_purchase_rate',\n",
      "       'seller_addtocart_rate', 'seller_save_rate', 'item_count', 'cat_count',\n",
      "       'brand_count', 'buyer_count', 'click_count', 'addtocart_count',\n",
      "       'buy_count', 'save_count', 'item_percentage', 'cat_percentage',\n",
      "       'brand_percentage', 'click_buyer_percentage',\n",
      "       'addtocart_buyer_percentage', 'buy_buyer_percentage',\n",
      "       'save_buyer_percentage'],\n",
      "      dtype='object')\n"
     ]
    }
   ],
   "source": [
    "#對數值進行標準化\n",
    "sell_num_column = seller.columns[seller.dtypes!='uint64']\n",
    "print(sell_num_column)\n"
   ]
  },
  {
   "cell_type": "code",
   "execution_count": 312,
   "metadata": {},
   "outputs": [
    {
     "data": {
      "text/html": [
       "<div>\n",
       "<style scoped>\n",
       "    .dataframe tbody tr th:only-of-type {\n",
       "        vertical-align: middle;\n",
       "    }\n",
       "\n",
       "    .dataframe tbody tr th {\n",
       "        vertical-align: top;\n",
       "    }\n",
       "\n",
       "    .dataframe thead th {\n",
       "        text-align: right;\n",
       "    }\n",
       "</style>\n",
       "<table border=\"1\" class=\"dataframe\">\n",
       "  <thead>\n",
       "    <tr style=\"text-align: right;\">\n",
       "      <th></th>\n",
       "      <th>seller_id</th>\n",
       "      <th>seller_0</th>\n",
       "      <th>seller_1</th>\n",
       "      <th>seller_2</th>\n",
       "      <th>seller_3</th>\n",
       "      <th>seller_purchase_rate</th>\n",
       "      <th>seller_addtocart_rate</th>\n",
       "      <th>seller_save_rate</th>\n",
       "      <th>item_count</th>\n",
       "      <th>cat_count</th>\n",
       "      <th>...</th>\n",
       "      <th>addtocart_count</th>\n",
       "      <th>buy_count</th>\n",
       "      <th>save_count</th>\n",
       "      <th>item_percentage</th>\n",
       "      <th>cat_percentage</th>\n",
       "      <th>brand_percentage</th>\n",
       "      <th>click_buyer_percentage</th>\n",
       "      <th>addtocart_buyer_percentage</th>\n",
       "      <th>buy_buyer_percentage</th>\n",
       "      <th>save_buyer_percentage</th>\n",
       "    </tr>\n",
       "  </thead>\n",
       "  <tbody>\n",
       "    <tr>\n",
       "      <th>0</th>\n",
       "      <td>1</td>\n",
       "      <td>10.972787</td>\n",
       "      <td>11.897055</td>\n",
       "      <td>14.249959</td>\n",
       "      <td>7.235092</td>\n",
       "      <td>-0.120234</td>\n",
       "      <td>-0.051657</td>\n",
       "      <td>-0.053750</td>\n",
       "      <td>8.107215</td>\n",
       "      <td>1.797897</td>\n",
       "      <td>...</td>\n",
       "      <td>9.703700</td>\n",
       "      <td>10.099788</td>\n",
       "      <td>6.360937</td>\n",
       "      <td>8.107215</td>\n",
       "      <td>1.797897</td>\n",
       "      <td>8.971108</td>\n",
       "      <td>6.739658</td>\n",
       "      <td>9.703700</td>\n",
       "      <td>10.099788</td>\n",
       "      <td>6.360937</td>\n",
       "    </tr>\n",
       "    <tr>\n",
       "      <th>1</th>\n",
       "      <td>2</td>\n",
       "      <td>-0.282662</td>\n",
       "      <td>-0.204431</td>\n",
       "      <td>-0.392982</td>\n",
       "      <td>-0.272506</td>\n",
       "      <td>-0.018504</td>\n",
       "      <td>0.119926</td>\n",
       "      <td>-0.013843</td>\n",
       "      <td>-0.188952</td>\n",
       "      <td>-0.269604</td>\n",
       "      <td>...</td>\n",
       "      <td>-0.248208</td>\n",
       "      <td>-0.393341</td>\n",
       "      <td>-0.372739</td>\n",
       "      <td>-0.188952</td>\n",
       "      <td>-0.269604</td>\n",
       "      <td>-0.287303</td>\n",
       "      <td>-0.444305</td>\n",
       "      <td>-0.248208</td>\n",
       "      <td>-0.393341</td>\n",
       "      <td>-0.372739</td>\n",
       "    </tr>\n",
       "    <tr>\n",
       "      <th>2</th>\n",
       "      <td>3</td>\n",
       "      <td>-0.269099</td>\n",
       "      <td>-0.315454</td>\n",
       "      <td>-0.494971</td>\n",
       "      <td>-0.254051</td>\n",
       "      <td>-0.204419</td>\n",
       "      <td>-0.035871</td>\n",
       "      <td>-0.011130</td>\n",
       "      <td>-0.138993</td>\n",
       "      <td>-0.634457</td>\n",
       "      <td>...</td>\n",
       "      <td>-0.325057</td>\n",
       "      <td>-0.527563</td>\n",
       "      <td>-0.340727</td>\n",
       "      <td>-0.138993</td>\n",
       "      <td>-0.634457</td>\n",
       "      <td>-0.382505</td>\n",
       "      <td>-0.393370</td>\n",
       "      <td>-0.325057</td>\n",
       "      <td>-0.527563</td>\n",
       "      <td>-0.340727</td>\n",
       "    </tr>\n",
       "    <tr>\n",
       "      <th>3</th>\n",
       "      <td>4</td>\n",
       "      <td>-0.260019</td>\n",
       "      <td>-0.370965</td>\n",
       "      <td>-0.305204</td>\n",
       "      <td>-0.260600</td>\n",
       "      <td>0.032874</td>\n",
       "      <td>-0.098327</td>\n",
       "      <td>-0.025940</td>\n",
       "      <td>-0.186014</td>\n",
       "      <td>-0.452031</td>\n",
       "      <td>...</td>\n",
       "      <td>-0.401906</td>\n",
       "      <td>-0.337414</td>\n",
       "      <td>-0.336552</td>\n",
       "      <td>-0.186014</td>\n",
       "      <td>-0.452031</td>\n",
       "      <td>-0.358704</td>\n",
       "      <td>-0.322161</td>\n",
       "      <td>-0.401906</td>\n",
       "      <td>-0.337414</td>\n",
       "      <td>-0.336552</td>\n",
       "    </tr>\n",
       "    <tr>\n",
       "      <th>4</th>\n",
       "      <td>5</td>\n",
       "      <td>-0.082222</td>\n",
       "      <td>-0.176675</td>\n",
       "      <td>-0.430601</td>\n",
       "      <td>-0.027234</td>\n",
       "      <td>-0.229209</td>\n",
       "      <td>-0.068129</td>\n",
       "      <td>-0.009307</td>\n",
       "      <td>1.298069</td>\n",
       "      <td>0.520911</td>\n",
       "      <td>...</td>\n",
       "      <td>-0.132935</td>\n",
       "      <td>-0.450665</td>\n",
       "      <td>0.087956</td>\n",
       "      <td>1.298069</td>\n",
       "      <td>0.520911</td>\n",
       "      <td>-0.263502</td>\n",
       "      <td>0.222927</td>\n",
       "      <td>-0.132935</td>\n",
       "      <td>-0.450665</td>\n",
       "      <td>0.087956</td>\n",
       "    </tr>\n",
       "  </tbody>\n",
       "</table>\n",
       "<p>5 rows × 23 columns</p>\n",
       "</div>"
      ],
      "text/plain": [
       "   seller_id   seller_0   seller_1   seller_2  seller_3  seller_purchase_rate  \\\n",
       "0          1  10.972787  11.897055  14.249959  7.235092             -0.120234   \n",
       "1          2  -0.282662  -0.204431  -0.392982 -0.272506             -0.018504   \n",
       "2          3  -0.269099  -0.315454  -0.494971 -0.254051             -0.204419   \n",
       "3          4  -0.260019  -0.370965  -0.305204 -0.260600              0.032874   \n",
       "4          5  -0.082222  -0.176675  -0.430601 -0.027234             -0.229209   \n",
       "\n",
       "   seller_addtocart_rate  seller_save_rate  item_count  cat_count  ...  \\\n",
       "0              -0.051657         -0.053750    8.107215   1.797897  ...   \n",
       "1               0.119926         -0.013843   -0.188952  -0.269604  ...   \n",
       "2              -0.035871         -0.011130   -0.138993  -0.634457  ...   \n",
       "3              -0.098327         -0.025940   -0.186014  -0.452031  ...   \n",
       "4              -0.068129         -0.009307    1.298069   0.520911  ...   \n",
       "\n",
       "   addtocart_count  buy_count  save_count  item_percentage  cat_percentage  \\\n",
       "0         9.703700  10.099788    6.360937         8.107215        1.797897   \n",
       "1        -0.248208  -0.393341   -0.372739        -0.188952       -0.269604   \n",
       "2        -0.325057  -0.527563   -0.340727        -0.138993       -0.634457   \n",
       "3        -0.401906  -0.337414   -0.336552        -0.186014       -0.452031   \n",
       "4        -0.132935  -0.450665    0.087956         1.298069        0.520911   \n",
       "\n",
       "   brand_percentage  click_buyer_percentage  addtocart_buyer_percentage  \\\n",
       "0          8.971108                6.739658                    9.703700   \n",
       "1         -0.287303               -0.444305                   -0.248208   \n",
       "2         -0.382505               -0.393370                   -0.325057   \n",
       "3         -0.358704               -0.322161                   -0.401906   \n",
       "4         -0.263502                0.222927                   -0.132935   \n",
       "\n",
       "   buy_buyer_percentage  save_buyer_percentage  \n",
       "0             10.099788               6.360937  \n",
       "1             -0.393341              -0.372739  \n",
       "2             -0.527563              -0.340727  \n",
       "3             -0.337414              -0.336552  \n",
       "4             -0.450665               0.087956  \n",
       "\n",
       "[5 rows x 23 columns]"
      ]
     },
     "execution_count": 312,
     "metadata": {},
     "output_type": "execute_result"
    }
   ],
   "source": [
    "sell_num_column_mean = seller.loc[:,sell_num_column].mean()\n",
    "sell_num_column_std = seller.loc[:,sell_num_column].std()\n",
    "seller.loc[:,sell_num_column] = (seller.loc[:,sell_num_column]-sell_num_column_mean)/sell_num_column_std\n",
    "seller.head()"
   ]
  },
  {
   "cell_type": "code",
   "execution_count": 313,
   "metadata": {},
   "outputs": [],
   "source": [
    "#保存商品特徵\n",
    "seller_file_path = 'seller_info_features.pkl'\n",
    "pickle.dump(seller,open(seller_file_path,'wb'))"
   ]
  },
  {
   "cell_type": "code",
   "execution_count": 314,
   "metadata": {},
   "outputs": [],
   "source": [
    "seller_file_path = 'seller_info_features'\n",
    "if os.path.exists(seller_file_path):\n",
    "    seller = pickle.load(open(seller_file_path,'r'))"
   ]
  },
  {
   "cell_type": "code",
   "execution_count": 315,
   "metadata": {},
   "outputs": [],
   "source": [
    "#先將目前所做好的資料合併到測試與訓練集的數據中\n",
    "train_data = pd.read_csv('train_format1.csv')\n",
    "train_data.rename(columns={'merchant_id':'seller_id'},inplace=True)\n",
    "test_data = pd.read_csv('test_format1.csv')\n",
    "test_data.rename(columns={'merchant_id':'seller_id'},inplace=True)\n",
    "all_data = pd.concat([train_data[['user_id','seller_id']],test_data[['user_id','seller_id']]],ignore_index=True)\n",
    "data_all = pd.merge(all_data,user_log,on=['user_id','seller_id'])\n",
    "\n"
   ]
  },
  {
   "cell_type": "code",
   "execution_count": 385,
   "metadata": {},
   "outputs": [],
   "source": [
    "#計算消費者對預測的商店的各種行為的特徵，像是點擊、加入購物車、購買、收藏總次數，以及上述提及過的轉換率\n",
    "df = data_all[['user_id','seller_id','action_type']]\n",
    "df_all = pd.get_dummies(df['action_type'],prefix='user_seller_action')\n",
    "df = pd.concat([df,df_all],axis=1).groupby(['user_id','seller_id'],as_index=False).sum()"
   ]
  },
  {
   "cell_type": "code",
   "execution_count": 386,
   "metadata": {},
   "outputs": [],
   "source": [
    "#計算消費者對預測商店點擊的總天數，意思是目前合併的數據是將 預測+訓練的數據 合併再一起，再將原先有的user_log數據\n",
    "#根據user_id與seller_id用groupby方式整併到新的資料內，所以目前要做的是用原先user_log資料來分預測+訓練資量\n",
    "#所以要算的預測+訓練的目前每個人對於每個店家，點擊、加入購物車、購買、收藏有多少次\n",
    "click_days = data_all[data_all.action_type==0]\n",
    "click_days = click_days[['user_id','seller_id','time_stamp','action_type']]\n",
    "click_days = click_days.groupby(['user_id','seller_id']).apply(lambda x:x.time_stamp.nunique()).reset_index()\n",
    "click_days.rename(columns={0:'click_days'},inplace=True)\n",
    "df = pd.merge(df,click_days,how='left',on=['user_id','seller_id'])\n",
    "df.click_days.fillna(0,inplace=True)"
   ]
  },
  {
   "cell_type": "code",
   "execution_count": 387,
   "metadata": {},
   "outputs": [],
   "source": [
    "#計算消費者對預測商店加入購物車的總天數\n",
    "addtocart_days = data_all[data_all.action_type==1]\n",
    "addtocart_days = addtocart_days[['user_id','seller_id','time_stamp','action_type']]\n",
    "addtocart_days = addtocart_days.groupby(['user_id','seller_id']).apply(lambda x:x.time_stamp.nunique()).reset_index()\n",
    "addtocart_days.rename(columns={0:'addtocart_days'},inplace=True)\n",
    "df = pd.merge(df,addtocart_days,how='left',on=['user_id','seller_id'])\n",
    "df.addtocart_days.fillna(0,inplace=True)\n"
   ]
  },
  {
   "cell_type": "code",
   "execution_count": 388,
   "metadata": {},
   "outputs": [],
   "source": [
    "#計算消費者對預測商店購買的總天數\n",
    "purchase_days = data_all[data_all.action_type==2]\n",
    "purchase_days = purchase_days[['user_id','seller_id','time_stamp','action_type']]\n",
    "purchase_days = purchase_days.groupby(['user_id','seller_id']).apply(lambda x:x.time_stamp.nunique()).reset_index()\n",
    "purchase_days.rename(columns={0:'purchase_days'},inplace=True)\n",
    "df = pd.merge(df,purchase_days,how='left',on=['user_id','seller_id'])\n",
    "df.purchase_days.fillna(0,inplace=True)\n"
   ]
  },
  {
   "cell_type": "code",
   "execution_count": 389,
   "metadata": {},
   "outputs": [],
   "source": [
    "#計算消費者對預測商店收藏的總天數\n",
    "save_days = data_all[data_all.action_type==3]\n",
    "save_days = save_days[['user_id','seller_id','time_stamp','action_type']]\n",
    "save_days = save_days.groupby(['user_id','seller_id']).apply(lambda x:x.time_stamp.nunique()).reset_index()\n",
    "save_days.rename(columns={0:'save_days'},inplace=True)\n",
    "df = pd.merge(df,save_days,how='left',on=['user_id','seller_id'])\n",
    "df.save_days.fillna(0,inplace=True)"
   ]
  },
  {
   "cell_type": "code",
   "execution_count": null,
   "metadata": {},
   "outputs": [],
   "source": []
  },
  {
   "cell_type": "code",
   "execution_count": 391,
   "metadata": {},
   "outputs": [],
   "source": [
    "#點擊商品數量\n",
    "item_count = data_all[['user_id','seller_id','item_id','action_type']]\n",
    "item_count_click = item_count[item_count.action_type==0]\n",
    "item_click_final = item_count_click.groupby(['user_id','seller_id']).apply(lambda x:x.item_id.nunique()).reset_index()\n",
    "item_click_final.rename(columns={0:'item_click_count'},inplace=True)\n",
    "df=pd.merge(df,item_click_final,how='left',on=['user_id','seller_id'])\n",
    "df.item_click_count.fillna(0,inplace=True)"
   ]
  },
  {
   "cell_type": "code",
   "execution_count": 394,
   "metadata": {},
   "outputs": [],
   "source": [
    "#加入購物車商品數量\n",
    "item_count_addtocart = item_count[item_count.action_type==1]\n",
    "item_addtocart_final = item_count_addtocart.groupby(['user_id','seller_id']).apply(lambda x:x.item_id.nunique()).reset_index()\n",
    "item_addtocart_final.rename(columns={0:'item_addtocart_count'},inplace=True)\n",
    "df=pd.merge(df,item_addtocart_final,how='left',on=['user_id','seller_id'])\n",
    "df.item_addtocart_count.fillna(0,inplace=True)"
   ]
  },
  {
   "cell_type": "code",
   "execution_count": 395,
   "metadata": {},
   "outputs": [],
   "source": [
    "#購買商品數量\n",
    "item_count_purchase = item_count[item_count.action_type==2]\n",
    "item_pruchase_final = item_count_purchase.groupby(['user_id','seller_id']).apply(lambda x:x.item_id.nunique()).reset_index()\n",
    "item_pruchase_final.rename(columns={0:'item_purchase_count'},inplace=True)\n",
    "df=pd.merge(df,item_pruchase_final,how='left',on=['user_id','seller_id'])\n",
    "df.item_purchase_count.fillna(0,inplace=True)"
   ]
  },
  {
   "cell_type": "code",
   "execution_count": 400,
   "metadata": {},
   "outputs": [],
   "source": [
    "#收藏商品數量\n",
    "item_count_save = item_count[item_count.action_type==3]\n",
    "item_save_final = item_count_save.groupby(['user_id','seller_id']).apply(lambda x:x.item_id.nunique()).reset_index()\n",
    "item_save_final.rename(columns={0:'item_save_count'},inplace=True)\n",
    "df=pd.merge(df,item_save_final,how='left',on=['user_id','seller_id'])\n",
    "df.item_save_count.fillna(0,inplace=True)"
   ]
  },
  {
   "cell_type": "code",
   "execution_count": null,
   "metadata": {},
   "outputs": [],
   "source": [
    "#點擊種類數量"
   ]
  },
  {
   "cell_type": "code",
   "execution_count": 403,
   "metadata": {},
   "outputs": [],
   "source": [
    "cat_count =data_all[['user_id','seller_id','cat_id','action_type']]"
   ]
  },
  {
   "cell_type": "code",
   "execution_count": 408,
   "metadata": {},
   "outputs": [],
   "source": [
    "cat_count_click = cat_count[cat_count.action_type==0]\n",
    "cat_click_final = cat_count_click.groupby(['user_id','seller_id']).apply(lambda x:x.cat_id.nunique()).reset_index()\n",
    "cat_click_final.rename(columns={0:'cat_click_count'},inplace=True)\n",
    "df=pd.merge(df,cat_click_final,how='left',on=['user_id','seller_id'])\n",
    "df.cat_click_count.fillna(0,inplace=True)"
   ]
  },
  {
   "cell_type": "code",
   "execution_count": 409,
   "metadata": {},
   "outputs": [
    {
     "data": {
      "text/html": [
       "<div>\n",
       "<style scoped>\n",
       "    .dataframe tbody tr th:only-of-type {\n",
       "        vertical-align: middle;\n",
       "    }\n",
       "\n",
       "    .dataframe tbody tr th {\n",
       "        vertical-align: top;\n",
       "    }\n",
       "\n",
       "    .dataframe thead th {\n",
       "        text-align: right;\n",
       "    }\n",
       "</style>\n",
       "<table border=\"1\" class=\"dataframe\">\n",
       "  <thead>\n",
       "    <tr style=\"text-align: right;\">\n",
       "      <th></th>\n",
       "      <th>user_id</th>\n",
       "      <th>seller_id</th>\n",
       "      <th>action_type</th>\n",
       "      <th>user_seller_action_0</th>\n",
       "      <th>user_seller_action_1</th>\n",
       "      <th>user_seller_action_2</th>\n",
       "      <th>user_seller_action_3</th>\n",
       "      <th>click_days</th>\n",
       "      <th>addtocart_days</th>\n",
       "      <th>purchase_days</th>\n",
       "      <th>save_days</th>\n",
       "      <th>item_click_count</th>\n",
       "      <th>item_addtocart_count</th>\n",
       "      <th>item_purchase_count</th>\n",
       "      <th>item_save_count</th>\n",
       "      <th>cat_click_count</th>\n",
       "    </tr>\n",
       "  </thead>\n",
       "  <tbody>\n",
       "    <tr>\n",
       "      <th>0</th>\n",
       "      <td>1</td>\n",
       "      <td>1019</td>\n",
       "      <td>8.0</td>\n",
       "      <td>10.0</td>\n",
       "      <td>0.0</td>\n",
       "      <td>4.0</td>\n",
       "      <td>0.0</td>\n",
       "      <td>1.0</td>\n",
       "      <td>0.0</td>\n",
       "      <td>1</td>\n",
       "      <td>0.0</td>\n",
       "      <td>1.0</td>\n",
       "      <td>0.0</td>\n",
       "      <td>1</td>\n",
       "      <td>0.0</td>\n",
       "      <td>1.0</td>\n",
       "    </tr>\n",
       "    <tr>\n",
       "      <th>1</th>\n",
       "      <td>2</td>\n",
       "      <td>1679</td>\n",
       "      <td>6.0</td>\n",
       "      <td>0.0</td>\n",
       "      <td>0.0</td>\n",
       "      <td>3.0</td>\n",
       "      <td>0.0</td>\n",
       "      <td>0.0</td>\n",
       "      <td>0.0</td>\n",
       "      <td>1</td>\n",
       "      <td>0.0</td>\n",
       "      <td>0.0</td>\n",
       "      <td>0.0</td>\n",
       "      <td>2</td>\n",
       "      <td>0.0</td>\n",
       "      <td>0.0</td>\n",
       "    </tr>\n",
       "    <tr>\n",
       "      <th>2</th>\n",
       "      <td>2</td>\n",
       "      <td>1784</td>\n",
       "      <td>4.0</td>\n",
       "      <td>0.0</td>\n",
       "      <td>0.0</td>\n",
       "      <td>2.0</td>\n",
       "      <td>0.0</td>\n",
       "      <td>0.0</td>\n",
       "      <td>0.0</td>\n",
       "      <td>1</td>\n",
       "      <td>0.0</td>\n",
       "      <td>0.0</td>\n",
       "      <td>0.0</td>\n",
       "      <td>1</td>\n",
       "      <td>0.0</td>\n",
       "      <td>0.0</td>\n",
       "    </tr>\n",
       "    <tr>\n",
       "      <th>3</th>\n",
       "      <td>3</td>\n",
       "      <td>2313</td>\n",
       "      <td>5.0</td>\n",
       "      <td>4.0</td>\n",
       "      <td>0.0</td>\n",
       "      <td>1.0</td>\n",
       "      <td>1.0</td>\n",
       "      <td>1.0</td>\n",
       "      <td>0.0</td>\n",
       "      <td>1</td>\n",
       "      <td>1.0</td>\n",
       "      <td>2.0</td>\n",
       "      <td>0.0</td>\n",
       "      <td>1</td>\n",
       "      <td>1.0</td>\n",
       "      <td>2.0</td>\n",
       "    </tr>\n",
       "    <tr>\n",
       "      <th>4</th>\n",
       "      <td>4</td>\n",
       "      <td>1186</td>\n",
       "      <td>2.0</td>\n",
       "      <td>4.0</td>\n",
       "      <td>0.0</td>\n",
       "      <td>1.0</td>\n",
       "      <td>0.0</td>\n",
       "      <td>1.0</td>\n",
       "      <td>0.0</td>\n",
       "      <td>1</td>\n",
       "      <td>0.0</td>\n",
       "      <td>1.0</td>\n",
       "      <td>0.0</td>\n",
       "      <td>1</td>\n",
       "      <td>0.0</td>\n",
       "      <td>1.0</td>\n",
       "    </tr>\n",
       "  </tbody>\n",
       "</table>\n",
       "</div>"
      ],
      "text/plain": [
       "   user_id  seller_id  action_type  user_seller_action_0  \\\n",
       "0        1       1019          8.0                  10.0   \n",
       "1        2       1679          6.0                   0.0   \n",
       "2        2       1784          4.0                   0.0   \n",
       "3        3       2313          5.0                   4.0   \n",
       "4        4       1186          2.0                   4.0   \n",
       "\n",
       "   user_seller_action_1  user_seller_action_2  user_seller_action_3  \\\n",
       "0                   0.0                   4.0                   0.0   \n",
       "1                   0.0                   3.0                   0.0   \n",
       "2                   0.0                   2.0                   0.0   \n",
       "3                   0.0                   1.0                   1.0   \n",
       "4                   0.0                   1.0                   0.0   \n",
       "\n",
       "   click_days  addtocart_days  purchase_days  save_days  item_click_count  \\\n",
       "0         1.0             0.0              1        0.0               1.0   \n",
       "1         0.0             0.0              1        0.0               0.0   \n",
       "2         0.0             0.0              1        0.0               0.0   \n",
       "3         1.0             0.0              1        1.0               2.0   \n",
       "4         1.0             0.0              1        0.0               1.0   \n",
       "\n",
       "   item_addtocart_count  item_purchase_count  item_save_count  cat_click_count  \n",
       "0                   0.0                    1              0.0              1.0  \n",
       "1                   0.0                    2              0.0              0.0  \n",
       "2                   0.0                    1              0.0              0.0  \n",
       "3                   0.0                    1              1.0              2.0  \n",
       "4                   0.0                    1              0.0              1.0  "
      ]
     },
     "execution_count": 409,
     "metadata": {},
     "output_type": "execute_result"
    }
   ],
   "source": [
    "df.head()"
   ]
  },
  {
   "cell_type": "code",
   "execution_count": null,
   "metadata": {},
   "outputs": [],
   "source": [
    "#加入購物車種類數量"
   ]
  },
  {
   "cell_type": "code",
   "execution_count": 410,
   "metadata": {},
   "outputs": [],
   "source": [
    "cat_count_addtocart = cat_count[cat_count.action_type==1]\n",
    "cat_addtocart_final = cat_count_addtocart.groupby(['user_id','seller_id']).apply(lambda x:x.cat_id.nunique()).reset_index()\n",
    "cat_addtocart_final.rename(columns={0:'cat_addtocart_count'},inplace=True)\n",
    "df=pd.merge(df,cat_addtocart_final,how='left',on=['user_id','seller_id'])\n",
    "df.cat_addtocart_count.fillna(0,inplace=True)"
   ]
  },
  {
   "cell_type": "code",
   "execution_count": 411,
   "metadata": {},
   "outputs": [],
   "source": [
    "#購買種類數量\n",
    "cat_count_purchase = cat_count[cat_count.action_type==2]\n",
    "cat_purchase_final = cat_count_purchase.groupby(['user_id','seller_id']).apply(lambda x:x.cat_id.nunique()).reset_index()\n",
    "cat_purchase_final.rename(columns={0:'cat_purchase_count'},inplace=True)\n",
    "df=pd.merge(df,cat_purchase_final,how='left',on=['user_id','seller_id'])\n",
    "df.cat_purchase_count.fillna(0,inplace=True)"
   ]
  },
  {
   "cell_type": "code",
   "execution_count": 413,
   "metadata": {},
   "outputs": [],
   "source": [
    "#收藏種類數量\n",
    "cat_count_save = cat_count[cat_count.action_type==3]\n",
    "cat_save_final = cat_count_save.groupby(['user_id','seller_id']).apply(lambda x:x.cat_id.nunique()).reset_index()\n",
    "cat_save_final.rename(columns={0:'cat_save_count'},inplace=True)\n",
    "df=pd.merge(df,cat_save_final,how='left',on=['user_id','seller_id'])\n",
    "df.cat_save_count.fillna(0,inplace=True)"
   ]
  },
  {
   "cell_type": "code",
   "execution_count": 412,
   "metadata": {},
   "outputs": [
    {
     "data": {
      "text/html": [
       "<div>\n",
       "<style scoped>\n",
       "    .dataframe tbody tr th:only-of-type {\n",
       "        vertical-align: middle;\n",
       "    }\n",
       "\n",
       "    .dataframe tbody tr th {\n",
       "        vertical-align: top;\n",
       "    }\n",
       "\n",
       "    .dataframe thead th {\n",
       "        text-align: right;\n",
       "    }\n",
       "</style>\n",
       "<table border=\"1\" class=\"dataframe\">\n",
       "  <thead>\n",
       "    <tr style=\"text-align: right;\">\n",
       "      <th></th>\n",
       "      <th>user_id</th>\n",
       "      <th>seller_id</th>\n",
       "      <th>action_type</th>\n",
       "      <th>user_seller_action_0</th>\n",
       "      <th>user_seller_action_1</th>\n",
       "      <th>user_seller_action_2</th>\n",
       "      <th>user_seller_action_3</th>\n",
       "      <th>click_days</th>\n",
       "      <th>addtocart_days</th>\n",
       "      <th>purchase_days</th>\n",
       "      <th>save_days</th>\n",
       "      <th>item_click_count</th>\n",
       "      <th>item_addtocart_count</th>\n",
       "      <th>item_purchase_count</th>\n",
       "      <th>item_save_count</th>\n",
       "      <th>cat_click_count</th>\n",
       "      <th>cat_addtocart_count</th>\n",
       "      <th>cat_purchase_count</th>\n",
       "    </tr>\n",
       "  </thead>\n",
       "  <tbody>\n",
       "    <tr>\n",
       "      <th>0</th>\n",
       "      <td>1</td>\n",
       "      <td>1019</td>\n",
       "      <td>8.0</td>\n",
       "      <td>10.0</td>\n",
       "      <td>0.0</td>\n",
       "      <td>4.0</td>\n",
       "      <td>0.0</td>\n",
       "      <td>1.0</td>\n",
       "      <td>0.0</td>\n",
       "      <td>1</td>\n",
       "      <td>0.0</td>\n",
       "      <td>1.0</td>\n",
       "      <td>0.0</td>\n",
       "      <td>1</td>\n",
       "      <td>0.0</td>\n",
       "      <td>1.0</td>\n",
       "      <td>0.0</td>\n",
       "      <td>1</td>\n",
       "    </tr>\n",
       "    <tr>\n",
       "      <th>1</th>\n",
       "      <td>2</td>\n",
       "      <td>1679</td>\n",
       "      <td>6.0</td>\n",
       "      <td>0.0</td>\n",
       "      <td>0.0</td>\n",
       "      <td>3.0</td>\n",
       "      <td>0.0</td>\n",
       "      <td>0.0</td>\n",
       "      <td>0.0</td>\n",
       "      <td>1</td>\n",
       "      <td>0.0</td>\n",
       "      <td>0.0</td>\n",
       "      <td>0.0</td>\n",
       "      <td>2</td>\n",
       "      <td>0.0</td>\n",
       "      <td>0.0</td>\n",
       "      <td>0.0</td>\n",
       "      <td>1</td>\n",
       "    </tr>\n",
       "    <tr>\n",
       "      <th>2</th>\n",
       "      <td>2</td>\n",
       "      <td>1784</td>\n",
       "      <td>4.0</td>\n",
       "      <td>0.0</td>\n",
       "      <td>0.0</td>\n",
       "      <td>2.0</td>\n",
       "      <td>0.0</td>\n",
       "      <td>0.0</td>\n",
       "      <td>0.0</td>\n",
       "      <td>1</td>\n",
       "      <td>0.0</td>\n",
       "      <td>0.0</td>\n",
       "      <td>0.0</td>\n",
       "      <td>1</td>\n",
       "      <td>0.0</td>\n",
       "      <td>0.0</td>\n",
       "      <td>0.0</td>\n",
       "      <td>1</td>\n",
       "    </tr>\n",
       "    <tr>\n",
       "      <th>3</th>\n",
       "      <td>3</td>\n",
       "      <td>2313</td>\n",
       "      <td>5.0</td>\n",
       "      <td>4.0</td>\n",
       "      <td>0.0</td>\n",
       "      <td>1.0</td>\n",
       "      <td>1.0</td>\n",
       "      <td>1.0</td>\n",
       "      <td>0.0</td>\n",
       "      <td>1</td>\n",
       "      <td>1.0</td>\n",
       "      <td>2.0</td>\n",
       "      <td>0.0</td>\n",
       "      <td>1</td>\n",
       "      <td>1.0</td>\n",
       "      <td>2.0</td>\n",
       "      <td>0.0</td>\n",
       "      <td>1</td>\n",
       "    </tr>\n",
       "    <tr>\n",
       "      <th>4</th>\n",
       "      <td>4</td>\n",
       "      <td>1186</td>\n",
       "      <td>2.0</td>\n",
       "      <td>4.0</td>\n",
       "      <td>0.0</td>\n",
       "      <td>1.0</td>\n",
       "      <td>0.0</td>\n",
       "      <td>1.0</td>\n",
       "      <td>0.0</td>\n",
       "      <td>1</td>\n",
       "      <td>0.0</td>\n",
       "      <td>1.0</td>\n",
       "      <td>0.0</td>\n",
       "      <td>1</td>\n",
       "      <td>0.0</td>\n",
       "      <td>1.0</td>\n",
       "      <td>0.0</td>\n",
       "      <td>1</td>\n",
       "    </tr>\n",
       "  </tbody>\n",
       "</table>\n",
       "</div>"
      ],
      "text/plain": [
       "   user_id  seller_id  action_type  user_seller_action_0  \\\n",
       "0        1       1019          8.0                  10.0   \n",
       "1        2       1679          6.0                   0.0   \n",
       "2        2       1784          4.0                   0.0   \n",
       "3        3       2313          5.0                   4.0   \n",
       "4        4       1186          2.0                   4.0   \n",
       "\n",
       "   user_seller_action_1  user_seller_action_2  user_seller_action_3  \\\n",
       "0                   0.0                   4.0                   0.0   \n",
       "1                   0.0                   3.0                   0.0   \n",
       "2                   0.0                   2.0                   0.0   \n",
       "3                   0.0                   1.0                   1.0   \n",
       "4                   0.0                   1.0                   0.0   \n",
       "\n",
       "   click_days  addtocart_days  purchase_days  save_days  item_click_count  \\\n",
       "0         1.0             0.0              1        0.0               1.0   \n",
       "1         0.0             0.0              1        0.0               0.0   \n",
       "2         0.0             0.0              1        0.0               0.0   \n",
       "3         1.0             0.0              1        1.0               2.0   \n",
       "4         1.0             0.0              1        0.0               1.0   \n",
       "\n",
       "   item_addtocart_count  item_purchase_count  item_save_count  \\\n",
       "0                   0.0                    1              0.0   \n",
       "1                   0.0                    2              0.0   \n",
       "2                   0.0                    1              0.0   \n",
       "3                   0.0                    1              1.0   \n",
       "4                   0.0                    1              0.0   \n",
       "\n",
       "   cat_click_count  cat_addtocart_count  cat_purchase_count  \n",
       "0              1.0                  0.0                   1  \n",
       "1              0.0                  0.0                   1  \n",
       "2              0.0                  0.0                   1  \n",
       "3              2.0                  0.0                   1  \n",
       "4              1.0                  0.0                   1  "
      ]
     },
     "execution_count": 412,
     "metadata": {},
     "output_type": "execute_result"
    }
   ],
   "source": [
    "df.head()"
   ]
  },
  {
   "cell_type": "code",
   "execution_count": null,
   "metadata": {},
   "outputs": [],
   "source": []
  },
  {
   "cell_type": "code",
   "execution_count": 414,
   "metadata": {},
   "outputs": [],
   "source": [
    "brand_count =data_all[['user_id','seller_id','brand_id','action_type']]"
   ]
  },
  {
   "cell_type": "code",
   "execution_count": 416,
   "metadata": {},
   "outputs": [],
   "source": [
    "#點擊品牌數量\n",
    "brand_count_click = brand_count[brand_count.action_type==0]\n",
    "brand_click_final = brand_count_click.groupby(['user_id','seller_id']).apply(lambda x:x.brand_id.nunique()).reset_index()\n",
    "brand_click_final.rename(columns={0:'brand_click_count'},inplace=True)\n",
    "df= pd.merge(df,brand_click_final,how='left',on=['user_id','seller_id'])\n",
    "df.brand_click_count.fillna(0,inplace=True)"
   ]
  },
  {
   "cell_type": "code",
   "execution_count": 428,
   "metadata": {},
   "outputs": [],
   "source": [
    "#加入購物車品牌數量\n",
    "brand_count_addtocart = brand_count[brand_count.action_type==1]\n",
    "brand_addtocart_final = brand_count_addtocart.groupby(['user_id','seller_id']).apply(lambda x:x.brand_id.nunique()).reset_index()\n",
    "brand_addtocart_final.rename(columns={0:'brand_addtocart_count'},inplace=True)\n",
    "df= pd.merge(df,brand_addtocart_final,how='left',on=['user_id','seller_id'])\n",
    "df.brand_addtocart_count.fillna(0,inplace=True)"
   ]
  },
  {
   "cell_type": "code",
   "execution_count": 429,
   "metadata": {},
   "outputs": [],
   "source": [
    "#購買品牌數量\n",
    "brand_count_purchase = brand_count[brand_count.action_type==2]\n",
    "brand_purchase_final = brand_count_purchase.groupby(['user_id','seller_id']).apply(lambda x:x.brand_id.nunique()).reset_index()\n",
    "brand_purchase_final.rename(columns={0:'brand_purchase_count'},inplace=True)\n",
    "df= pd.merge(df,brand_purchase_final,how='left',on=['user_id','seller_id'])\n",
    "df.brand_purchase_count.fillna(0,inplace=True)"
   ]
  },
  {
   "cell_type": "code",
   "execution_count": 430,
   "metadata": {},
   "outputs": [],
   "source": [
    "#收藏品牌數量\n",
    "brand_count_save = brand_count[brand_count.action_type==3]\n",
    "brand_save_final = brand_count_save.groupby(['user_id','seller_id']).apply(lambda x:x.brand_id.nunique()).reset_index()\n",
    "brand_save_final.rename(columns={0:'brand_save_count'},inplace=True)\n",
    "df= pd.merge(df,brand_save_final,how='left',on=['user_id','seller_id'])\n",
    "df.brand_save_count.fillna(0,inplace=True)"
   ]
  },
  {
   "cell_type": "code",
   "execution_count": 434,
   "metadata": {},
   "outputs": [
    {
     "name": "stdout",
     "output_type": "stream",
     "text": [
      "Index(['action_type', 'user_seller_action_0', 'user_seller_action_1',\n",
      "       'user_seller_action_2', 'user_seller_action_3', 'click_days',\n",
      "       'addtocart_days', 'save_days', 'item_click_count',\n",
      "       'item_addtocart_count', 'item_purchase_count', 'item_save_count',\n",
      "       'cat_click_count', 'cat_addtocart_count', 'cat_purchase_count',\n",
      "       'cat_save_count', 'brand_click_count', 'brand_addtocart_count',\n",
      "       'brand_purchase_count', 'brand_save_count'],\n",
      "      dtype='object')\n"
     ]
    }
   ],
   "source": [
    "#觀察到puchase 的指標都是 Int 類型數值，統一轉換成float 以利後續操作\n",
    "for i in ['item_purchase_count','cat_purchase_count','cat_purchase_count','brand_purchase_count']:\n",
    "    df[i] =df[i].astype('float64')\n",
    "\n",
    "#對數值型特徵標準化\n",
    "user_seller_num_column = df.columns[df.dtypes=='float64']\n",
    "print(user_seller_num_column)"
   ]
  },
  {
   "cell_type": "code",
   "execution_count": 435,
   "metadata": {},
   "outputs": [
    {
     "data": {
      "text/html": [
       "<div>\n",
       "<style scoped>\n",
       "    .dataframe tbody tr th:only-of-type {\n",
       "        vertical-align: middle;\n",
       "    }\n",
       "\n",
       "    .dataframe tbody tr th {\n",
       "        vertical-align: top;\n",
       "    }\n",
       "\n",
       "    .dataframe thead th {\n",
       "        text-align: right;\n",
       "    }\n",
       "</style>\n",
       "<table border=\"1\" class=\"dataframe\">\n",
       "  <thead>\n",
       "    <tr style=\"text-align: right;\">\n",
       "      <th></th>\n",
       "      <th>user_id</th>\n",
       "      <th>seller_id</th>\n",
       "      <th>action_type</th>\n",
       "      <th>user_seller_action_0</th>\n",
       "      <th>user_seller_action_1</th>\n",
       "      <th>user_seller_action_2</th>\n",
       "      <th>user_seller_action_3</th>\n",
       "      <th>click_days</th>\n",
       "      <th>addtocart_days</th>\n",
       "      <th>purchase_days</th>\n",
       "      <th>...</th>\n",
       "      <th>item_purchase_count</th>\n",
       "      <th>item_save_count</th>\n",
       "      <th>cat_click_count</th>\n",
       "      <th>cat_addtocart_count</th>\n",
       "      <th>cat_purchase_count</th>\n",
       "      <th>cat_save_count</th>\n",
       "      <th>brand_click_count</th>\n",
       "      <th>brand_addtocart_count</th>\n",
       "      <th>brand_purchase_count</th>\n",
       "      <th>brand_save_count</th>\n",
       "    </tr>\n",
       "  </thead>\n",
       "  <tbody>\n",
       "    <tr>\n",
       "      <th>0</th>\n",
       "      <td>1</td>\n",
       "      <td>1019</td>\n",
       "      <td>0.846737</td>\n",
       "      <td>0.048748</td>\n",
       "      <td>-0.113497</td>\n",
       "      <td>3.113534</td>\n",
       "      <td>-0.264393</td>\n",
       "      <td>-0.377563</td>\n",
       "      <td>-0.129999</td>\n",
       "      <td>1</td>\n",
       "      <td>...</td>\n",
       "      <td>-0.348307</td>\n",
       "      <td>-0.271276</td>\n",
       "      <td>-0.376071</td>\n",
       "      <td>-0.125234</td>\n",
       "      <td>-0.293369</td>\n",
       "      <td>-0.368967</td>\n",
       "      <td>0.096026</td>\n",
       "      <td>-0.117466</td>\n",
       "      <td>-0.094</td>\n",
       "      <td>-0.466480</td>\n",
       "    </tr>\n",
       "    <tr>\n",
       "      <th>1</th>\n",
       "      <td>2</td>\n",
       "      <td>1679</td>\n",
       "      <td>0.437302</td>\n",
       "      <td>-0.487477</td>\n",
       "      <td>-0.113497</td>\n",
       "      <td>1.944228</td>\n",
       "      <td>-0.264393</td>\n",
       "      <td>-0.967207</td>\n",
       "      <td>-0.129999</td>\n",
       "      <td>1</td>\n",
       "      <td>...</td>\n",
       "      <td>1.028622</td>\n",
       "      <td>-0.271276</td>\n",
       "      <td>-0.897370</td>\n",
       "      <td>-0.125234</td>\n",
       "      <td>-0.293369</td>\n",
       "      <td>-0.368967</td>\n",
       "      <td>-1.817830</td>\n",
       "      <td>-0.117466</td>\n",
       "      <td>-0.094</td>\n",
       "      <td>-0.466480</td>\n",
       "    </tr>\n",
       "    <tr>\n",
       "      <th>2</th>\n",
       "      <td>2</td>\n",
       "      <td>1784</td>\n",
       "      <td>0.027867</td>\n",
       "      <td>-0.487477</td>\n",
       "      <td>-0.113497</td>\n",
       "      <td>0.774921</td>\n",
       "      <td>-0.264393</td>\n",
       "      <td>-0.967207</td>\n",
       "      <td>-0.129999</td>\n",
       "      <td>1</td>\n",
       "      <td>...</td>\n",
       "      <td>-0.348307</td>\n",
       "      <td>-0.271276</td>\n",
       "      <td>-0.897370</td>\n",
       "      <td>-0.125234</td>\n",
       "      <td>-0.293369</td>\n",
       "      <td>-0.368967</td>\n",
       "      <td>-1.817830</td>\n",
       "      <td>-0.117466</td>\n",
       "      <td>-0.094</td>\n",
       "      <td>-0.466480</td>\n",
       "    </tr>\n",
       "    <tr>\n",
       "      <th>3</th>\n",
       "      <td>3</td>\n",
       "      <td>2313</td>\n",
       "      <td>0.232585</td>\n",
       "      <td>-0.272987</td>\n",
       "      <td>-0.113497</td>\n",
       "      <td>-0.394386</td>\n",
       "      <td>0.416284</td>\n",
       "      <td>-0.377563</td>\n",
       "      <td>-0.129999</td>\n",
       "      <td>1</td>\n",
       "      <td>...</td>\n",
       "      <td>-0.348307</td>\n",
       "      <td>0.465957</td>\n",
       "      <td>0.145228</td>\n",
       "      <td>-0.125234</td>\n",
       "      <td>-0.293369</td>\n",
       "      <td>1.076768</td>\n",
       "      <td>0.096026</td>\n",
       "      <td>-0.117466</td>\n",
       "      <td>-0.094</td>\n",
       "      <td>2.007016</td>\n",
       "    </tr>\n",
       "    <tr>\n",
       "      <th>4</th>\n",
       "      <td>4</td>\n",
       "      <td>1186</td>\n",
       "      <td>-0.381568</td>\n",
       "      <td>-0.272987</td>\n",
       "      <td>-0.113497</td>\n",
       "      <td>-0.394386</td>\n",
       "      <td>-0.264393</td>\n",
       "      <td>-0.377563</td>\n",
       "      <td>-0.129999</td>\n",
       "      <td>1</td>\n",
       "      <td>...</td>\n",
       "      <td>-0.348307</td>\n",
       "      <td>-0.271276</td>\n",
       "      <td>-0.376071</td>\n",
       "      <td>-0.125234</td>\n",
       "      <td>-0.293369</td>\n",
       "      <td>-0.368967</td>\n",
       "      <td>0.096026</td>\n",
       "      <td>-0.117466</td>\n",
       "      <td>-0.094</td>\n",
       "      <td>-0.466480</td>\n",
       "    </tr>\n",
       "  </tbody>\n",
       "</table>\n",
       "<p>5 rows × 23 columns</p>\n",
       "</div>"
      ],
      "text/plain": [
       "   user_id  seller_id  action_type  user_seller_action_0  \\\n",
       "0        1       1019     0.846737              0.048748   \n",
       "1        2       1679     0.437302             -0.487477   \n",
       "2        2       1784     0.027867             -0.487477   \n",
       "3        3       2313     0.232585             -0.272987   \n",
       "4        4       1186    -0.381568             -0.272987   \n",
       "\n",
       "   user_seller_action_1  user_seller_action_2  user_seller_action_3  \\\n",
       "0             -0.113497              3.113534             -0.264393   \n",
       "1             -0.113497              1.944228             -0.264393   \n",
       "2             -0.113497              0.774921             -0.264393   \n",
       "3             -0.113497             -0.394386              0.416284   \n",
       "4             -0.113497             -0.394386             -0.264393   \n",
       "\n",
       "   click_days  addtocart_days  purchase_days  ...  item_purchase_count  \\\n",
       "0   -0.377563       -0.129999              1  ...            -0.348307   \n",
       "1   -0.967207       -0.129999              1  ...             1.028622   \n",
       "2   -0.967207       -0.129999              1  ...            -0.348307   \n",
       "3   -0.377563       -0.129999              1  ...            -0.348307   \n",
       "4   -0.377563       -0.129999              1  ...            -0.348307   \n",
       "\n",
       "   item_save_count  cat_click_count  cat_addtocart_count  cat_purchase_count  \\\n",
       "0        -0.271276        -0.376071            -0.125234           -0.293369   \n",
       "1        -0.271276        -0.897370            -0.125234           -0.293369   \n",
       "2        -0.271276        -0.897370            -0.125234           -0.293369   \n",
       "3         0.465957         0.145228            -0.125234           -0.293369   \n",
       "4        -0.271276        -0.376071            -0.125234           -0.293369   \n",
       "\n",
       "   cat_save_count  brand_click_count  brand_addtocart_count  \\\n",
       "0       -0.368967           0.096026              -0.117466   \n",
       "1       -0.368967          -1.817830              -0.117466   \n",
       "2       -0.368967          -1.817830              -0.117466   \n",
       "3        1.076768           0.096026              -0.117466   \n",
       "4       -0.368967           0.096026              -0.117466   \n",
       "\n",
       "   brand_purchase_count  brand_save_count  \n",
       "0                -0.094         -0.466480  \n",
       "1                -0.094         -0.466480  \n",
       "2                -0.094         -0.466480  \n",
       "3                -0.094          2.007016  \n",
       "4                -0.094         -0.466480  \n",
       "\n",
       "[5 rows x 23 columns]"
      ]
     },
     "execution_count": 435,
     "metadata": {},
     "output_type": "execute_result"
    }
   ],
   "source": [
    "user_seller_num_column_mean = df.loc[:,user_seller_num_column].mean()\n",
    "user_seller_num_column_std = df.loc[:,user_seller_num_column].std()\n",
    "df.loc[:,user_seller_num_column] = (df.loc[:,user_seller_num_column]-user_seller_num_column_mean)/user_seller_num_column_std\n",
    "df.head()"
   ]
  },
  {
   "cell_type": "code",
   "execution_count": 436,
   "metadata": {},
   "outputs": [],
   "source": [
    "#保存特徵\n",
    "user_seller_path ='user_seller_action.pkl'\n",
    "pickle.dump(df,open(user_seller_path,'wb'))"
   ]
  },
  {
   "cell_type": "code",
   "execution_count": 437,
   "metadata": {},
   "outputs": [],
   "source": [
    "#讀取用戶特徵\n",
    "user_seller_path ='user_seller_action.pkl'\n",
    "if os.path.exists(user_seller_path):\n",
    "    df = pickle.load(open(user_seller_path,'rb'))"
   ]
  },
  {
   "cell_type": "code",
   "execution_count": 440,
   "metadata": {},
   "outputs": [
    {
     "name": "stdout",
     "output_type": "stream",
     "text": [
      "<class 'pandas.core.frame.DataFrame'>\n",
      "Int64Index: 260864 entries, 0 to 260863\n",
      "Columns: 117 entries, user_id to brand_save_count\n",
      "dtypes: float64(100), int64(5), uint8(12)\n",
      "memory usage: 214.0 MB\n"
     ]
    }
   ],
   "source": [
    "def build_train():\n",
    "    file_path = 'train_data_features.pkl'\n",
    "    if os.path.exists(file_path):\n",
    "        train_data = pickle.load(open(file_path,'rb'))\n",
    "    else:\n",
    "        train_data  = pd.read_csv('train_format1.csv')\n",
    "        train_data.rename(columns={'merchant_id':'seller_id'},inplace=True)\n",
    "        user_info = pickle.load(open('user_info_features.pkl','rb'))\n",
    "        train_data = pd.merge(train_data,user_info,how='left',on=['user_id'])\n",
    "        seller_info = pickle.load(open('seller_info_features.pkl','rb'))\n",
    "        train_data = pd.merge(train_data,seller_info,how='left',on=['seller_id'])\n",
    "        user_seller_info = pickle.load(open('user_seller_action.pkl','rb'))\n",
    "        train_data = pd.merge(train_data,user_seller_info,how='left',on=['user_id','seller_id'])\n",
    "        del user_info,seller_info,user_seller_info\n",
    "        pickle.dump(train_data,open(file_path,'wb'))\n",
    "    return train_data\n",
    "train_data = build_train()\n",
    "train_data.info()"
   ]
  },
  {
   "cell_type": "code",
   "execution_count": 442,
   "metadata": {},
   "outputs": [
    {
     "data": {
      "text/html": [
       "<div>\n",
       "<style scoped>\n",
       "    .dataframe tbody tr th:only-of-type {\n",
       "        vertical-align: middle;\n",
       "    }\n",
       "\n",
       "    .dataframe tbody tr th {\n",
       "        vertical-align: top;\n",
       "    }\n",
       "\n",
       "    .dataframe thead th {\n",
       "        text-align: right;\n",
       "    }\n",
       "</style>\n",
       "<table border=\"1\" class=\"dataframe\">\n",
       "  <thead>\n",
       "    <tr style=\"text-align: right;\">\n",
       "      <th></th>\n",
       "      <th>user_id</th>\n",
       "      <th>seller_id</th>\n",
       "      <th>label</th>\n",
       "      <th>age_0.0</th>\n",
       "      <th>age_1.0</th>\n",
       "      <th>age_2.0</th>\n",
       "      <th>age_3.0</th>\n",
       "      <th>age_4.0</th>\n",
       "      <th>age_5.0</th>\n",
       "      <th>age_6.0</th>\n",
       "      <th>...</th>\n",
       "      <th>item_purchase_count</th>\n",
       "      <th>item_save_count</th>\n",
       "      <th>cat_click_count</th>\n",
       "      <th>cat_addtocart_count</th>\n",
       "      <th>cat_purchase_count</th>\n",
       "      <th>cat_save_count</th>\n",
       "      <th>brand_click_count</th>\n",
       "      <th>brand_addtocart_count</th>\n",
       "      <th>brand_purchase_count</th>\n",
       "      <th>brand_save_count</th>\n",
       "    </tr>\n",
       "  </thead>\n",
       "  <tbody>\n",
       "    <tr>\n",
       "      <th>0</th>\n",
       "      <td>34176</td>\n",
       "      <td>3906</td>\n",
       "      <td>0</td>\n",
       "      <td>0</td>\n",
       "      <td>0</td>\n",
       "      <td>0</td>\n",
       "      <td>0</td>\n",
       "      <td>0</td>\n",
       "      <td>0</td>\n",
       "      <td>1</td>\n",
       "      <td>...</td>\n",
       "      <td>-0.348307</td>\n",
       "      <td>1.203190</td>\n",
       "      <td>1.709124</td>\n",
       "      <td>-0.125234</td>\n",
       "      <td>-0.293369</td>\n",
       "      <td>2.522503</td>\n",
       "      <td>0.096026</td>\n",
       "      <td>-0.117466</td>\n",
       "      <td>-0.094</td>\n",
       "      <td>2.007016</td>\n",
       "    </tr>\n",
       "    <tr>\n",
       "      <th>1</th>\n",
       "      <td>34176</td>\n",
       "      <td>121</td>\n",
       "      <td>0</td>\n",
       "      <td>0</td>\n",
       "      <td>0</td>\n",
       "      <td>0</td>\n",
       "      <td>0</td>\n",
       "      <td>0</td>\n",
       "      <td>0</td>\n",
       "      <td>1</td>\n",
       "      <td>...</td>\n",
       "      <td>-0.348307</td>\n",
       "      <td>-0.271276</td>\n",
       "      <td>-0.376071</td>\n",
       "      <td>-0.125234</td>\n",
       "      <td>-0.293369</td>\n",
       "      <td>-0.368967</td>\n",
       "      <td>0.096026</td>\n",
       "      <td>-0.117466</td>\n",
       "      <td>-0.094</td>\n",
       "      <td>-0.466480</td>\n",
       "    </tr>\n",
       "    <tr>\n",
       "      <th>2</th>\n",
       "      <td>34176</td>\n",
       "      <td>4356</td>\n",
       "      <td>1</td>\n",
       "      <td>0</td>\n",
       "      <td>0</td>\n",
       "      <td>0</td>\n",
       "      <td>0</td>\n",
       "      <td>0</td>\n",
       "      <td>0</td>\n",
       "      <td>1</td>\n",
       "      <td>...</td>\n",
       "      <td>1.028622</td>\n",
       "      <td>-0.271276</td>\n",
       "      <td>-0.376071</td>\n",
       "      <td>-0.125234</td>\n",
       "      <td>-0.293369</td>\n",
       "      <td>-0.368967</td>\n",
       "      <td>0.096026</td>\n",
       "      <td>-0.117466</td>\n",
       "      <td>-0.094</td>\n",
       "      <td>-0.466480</td>\n",
       "    </tr>\n",
       "    <tr>\n",
       "      <th>3</th>\n",
       "      <td>34176</td>\n",
       "      <td>2217</td>\n",
       "      <td>0</td>\n",
       "      <td>0</td>\n",
       "      <td>0</td>\n",
       "      <td>0</td>\n",
       "      <td>0</td>\n",
       "      <td>0</td>\n",
       "      <td>0</td>\n",
       "      <td>1</td>\n",
       "      <td>...</td>\n",
       "      <td>-0.348307</td>\n",
       "      <td>-0.271276</td>\n",
       "      <td>-0.376071</td>\n",
       "      <td>-0.125234</td>\n",
       "      <td>-0.293369</td>\n",
       "      <td>-0.368967</td>\n",
       "      <td>0.096026</td>\n",
       "      <td>-0.117466</td>\n",
       "      <td>-0.094</td>\n",
       "      <td>-0.466480</td>\n",
       "    </tr>\n",
       "    <tr>\n",
       "      <th>4</th>\n",
       "      <td>230784</td>\n",
       "      <td>4818</td>\n",
       "      <td>0</td>\n",
       "      <td>1</td>\n",
       "      <td>0</td>\n",
       "      <td>0</td>\n",
       "      <td>0</td>\n",
       "      <td>0</td>\n",
       "      <td>0</td>\n",
       "      <td>0</td>\n",
       "      <td>...</td>\n",
       "      <td>-0.348307</td>\n",
       "      <td>-0.271276</td>\n",
       "      <td>-0.376071</td>\n",
       "      <td>-0.125234</td>\n",
       "      <td>-0.293369</td>\n",
       "      <td>-0.368967</td>\n",
       "      <td>0.096026</td>\n",
       "      <td>-0.117466</td>\n",
       "      <td>-0.094</td>\n",
       "      <td>-0.466480</td>\n",
       "    </tr>\n",
       "  </tbody>\n",
       "</table>\n",
       "<p>5 rows × 117 columns</p>\n",
       "</div>"
      ],
      "text/plain": [
       "   user_id  seller_id  label  age_0.0  age_1.0  age_2.0  age_3.0  age_4.0  \\\n",
       "0    34176       3906      0        0        0        0        0        0   \n",
       "1    34176        121      0        0        0        0        0        0   \n",
       "2    34176       4356      1        0        0        0        0        0   \n",
       "3    34176       2217      0        0        0        0        0        0   \n",
       "4   230784       4818      0        1        0        0        0        0   \n",
       "\n",
       "   age_5.0  age_6.0  ...  item_purchase_count  item_save_count  \\\n",
       "0        0        1  ...            -0.348307         1.203190   \n",
       "1        0        1  ...            -0.348307        -0.271276   \n",
       "2        0        1  ...             1.028622        -0.271276   \n",
       "3        0        1  ...            -0.348307        -0.271276   \n",
       "4        0        0  ...            -0.348307        -0.271276   \n",
       "\n",
       "   cat_click_count  cat_addtocart_count  cat_purchase_count  cat_save_count  \\\n",
       "0         1.709124            -0.125234           -0.293369        2.522503   \n",
       "1        -0.376071            -0.125234           -0.293369       -0.368967   \n",
       "2        -0.376071            -0.125234           -0.293369       -0.368967   \n",
       "3        -0.376071            -0.125234           -0.293369       -0.368967   \n",
       "4        -0.376071            -0.125234           -0.293369       -0.368967   \n",
       "\n",
       "   brand_click_count  brand_addtocart_count  brand_purchase_count  \\\n",
       "0           0.096026              -0.117466                -0.094   \n",
       "1           0.096026              -0.117466                -0.094   \n",
       "2           0.096026              -0.117466                -0.094   \n",
       "3           0.096026              -0.117466                -0.094   \n",
       "4           0.096026              -0.117466                -0.094   \n",
       "\n",
       "   brand_save_count  \n",
       "0          2.007016  \n",
       "1         -0.466480  \n",
       "2         -0.466480  \n",
       "3         -0.466480  \n",
       "4         -0.466480  \n",
       "\n",
       "[5 rows x 117 columns]"
      ]
     },
     "execution_count": 442,
     "metadata": {},
     "output_type": "execute_result"
    }
   ],
   "source": [
    "train_data.head()"
   ]
  },
  {
   "cell_type": "code",
   "execution_count": 443,
   "metadata": {},
   "outputs": [],
   "source": [
    "def build_test():\n",
    "    file_path_test = 'test_data_features.pkl'\n",
    "    if os.path.exists(file_path_test):\n",
    "        test_data = pickle.load(open(file_path_test,'rb'))\n",
    "    else:\n",
    "        test_data  = pd.read_csv('test_format1.csv')\n",
    "        test_data.rename(columns={'merchant_id':'seller_id'},inplace=True)\n",
    "        user_info = pickle.load(open('user_info_features.pkl','rb'))\n",
    "        test_data = pd.merge(test_data,user_info,how='left',on=['user_id'])\n",
    "        seller_info = pickle.load(open('seller_info_features.pkl','rb'))\n",
    "        test_data = pd.merge(test_data,seller_info,how='left',on=['seller_id'])\n",
    "        user_seller_info = pickle.load(open('user_seller_action.pkl','rb'))\n",
    "        test_data = pd.merge(test_data,user_seller_info,how='left',on=['user_id','seller_id'])\n",
    "        del user_info,seller_info,user_seller_info\n",
    "        pickle.dump(test_data,open(file_path_test,'wb'))\n",
    "    return test_data\n",
    "test_data = build_test()"
   ]
  },
  {
   "cell_type": "code",
   "execution_count": 444,
   "metadata": {},
   "outputs": [
    {
     "data": {
      "text/html": [
       "<div>\n",
       "<style scoped>\n",
       "    .dataframe tbody tr th:only-of-type {\n",
       "        vertical-align: middle;\n",
       "    }\n",
       "\n",
       "    .dataframe tbody tr th {\n",
       "        vertical-align: top;\n",
       "    }\n",
       "\n",
       "    .dataframe thead th {\n",
       "        text-align: right;\n",
       "    }\n",
       "</style>\n",
       "<table border=\"1\" class=\"dataframe\">\n",
       "  <thead>\n",
       "    <tr style=\"text-align: right;\">\n",
       "      <th></th>\n",
       "      <th>user_id</th>\n",
       "      <th>seller_id</th>\n",
       "      <th>prob</th>\n",
       "      <th>age_0.0</th>\n",
       "      <th>age_1.0</th>\n",
       "      <th>age_2.0</th>\n",
       "      <th>age_3.0</th>\n",
       "      <th>age_4.0</th>\n",
       "      <th>age_5.0</th>\n",
       "      <th>age_6.0</th>\n",
       "      <th>...</th>\n",
       "      <th>item_purchase_count</th>\n",
       "      <th>item_save_count</th>\n",
       "      <th>cat_click_count</th>\n",
       "      <th>cat_addtocart_count</th>\n",
       "      <th>cat_purchase_count</th>\n",
       "      <th>cat_save_count</th>\n",
       "      <th>brand_click_count</th>\n",
       "      <th>brand_addtocart_count</th>\n",
       "      <th>brand_purchase_count</th>\n",
       "      <th>brand_save_count</th>\n",
       "    </tr>\n",
       "  </thead>\n",
       "  <tbody>\n",
       "    <tr>\n",
       "      <th>0</th>\n",
       "      <td>163968</td>\n",
       "      <td>4605</td>\n",
       "      <td>NaN</td>\n",
       "      <td>1</td>\n",
       "      <td>0</td>\n",
       "      <td>0</td>\n",
       "      <td>0</td>\n",
       "      <td>0</td>\n",
       "      <td>0</td>\n",
       "      <td>0</td>\n",
       "      <td>...</td>\n",
       "      <td>-0.348307</td>\n",
       "      <td>-0.271276</td>\n",
       "      <td>-0.376071</td>\n",
       "      <td>-0.125234</td>\n",
       "      <td>-0.293369</td>\n",
       "      <td>-0.368967</td>\n",
       "      <td>0.096026</td>\n",
       "      <td>-0.117466</td>\n",
       "      <td>-0.094</td>\n",
       "      <td>-0.466480</td>\n",
       "    </tr>\n",
       "    <tr>\n",
       "      <th>1</th>\n",
       "      <td>360576</td>\n",
       "      <td>1581</td>\n",
       "      <td>NaN</td>\n",
       "      <td>0</td>\n",
       "      <td>0</td>\n",
       "      <td>1</td>\n",
       "      <td>0</td>\n",
       "      <td>0</td>\n",
       "      <td>0</td>\n",
       "      <td>0</td>\n",
       "      <td>...</td>\n",
       "      <td>5.159411</td>\n",
       "      <td>-0.271276</td>\n",
       "      <td>1.187825</td>\n",
       "      <td>-0.125234</td>\n",
       "      <td>-0.293369</td>\n",
       "      <td>-0.368967</td>\n",
       "      <td>0.096026</td>\n",
       "      <td>-0.117466</td>\n",
       "      <td>-0.094</td>\n",
       "      <td>-0.466480</td>\n",
       "    </tr>\n",
       "    <tr>\n",
       "      <th>2</th>\n",
       "      <td>98688</td>\n",
       "      <td>1964</td>\n",
       "      <td>NaN</td>\n",
       "      <td>0</td>\n",
       "      <td>0</td>\n",
       "      <td>0</td>\n",
       "      <td>0</td>\n",
       "      <td>0</td>\n",
       "      <td>0</td>\n",
       "      <td>1</td>\n",
       "      <td>...</td>\n",
       "      <td>-0.348307</td>\n",
       "      <td>-0.271276</td>\n",
       "      <td>-0.376071</td>\n",
       "      <td>-0.125234</td>\n",
       "      <td>-0.293369</td>\n",
       "      <td>-0.368967</td>\n",
       "      <td>0.096026</td>\n",
       "      <td>-0.117466</td>\n",
       "      <td>-0.094</td>\n",
       "      <td>-0.466480</td>\n",
       "    </tr>\n",
       "    <tr>\n",
       "      <th>3</th>\n",
       "      <td>98688</td>\n",
       "      <td>3645</td>\n",
       "      <td>NaN</td>\n",
       "      <td>0</td>\n",
       "      <td>0</td>\n",
       "      <td>0</td>\n",
       "      <td>0</td>\n",
       "      <td>0</td>\n",
       "      <td>0</td>\n",
       "      <td>1</td>\n",
       "      <td>...</td>\n",
       "      <td>-0.348307</td>\n",
       "      <td>-0.271276</td>\n",
       "      <td>-0.376071</td>\n",
       "      <td>-0.125234</td>\n",
       "      <td>-0.293369</td>\n",
       "      <td>-0.368967</td>\n",
       "      <td>0.096026</td>\n",
       "      <td>-0.117466</td>\n",
       "      <td>-0.094</td>\n",
       "      <td>-0.466480</td>\n",
       "    </tr>\n",
       "    <tr>\n",
       "      <th>4</th>\n",
       "      <td>295296</td>\n",
       "      <td>3361</td>\n",
       "      <td>NaN</td>\n",
       "      <td>0</td>\n",
       "      <td>0</td>\n",
       "      <td>1</td>\n",
       "      <td>0</td>\n",
       "      <td>0</td>\n",
       "      <td>0</td>\n",
       "      <td>0</td>\n",
       "      <td>...</td>\n",
       "      <td>-0.348307</td>\n",
       "      <td>1.203190</td>\n",
       "      <td>1.187825</td>\n",
       "      <td>-0.125234</td>\n",
       "      <td>-0.293369</td>\n",
       "      <td>1.076768</td>\n",
       "      <td>2.009882</td>\n",
       "      <td>-0.117466</td>\n",
       "      <td>-0.094</td>\n",
       "      <td>2.007016</td>\n",
       "    </tr>\n",
       "  </tbody>\n",
       "</table>\n",
       "<p>5 rows × 117 columns</p>\n",
       "</div>"
      ],
      "text/plain": [
       "   user_id  seller_id  prob  age_0.0  age_1.0  age_2.0  age_3.0  age_4.0  \\\n",
       "0   163968       4605   NaN        1        0        0        0        0   \n",
       "1   360576       1581   NaN        0        0        1        0        0   \n",
       "2    98688       1964   NaN        0        0        0        0        0   \n",
       "3    98688       3645   NaN        0        0        0        0        0   \n",
       "4   295296       3361   NaN        0        0        1        0        0   \n",
       "\n",
       "   age_5.0  age_6.0  ...  item_purchase_count  item_save_count  \\\n",
       "0        0        0  ...            -0.348307        -0.271276   \n",
       "1        0        0  ...             5.159411        -0.271276   \n",
       "2        0        1  ...            -0.348307        -0.271276   \n",
       "3        0        1  ...            -0.348307        -0.271276   \n",
       "4        0        0  ...            -0.348307         1.203190   \n",
       "\n",
       "   cat_click_count  cat_addtocart_count  cat_purchase_count  cat_save_count  \\\n",
       "0        -0.376071            -0.125234           -0.293369       -0.368967   \n",
       "1         1.187825            -0.125234           -0.293369       -0.368967   \n",
       "2        -0.376071            -0.125234           -0.293369       -0.368967   \n",
       "3        -0.376071            -0.125234           -0.293369       -0.368967   \n",
       "4         1.187825            -0.125234           -0.293369        1.076768   \n",
       "\n",
       "   brand_click_count  brand_addtocart_count  brand_purchase_count  \\\n",
       "0           0.096026              -0.117466                -0.094   \n",
       "1           0.096026              -0.117466                -0.094   \n",
       "2           0.096026              -0.117466                -0.094   \n",
       "3           0.096026              -0.117466                -0.094   \n",
       "4           2.009882              -0.117466                -0.094   \n",
       "\n",
       "   brand_save_count  \n",
       "0         -0.466480  \n",
       "1         -0.466480  \n",
       "2         -0.466480  \n",
       "3         -0.466480  \n",
       "4          2.007016  \n",
       "\n",
       "[5 rows x 117 columns]"
      ]
     },
     "execution_count": 444,
     "metadata": {},
     "output_type": "execute_result"
    }
   ],
   "source": [
    "test_data.head()"
   ]
  },
  {
   "cell_type": "code",
   "execution_count": 445,
   "metadata": {},
   "outputs": [
    {
     "name": "stdout",
     "output_type": "stream",
     "text": [
      "(182604, 114) (182604, 1) (78260, 114) (78260, 1)\n"
     ]
    }
   ],
   "source": [
    "from sklearn.model_selection import train_test_split\n",
    "#只要會以70%訓練集、30%測試集，測試集當中15%給驗證集\n",
    "x= train_data.loc[:,train_data.columns != 'label']\n",
    "y= train_data.loc[:,train_data.columns == 'label']\n",
    "xtrain,xtest,ytrain,ytest = train_test_split(x,y,test_size=0.3,random_state=100)\n",
    "del xtrain['user_id']\n",
    "del xtrain['seller_id']\n",
    "del xtest['user_id']\n",
    "del xtest['seller_id']\n",
    "print(xtrain.shape,ytrain.shape,xtest.shape,ytest.shape)"
   ]
  },
  {
   "cell_type": "code",
   "execution_count": 446,
   "metadata": {},
   "outputs": [],
   "source": [
    "#先用最簡單的邏輯回歸模型測試\n",
    "from sklearn.model_selection import GridSearchCV,KFold\n",
    "from sklearn.linear_model import LogisticRegression"
   ]
  },
  {
   "cell_type": "code",
   "execution_count": 448,
   "metadata": {},
   "outputs": [
    {
     "name": "stdout",
     "output_type": "stream",
     "text": [
      "Fitting 10 folds for each of 4 candidates, totalling 40 fits\n",
      "[CV] C=100, penalty=l1, solver=liblinear .............................\n"
     ]
    },
    {
     "name": "stderr",
     "output_type": "stream",
     "text": [
      "[Parallel(n_jobs=1)]: Using backend SequentialBackend with 1 concurrent workers.\n",
      "C:\\Users\\austin\\anaconda3\\lib\\site-packages\\sklearn\\utils\\validation.py:73: DataConversionWarning: A column-vector y was passed when a 1d array was expected. Please change the shape of y to (n_samples, ), for example using ravel().\n",
      "  return f(**kwargs)\n"
     ]
    },
    {
     "name": "stdout",
     "output_type": "stream",
     "text": [
      "[LibLinear][CV] .............. C=100, penalty=l1, solver=liblinear, total= 2.7min\n",
      "[CV] C=100, penalty=l1, solver=liblinear .............................\n"
     ]
    },
    {
     "name": "stderr",
     "output_type": "stream",
     "text": [
      "[Parallel(n_jobs=1)]: Done   1 out of   1 | elapsed:  2.7min remaining:    0.0s\n",
      "C:\\Users\\austin\\anaconda3\\lib\\site-packages\\sklearn\\utils\\validation.py:73: DataConversionWarning: A column-vector y was passed when a 1d array was expected. Please change the shape of y to (n_samples, ), for example using ravel().\n",
      "  return f(**kwargs)\n"
     ]
    },
    {
     "name": "stdout",
     "output_type": "stream",
     "text": [
      "[LibLinear][CV] .............. C=100, penalty=l1, solver=liblinear, total= 2.3min\n",
      "[CV] C=100, penalty=l1, solver=liblinear .............................\n"
     ]
    },
    {
     "name": "stderr",
     "output_type": "stream",
     "text": [
      "C:\\Users\\austin\\anaconda3\\lib\\site-packages\\sklearn\\utils\\validation.py:73: DataConversionWarning: A column-vector y was passed when a 1d array was expected. Please change the shape of y to (n_samples, ), for example using ravel().\n",
      "  return f(**kwargs)\n"
     ]
    },
    {
     "name": "stdout",
     "output_type": "stream",
     "text": [
      "[LibLinear][CV] .............. C=100, penalty=l1, solver=liblinear, total= 2.7min\n",
      "[CV] C=100, penalty=l1, solver=liblinear .............................\n"
     ]
    },
    {
     "name": "stderr",
     "output_type": "stream",
     "text": [
      "C:\\Users\\austin\\anaconda3\\lib\\site-packages\\sklearn\\utils\\validation.py:73: DataConversionWarning: A column-vector y was passed when a 1d array was expected. Please change the shape of y to (n_samples, ), for example using ravel().\n",
      "  return f(**kwargs)\n"
     ]
    },
    {
     "name": "stdout",
     "output_type": "stream",
     "text": [
      "[LibLinear][CV] .............. C=100, penalty=l1, solver=liblinear, total= 1.9min\n",
      "[CV] C=100, penalty=l1, solver=liblinear .............................\n"
     ]
    },
    {
     "name": "stderr",
     "output_type": "stream",
     "text": [
      "C:\\Users\\austin\\anaconda3\\lib\\site-packages\\sklearn\\utils\\validation.py:73: DataConversionWarning: A column-vector y was passed when a 1d array was expected. Please change the shape of y to (n_samples, ), for example using ravel().\n",
      "  return f(**kwargs)\n"
     ]
    },
    {
     "name": "stdout",
     "output_type": "stream",
     "text": [
      "[LibLinear][CV] .............. C=100, penalty=l1, solver=liblinear, total= 2.4min\n",
      "[CV] C=100, penalty=l1, solver=liblinear .............................\n"
     ]
    },
    {
     "name": "stderr",
     "output_type": "stream",
     "text": [
      "C:\\Users\\austin\\anaconda3\\lib\\site-packages\\sklearn\\utils\\validation.py:73: DataConversionWarning: A column-vector y was passed when a 1d array was expected. Please change the shape of y to (n_samples, ), for example using ravel().\n",
      "  return f(**kwargs)\n"
     ]
    },
    {
     "name": "stdout",
     "output_type": "stream",
     "text": [
      "[LibLinear][CV] .............. C=100, penalty=l1, solver=liblinear, total= 2.1min\n",
      "[CV] C=100, penalty=l1, solver=liblinear .............................\n"
     ]
    },
    {
     "name": "stderr",
     "output_type": "stream",
     "text": [
      "C:\\Users\\austin\\anaconda3\\lib\\site-packages\\sklearn\\utils\\validation.py:73: DataConversionWarning: A column-vector y was passed when a 1d array was expected. Please change the shape of y to (n_samples, ), for example using ravel().\n",
      "  return f(**kwargs)\n"
     ]
    },
    {
     "name": "stdout",
     "output_type": "stream",
     "text": [
      "[LibLinear][CV] .............. C=100, penalty=l1, solver=liblinear, total= 2.3min\n",
      "[CV] C=100, penalty=l1, solver=liblinear .............................\n"
     ]
    },
    {
     "name": "stderr",
     "output_type": "stream",
     "text": [
      "C:\\Users\\austin\\anaconda3\\lib\\site-packages\\sklearn\\utils\\validation.py:73: DataConversionWarning: A column-vector y was passed when a 1d array was expected. Please change the shape of y to (n_samples, ), for example using ravel().\n",
      "  return f(**kwargs)\n"
     ]
    },
    {
     "name": "stdout",
     "output_type": "stream",
     "text": [
      "[LibLinear][CV] .............. C=100, penalty=l1, solver=liblinear, total= 2.6min\n",
      "[CV] C=100, penalty=l1, solver=liblinear .............................\n"
     ]
    },
    {
     "name": "stderr",
     "output_type": "stream",
     "text": [
      "C:\\Users\\austin\\anaconda3\\lib\\site-packages\\sklearn\\utils\\validation.py:73: DataConversionWarning: A column-vector y was passed when a 1d array was expected. Please change the shape of y to (n_samples, ), for example using ravel().\n",
      "  return f(**kwargs)\n"
     ]
    },
    {
     "name": "stdout",
     "output_type": "stream",
     "text": [
      "[LibLinear][CV] .............. C=100, penalty=l1, solver=liblinear, total= 2.7min\n",
      "[CV] C=100, penalty=l1, solver=liblinear .............................\n"
     ]
    },
    {
     "name": "stderr",
     "output_type": "stream",
     "text": [
      "C:\\Users\\austin\\anaconda3\\lib\\site-packages\\sklearn\\utils\\validation.py:73: DataConversionWarning: A column-vector y was passed when a 1d array was expected. Please change the shape of y to (n_samples, ), for example using ravel().\n",
      "  return f(**kwargs)\n"
     ]
    },
    {
     "name": "stdout",
     "output_type": "stream",
     "text": [
      "[LibLinear][CV] .............. C=100, penalty=l1, solver=liblinear, total= 2.2min\n",
      "[CV] C=1500, penalty=l1, solver=liblinear ............................\n"
     ]
    },
    {
     "name": "stderr",
     "output_type": "stream",
     "text": [
      "C:\\Users\\austin\\anaconda3\\lib\\site-packages\\sklearn\\utils\\validation.py:73: DataConversionWarning: A column-vector y was passed when a 1d array was expected. Please change the shape of y to (n_samples, ), for example using ravel().\n",
      "  return f(**kwargs)\n"
     ]
    },
    {
     "name": "stdout",
     "output_type": "stream",
     "text": [
      "[LibLinear][CV] ............. C=1500, penalty=l1, solver=liblinear, total= 1.8min\n",
      "[CV] C=1500, penalty=l1, solver=liblinear ............................\n"
     ]
    },
    {
     "name": "stderr",
     "output_type": "stream",
     "text": [
      "C:\\Users\\austin\\anaconda3\\lib\\site-packages\\sklearn\\utils\\validation.py:73: DataConversionWarning: A column-vector y was passed when a 1d array was expected. Please change the shape of y to (n_samples, ), for example using ravel().\n",
      "  return f(**kwargs)\n"
     ]
    },
    {
     "name": "stdout",
     "output_type": "stream",
     "text": [
      "[LibLinear][CV] ............. C=1500, penalty=l1, solver=liblinear, total= 1.6min\n",
      "[CV] C=1500, penalty=l1, solver=liblinear ............................\n"
     ]
    },
    {
     "name": "stderr",
     "output_type": "stream",
     "text": [
      "C:\\Users\\austin\\anaconda3\\lib\\site-packages\\sklearn\\utils\\validation.py:73: DataConversionWarning: A column-vector y was passed when a 1d array was expected. Please change the shape of y to (n_samples, ), for example using ravel().\n",
      "  return f(**kwargs)\n"
     ]
    },
    {
     "name": "stdout",
     "output_type": "stream",
     "text": [
      "[LibLinear][CV] ............. C=1500, penalty=l1, solver=liblinear, total= 1.8min\n",
      "[CV] C=1500, penalty=l1, solver=liblinear ............................\n"
     ]
    },
    {
     "name": "stderr",
     "output_type": "stream",
     "text": [
      "C:\\Users\\austin\\anaconda3\\lib\\site-packages\\sklearn\\utils\\validation.py:73: DataConversionWarning: A column-vector y was passed when a 1d array was expected. Please change the shape of y to (n_samples, ), for example using ravel().\n",
      "  return f(**kwargs)\n"
     ]
    },
    {
     "name": "stdout",
     "output_type": "stream",
     "text": [
      "[LibLinear][CV] ............. C=1500, penalty=l1, solver=liblinear, total= 1.6min\n",
      "[CV] C=1500, penalty=l1, solver=liblinear ............................\n"
     ]
    },
    {
     "name": "stderr",
     "output_type": "stream",
     "text": [
      "C:\\Users\\austin\\anaconda3\\lib\\site-packages\\sklearn\\utils\\validation.py:73: DataConversionWarning: A column-vector y was passed when a 1d array was expected. Please change the shape of y to (n_samples, ), for example using ravel().\n",
      "  return f(**kwargs)\n"
     ]
    },
    {
     "name": "stdout",
     "output_type": "stream",
     "text": [
      "[LibLinear][CV] ............. C=1500, penalty=l1, solver=liblinear, total= 1.9min\n",
      "[CV] C=1500, penalty=l1, solver=liblinear ............................\n"
     ]
    },
    {
     "name": "stderr",
     "output_type": "stream",
     "text": [
      "C:\\Users\\austin\\anaconda3\\lib\\site-packages\\sklearn\\utils\\validation.py:73: DataConversionWarning: A column-vector y was passed when a 1d array was expected. Please change the shape of y to (n_samples, ), for example using ravel().\n",
      "  return f(**kwargs)\n"
     ]
    },
    {
     "name": "stdout",
     "output_type": "stream",
     "text": [
      "[LibLinear][CV] ............. C=1500, penalty=l1, solver=liblinear, total= 1.7min\n",
      "[CV] C=1500, penalty=l1, solver=liblinear ............................\n"
     ]
    },
    {
     "name": "stderr",
     "output_type": "stream",
     "text": [
      "C:\\Users\\austin\\anaconda3\\lib\\site-packages\\sklearn\\utils\\validation.py:73: DataConversionWarning: A column-vector y was passed when a 1d array was expected. Please change the shape of y to (n_samples, ), for example using ravel().\n",
      "  return f(**kwargs)\n"
     ]
    },
    {
     "name": "stdout",
     "output_type": "stream",
     "text": [
      "[LibLinear][CV] ............. C=1500, penalty=l1, solver=liblinear, total= 1.6min\n",
      "[CV] C=1500, penalty=l1, solver=liblinear ............................\n"
     ]
    },
    {
     "name": "stderr",
     "output_type": "stream",
     "text": [
      "C:\\Users\\austin\\anaconda3\\lib\\site-packages\\sklearn\\utils\\validation.py:73: DataConversionWarning: A column-vector y was passed when a 1d array was expected. Please change the shape of y to (n_samples, ), for example using ravel().\n",
      "  return f(**kwargs)\n"
     ]
    },
    {
     "name": "stdout",
     "output_type": "stream",
     "text": [
      "[LibLinear][CV] ............. C=1500, penalty=l1, solver=liblinear, total= 1.7min\n",
      "[CV] C=1500, penalty=l1, solver=liblinear ............................\n"
     ]
    },
    {
     "name": "stderr",
     "output_type": "stream",
     "text": [
      "C:\\Users\\austin\\anaconda3\\lib\\site-packages\\sklearn\\utils\\validation.py:73: DataConversionWarning: A column-vector y was passed when a 1d array was expected. Please change the shape of y to (n_samples, ), for example using ravel().\n",
      "  return f(**kwargs)\n"
     ]
    },
    {
     "name": "stdout",
     "output_type": "stream",
     "text": [
      "[LibLinear][CV] ............. C=1500, penalty=l1, solver=liblinear, total= 1.8min\n",
      "[CV] C=1500, penalty=l1, solver=liblinear ............................\n"
     ]
    },
    {
     "name": "stderr",
     "output_type": "stream",
     "text": [
      "C:\\Users\\austin\\anaconda3\\lib\\site-packages\\sklearn\\utils\\validation.py:73: DataConversionWarning: A column-vector y was passed when a 1d array was expected. Please change the shape of y to (n_samples, ), for example using ravel().\n",
      "  return f(**kwargs)\n"
     ]
    },
    {
     "name": "stdout",
     "output_type": "stream",
     "text": [
      "[LibLinear][CV] ............. C=1500, penalty=l1, solver=liblinear, total= 1.6min\n",
      "[CV] C=100, penalty=l2, solver=lbfgs .................................\n"
     ]
    },
    {
     "name": "stderr",
     "output_type": "stream",
     "text": [
      "C:\\Users\\austin\\anaconda3\\lib\\site-packages\\sklearn\\utils\\validation.py:73: DataConversionWarning: A column-vector y was passed when a 1d array was expected. Please change the shape of y to (n_samples, ), for example using ravel().\n",
      "  return f(**kwargs)\n",
      "[Parallel(n_jobs=1)]: Using backend SequentialBackend with 1 concurrent workers.\n",
      "C:\\Users\\austin\\anaconda3\\lib\\site-packages\\sklearn\\linear_model\\_logistic.py:762: ConvergenceWarning: lbfgs failed to converge (status=1):\n",
      "STOP: TOTAL NO. of ITERATIONS REACHED LIMIT.\n",
      "\n",
      "Increase the number of iterations (max_iter) or scale the data as shown in:\n",
      "    https://scikit-learn.org/stable/modules/preprocessing.html\n",
      "Please also refer to the documentation for alternative solver options:\n",
      "    https://scikit-learn.org/stable/modules/linear_model.html#logistic-regression\n",
      "  n_iter_i = _check_optimize_result(\n",
      "[Parallel(n_jobs=1)]: Done   1 out of   1 | elapsed:   25.7s remaining:    0.0s\n",
      "[Parallel(n_jobs=1)]: Done   1 out of   1 | elapsed:   25.7s finished\n"
     ]
    },
    {
     "name": "stdout",
     "output_type": "stream",
     "text": [
      "[CV] .................. C=100, penalty=l2, solver=lbfgs, total=  26.3s\n",
      "[CV] C=100, penalty=l2, solver=lbfgs .................................\n"
     ]
    },
    {
     "name": "stderr",
     "output_type": "stream",
     "text": [
      "C:\\Users\\austin\\anaconda3\\lib\\site-packages\\sklearn\\utils\\validation.py:73: DataConversionWarning: A column-vector y was passed when a 1d array was expected. Please change the shape of y to (n_samples, ), for example using ravel().\n",
      "  return f(**kwargs)\n",
      "[Parallel(n_jobs=1)]: Using backend SequentialBackend with 1 concurrent workers.\n",
      "C:\\Users\\austin\\anaconda3\\lib\\site-packages\\sklearn\\linear_model\\_logistic.py:762: ConvergenceWarning: lbfgs failed to converge (status=1):\n",
      "STOP: TOTAL NO. of ITERATIONS REACHED LIMIT.\n",
      "\n",
      "Increase the number of iterations (max_iter) or scale the data as shown in:\n",
      "    https://scikit-learn.org/stable/modules/preprocessing.html\n",
      "Please also refer to the documentation for alternative solver options:\n",
      "    https://scikit-learn.org/stable/modules/linear_model.html#logistic-regression\n",
      "  n_iter_i = _check_optimize_result(\n",
      "[Parallel(n_jobs=1)]: Done   1 out of   1 | elapsed:   26.5s remaining:    0.0s\n",
      "[Parallel(n_jobs=1)]: Done   1 out of   1 | elapsed:   26.5s finished\n"
     ]
    },
    {
     "name": "stdout",
     "output_type": "stream",
     "text": [
      "[CV] .................. C=100, penalty=l2, solver=lbfgs, total=  27.1s\n",
      "[CV] C=100, penalty=l2, solver=lbfgs .................................\n"
     ]
    },
    {
     "name": "stderr",
     "output_type": "stream",
     "text": [
      "C:\\Users\\austin\\anaconda3\\lib\\site-packages\\sklearn\\utils\\validation.py:73: DataConversionWarning: A column-vector y was passed when a 1d array was expected. Please change the shape of y to (n_samples, ), for example using ravel().\n",
      "  return f(**kwargs)\n",
      "[Parallel(n_jobs=1)]: Using backend SequentialBackend with 1 concurrent workers.\n",
      "C:\\Users\\austin\\anaconda3\\lib\\site-packages\\sklearn\\linear_model\\_logistic.py:762: ConvergenceWarning: lbfgs failed to converge (status=1):\n",
      "STOP: TOTAL NO. of ITERATIONS REACHED LIMIT.\n",
      "\n",
      "Increase the number of iterations (max_iter) or scale the data as shown in:\n",
      "    https://scikit-learn.org/stable/modules/preprocessing.html\n",
      "Please also refer to the documentation for alternative solver options:\n",
      "    https://scikit-learn.org/stable/modules/linear_model.html#logistic-regression\n",
      "  n_iter_i = _check_optimize_result(\n",
      "[Parallel(n_jobs=1)]: Done   1 out of   1 | elapsed:   25.6s remaining:    0.0s\n",
      "[Parallel(n_jobs=1)]: Done   1 out of   1 | elapsed:   25.6s finished\n"
     ]
    },
    {
     "name": "stdout",
     "output_type": "stream",
     "text": [
      "[CV] .................. C=100, penalty=l2, solver=lbfgs, total=  26.2s\n",
      "[CV] C=100, penalty=l2, solver=lbfgs .................................\n"
     ]
    },
    {
     "name": "stderr",
     "output_type": "stream",
     "text": [
      "C:\\Users\\austin\\anaconda3\\lib\\site-packages\\sklearn\\utils\\validation.py:73: DataConversionWarning: A column-vector y was passed when a 1d array was expected. Please change the shape of y to (n_samples, ), for example using ravel().\n",
      "  return f(**kwargs)\n",
      "[Parallel(n_jobs=1)]: Using backend SequentialBackend with 1 concurrent workers.\n",
      "C:\\Users\\austin\\anaconda3\\lib\\site-packages\\sklearn\\linear_model\\_logistic.py:762: ConvergenceWarning: lbfgs failed to converge (status=1):\n",
      "STOP: TOTAL NO. of ITERATIONS REACHED LIMIT.\n",
      "\n",
      "Increase the number of iterations (max_iter) or scale the data as shown in:\n",
      "    https://scikit-learn.org/stable/modules/preprocessing.html\n",
      "Please also refer to the documentation for alternative solver options:\n",
      "    https://scikit-learn.org/stable/modules/linear_model.html#logistic-regression\n",
      "  n_iter_i = _check_optimize_result(\n",
      "[Parallel(n_jobs=1)]: Done   1 out of   1 | elapsed:   25.2s remaining:    0.0s\n",
      "[Parallel(n_jobs=1)]: Done   1 out of   1 | elapsed:   25.2s finished\n"
     ]
    },
    {
     "name": "stdout",
     "output_type": "stream",
     "text": [
      "[CV] .................. C=100, penalty=l2, solver=lbfgs, total=  25.8s\n",
      "[CV] C=100, penalty=l2, solver=lbfgs .................................\n"
     ]
    },
    {
     "name": "stderr",
     "output_type": "stream",
     "text": [
      "C:\\Users\\austin\\anaconda3\\lib\\site-packages\\sklearn\\utils\\validation.py:73: DataConversionWarning: A column-vector y was passed when a 1d array was expected. Please change the shape of y to (n_samples, ), for example using ravel().\n",
      "  return f(**kwargs)\n",
      "[Parallel(n_jobs=1)]: Using backend SequentialBackend with 1 concurrent workers.\n",
      "C:\\Users\\austin\\anaconda3\\lib\\site-packages\\sklearn\\linear_model\\_logistic.py:762: ConvergenceWarning: lbfgs failed to converge (status=1):\n",
      "STOP: TOTAL NO. of ITERATIONS REACHED LIMIT.\n",
      "\n",
      "Increase the number of iterations (max_iter) or scale the data as shown in:\n",
      "    https://scikit-learn.org/stable/modules/preprocessing.html\n",
      "Please also refer to the documentation for alternative solver options:\n",
      "    https://scikit-learn.org/stable/modules/linear_model.html#logistic-regression\n",
      "  n_iter_i = _check_optimize_result(\n",
      "[Parallel(n_jobs=1)]: Done   1 out of   1 | elapsed:   25.0s remaining:    0.0s\n",
      "[Parallel(n_jobs=1)]: Done   1 out of   1 | elapsed:   25.0s finished\n"
     ]
    },
    {
     "name": "stdout",
     "output_type": "stream",
     "text": [
      "[CV] .................. C=100, penalty=l2, solver=lbfgs, total=  25.5s\n",
      "[CV] C=100, penalty=l2, solver=lbfgs .................................\n"
     ]
    },
    {
     "name": "stderr",
     "output_type": "stream",
     "text": [
      "C:\\Users\\austin\\anaconda3\\lib\\site-packages\\sklearn\\utils\\validation.py:73: DataConversionWarning: A column-vector y was passed when a 1d array was expected. Please change the shape of y to (n_samples, ), for example using ravel().\n",
      "  return f(**kwargs)\n",
      "[Parallel(n_jobs=1)]: Using backend SequentialBackend with 1 concurrent workers.\n",
      "C:\\Users\\austin\\anaconda3\\lib\\site-packages\\sklearn\\linear_model\\_logistic.py:762: ConvergenceWarning: lbfgs failed to converge (status=1):\n",
      "STOP: TOTAL NO. of ITERATIONS REACHED LIMIT.\n",
      "\n",
      "Increase the number of iterations (max_iter) or scale the data as shown in:\n",
      "    https://scikit-learn.org/stable/modules/preprocessing.html\n",
      "Please also refer to the documentation for alternative solver options:\n",
      "    https://scikit-learn.org/stable/modules/linear_model.html#logistic-regression\n",
      "  n_iter_i = _check_optimize_result(\n",
      "[Parallel(n_jobs=1)]: Done   1 out of   1 | elapsed:   25.8s remaining:    0.0s\n",
      "[Parallel(n_jobs=1)]: Done   1 out of   1 | elapsed:   25.8s finished\n"
     ]
    },
    {
     "name": "stdout",
     "output_type": "stream",
     "text": [
      "[CV] .................. C=100, penalty=l2, solver=lbfgs, total=  26.4s\n",
      "[CV] C=100, penalty=l2, solver=lbfgs .................................\n"
     ]
    },
    {
     "name": "stderr",
     "output_type": "stream",
     "text": [
      "C:\\Users\\austin\\anaconda3\\lib\\site-packages\\sklearn\\utils\\validation.py:73: DataConversionWarning: A column-vector y was passed when a 1d array was expected. Please change the shape of y to (n_samples, ), for example using ravel().\n",
      "  return f(**kwargs)\n",
      "[Parallel(n_jobs=1)]: Using backend SequentialBackend with 1 concurrent workers.\n",
      "C:\\Users\\austin\\anaconda3\\lib\\site-packages\\sklearn\\linear_model\\_logistic.py:762: ConvergenceWarning: lbfgs failed to converge (status=1):\n",
      "STOP: TOTAL NO. of ITERATIONS REACHED LIMIT.\n",
      "\n",
      "Increase the number of iterations (max_iter) or scale the data as shown in:\n",
      "    https://scikit-learn.org/stable/modules/preprocessing.html\n",
      "Please also refer to the documentation for alternative solver options:\n",
      "    https://scikit-learn.org/stable/modules/linear_model.html#logistic-regression\n",
      "  n_iter_i = _check_optimize_result(\n",
      "[Parallel(n_jobs=1)]: Done   1 out of   1 | elapsed:   26.7s remaining:    0.0s\n",
      "[Parallel(n_jobs=1)]: Done   1 out of   1 | elapsed:   26.7s finished\n"
     ]
    },
    {
     "name": "stdout",
     "output_type": "stream",
     "text": [
      "[CV] .................. C=100, penalty=l2, solver=lbfgs, total=  27.4s\n",
      "[CV] C=100, penalty=l2, solver=lbfgs .................................\n"
     ]
    },
    {
     "name": "stderr",
     "output_type": "stream",
     "text": [
      "C:\\Users\\austin\\anaconda3\\lib\\site-packages\\sklearn\\utils\\validation.py:73: DataConversionWarning: A column-vector y was passed when a 1d array was expected. Please change the shape of y to (n_samples, ), for example using ravel().\n",
      "  return f(**kwargs)\n",
      "[Parallel(n_jobs=1)]: Using backend SequentialBackend with 1 concurrent workers.\n",
      "C:\\Users\\austin\\anaconda3\\lib\\site-packages\\sklearn\\linear_model\\_logistic.py:762: ConvergenceWarning: lbfgs failed to converge (status=1):\n",
      "STOP: TOTAL NO. of ITERATIONS REACHED LIMIT.\n",
      "\n",
      "Increase the number of iterations (max_iter) or scale the data as shown in:\n",
      "    https://scikit-learn.org/stable/modules/preprocessing.html\n",
      "Please also refer to the documentation for alternative solver options:\n",
      "    https://scikit-learn.org/stable/modules/linear_model.html#logistic-regression\n",
      "  n_iter_i = _check_optimize_result(\n",
      "[Parallel(n_jobs=1)]: Done   1 out of   1 | elapsed:   27.6s remaining:    0.0s\n",
      "[Parallel(n_jobs=1)]: Done   1 out of   1 | elapsed:   27.6s finished\n"
     ]
    },
    {
     "name": "stdout",
     "output_type": "stream",
     "text": [
      "[CV] .................. C=100, penalty=l2, solver=lbfgs, total=  28.2s\n",
      "[CV] C=100, penalty=l2, solver=lbfgs .................................\n"
     ]
    },
    {
     "name": "stderr",
     "output_type": "stream",
     "text": [
      "C:\\Users\\austin\\anaconda3\\lib\\site-packages\\sklearn\\utils\\validation.py:73: DataConversionWarning: A column-vector y was passed when a 1d array was expected. Please change the shape of y to (n_samples, ), for example using ravel().\n",
      "  return f(**kwargs)\n",
      "[Parallel(n_jobs=1)]: Using backend SequentialBackend with 1 concurrent workers.\n",
      "C:\\Users\\austin\\anaconda3\\lib\\site-packages\\sklearn\\linear_model\\_logistic.py:762: ConvergenceWarning: lbfgs failed to converge (status=1):\n",
      "STOP: TOTAL NO. of ITERATIONS REACHED LIMIT.\n",
      "\n",
      "Increase the number of iterations (max_iter) or scale the data as shown in:\n",
      "    https://scikit-learn.org/stable/modules/preprocessing.html\n",
      "Please also refer to the documentation for alternative solver options:\n",
      "    https://scikit-learn.org/stable/modules/linear_model.html#logistic-regression\n",
      "  n_iter_i = _check_optimize_result(\n",
      "[Parallel(n_jobs=1)]: Done   1 out of   1 | elapsed:   25.0s remaining:    0.0s\n",
      "[Parallel(n_jobs=1)]: Done   1 out of   1 | elapsed:   25.0s finished\n"
     ]
    },
    {
     "name": "stdout",
     "output_type": "stream",
     "text": [
      "[CV] .................. C=100, penalty=l2, solver=lbfgs, total=  25.9s\n",
      "[CV] C=100, penalty=l2, solver=lbfgs .................................\n"
     ]
    },
    {
     "name": "stderr",
     "output_type": "stream",
     "text": [
      "C:\\Users\\austin\\anaconda3\\lib\\site-packages\\sklearn\\utils\\validation.py:73: DataConversionWarning: A column-vector y was passed when a 1d array was expected. Please change the shape of y to (n_samples, ), for example using ravel().\n",
      "  return f(**kwargs)\n",
      "[Parallel(n_jobs=1)]: Using backend SequentialBackend with 1 concurrent workers.\n",
      "C:\\Users\\austin\\anaconda3\\lib\\site-packages\\sklearn\\linear_model\\_logistic.py:762: ConvergenceWarning: lbfgs failed to converge (status=1):\n",
      "STOP: TOTAL NO. of ITERATIONS REACHED LIMIT.\n",
      "\n",
      "Increase the number of iterations (max_iter) or scale the data as shown in:\n",
      "    https://scikit-learn.org/stable/modules/preprocessing.html\n",
      "Please also refer to the documentation for alternative solver options:\n",
      "    https://scikit-learn.org/stable/modules/linear_model.html#logistic-regression\n",
      "  n_iter_i = _check_optimize_result(\n",
      "[Parallel(n_jobs=1)]: Done   1 out of   1 | elapsed:   24.8s remaining:    0.0s\n",
      "[Parallel(n_jobs=1)]: Done   1 out of   1 | elapsed:   24.8s finished\n"
     ]
    },
    {
     "name": "stdout",
     "output_type": "stream",
     "text": [
      "[CV] .................. C=100, penalty=l2, solver=lbfgs, total=  25.3s\n",
      "[CV] C=1500, penalty=l2, solver=lbfgs ................................\n"
     ]
    },
    {
     "name": "stderr",
     "output_type": "stream",
     "text": [
      "C:\\Users\\austin\\anaconda3\\lib\\site-packages\\sklearn\\utils\\validation.py:73: DataConversionWarning: A column-vector y was passed when a 1d array was expected. Please change the shape of y to (n_samples, ), for example using ravel().\n",
      "  return f(**kwargs)\n",
      "[Parallel(n_jobs=1)]: Using backend SequentialBackend with 1 concurrent workers.\n",
      "C:\\Users\\austin\\anaconda3\\lib\\site-packages\\sklearn\\linear_model\\_logistic.py:762: ConvergenceWarning: lbfgs failed to converge (status=1):\n",
      "STOP: TOTAL NO. of ITERATIONS REACHED LIMIT.\n",
      "\n",
      "Increase the number of iterations (max_iter) or scale the data as shown in:\n",
      "    https://scikit-learn.org/stable/modules/preprocessing.html\n",
      "Please also refer to the documentation for alternative solver options:\n",
      "    https://scikit-learn.org/stable/modules/linear_model.html#logistic-regression\n",
      "  n_iter_i = _check_optimize_result(\n",
      "[Parallel(n_jobs=1)]: Done   1 out of   1 | elapsed:   24.7s remaining:    0.0s\n",
      "[Parallel(n_jobs=1)]: Done   1 out of   1 | elapsed:   24.7s finished\n"
     ]
    },
    {
     "name": "stdout",
     "output_type": "stream",
     "text": [
      "[CV] ................. C=1500, penalty=l2, solver=lbfgs, total=  25.3s\n",
      "[CV] C=1500, penalty=l2, solver=lbfgs ................................\n"
     ]
    },
    {
     "name": "stderr",
     "output_type": "stream",
     "text": [
      "C:\\Users\\austin\\anaconda3\\lib\\site-packages\\sklearn\\utils\\validation.py:73: DataConversionWarning: A column-vector y was passed when a 1d array was expected. Please change the shape of y to (n_samples, ), for example using ravel().\n",
      "  return f(**kwargs)\n",
      "[Parallel(n_jobs=1)]: Using backend SequentialBackend with 1 concurrent workers.\n",
      "C:\\Users\\austin\\anaconda3\\lib\\site-packages\\sklearn\\linear_model\\_logistic.py:762: ConvergenceWarning: lbfgs failed to converge (status=1):\n",
      "STOP: TOTAL NO. of ITERATIONS REACHED LIMIT.\n",
      "\n",
      "Increase the number of iterations (max_iter) or scale the data as shown in:\n",
      "    https://scikit-learn.org/stable/modules/preprocessing.html\n",
      "Please also refer to the documentation for alternative solver options:\n",
      "    https://scikit-learn.org/stable/modules/linear_model.html#logistic-regression\n",
      "  n_iter_i = _check_optimize_result(\n",
      "[Parallel(n_jobs=1)]: Done   1 out of   1 | elapsed:   24.5s remaining:    0.0s\n",
      "[Parallel(n_jobs=1)]: Done   1 out of   1 | elapsed:   24.5s finished\n"
     ]
    },
    {
     "name": "stdout",
     "output_type": "stream",
     "text": [
      "[CV] ................. C=1500, penalty=l2, solver=lbfgs, total=  25.1s\n",
      "[CV] C=1500, penalty=l2, solver=lbfgs ................................\n"
     ]
    },
    {
     "name": "stderr",
     "output_type": "stream",
     "text": [
      "C:\\Users\\austin\\anaconda3\\lib\\site-packages\\sklearn\\utils\\validation.py:73: DataConversionWarning: A column-vector y was passed when a 1d array was expected. Please change the shape of y to (n_samples, ), for example using ravel().\n",
      "  return f(**kwargs)\n",
      "[Parallel(n_jobs=1)]: Using backend SequentialBackend with 1 concurrent workers.\n",
      "C:\\Users\\austin\\anaconda3\\lib\\site-packages\\sklearn\\linear_model\\_logistic.py:762: ConvergenceWarning: lbfgs failed to converge (status=1):\n",
      "STOP: TOTAL NO. of ITERATIONS REACHED LIMIT.\n",
      "\n",
      "Increase the number of iterations (max_iter) or scale the data as shown in:\n",
      "    https://scikit-learn.org/stable/modules/preprocessing.html\n",
      "Please also refer to the documentation for alternative solver options:\n",
      "    https://scikit-learn.org/stable/modules/linear_model.html#logistic-regression\n",
      "  n_iter_i = _check_optimize_result(\n",
      "[Parallel(n_jobs=1)]: Done   1 out of   1 | elapsed:   25.0s remaining:    0.0s\n",
      "[Parallel(n_jobs=1)]: Done   1 out of   1 | elapsed:   25.0s finished\n"
     ]
    },
    {
     "name": "stdout",
     "output_type": "stream",
     "text": [
      "[CV] ................. C=1500, penalty=l2, solver=lbfgs, total=  25.6s\n",
      "[CV] C=1500, penalty=l2, solver=lbfgs ................................\n"
     ]
    },
    {
     "name": "stderr",
     "output_type": "stream",
     "text": [
      "C:\\Users\\austin\\anaconda3\\lib\\site-packages\\sklearn\\utils\\validation.py:73: DataConversionWarning: A column-vector y was passed when a 1d array was expected. Please change the shape of y to (n_samples, ), for example using ravel().\n",
      "  return f(**kwargs)\n",
      "[Parallel(n_jobs=1)]: Using backend SequentialBackend with 1 concurrent workers.\n",
      "C:\\Users\\austin\\anaconda3\\lib\\site-packages\\sklearn\\linear_model\\_logistic.py:762: ConvergenceWarning: lbfgs failed to converge (status=1):\n",
      "STOP: TOTAL NO. of ITERATIONS REACHED LIMIT.\n",
      "\n",
      "Increase the number of iterations (max_iter) or scale the data as shown in:\n",
      "    https://scikit-learn.org/stable/modules/preprocessing.html\n",
      "Please also refer to the documentation for alternative solver options:\n",
      "    https://scikit-learn.org/stable/modules/linear_model.html#logistic-regression\n",
      "  n_iter_i = _check_optimize_result(\n",
      "[Parallel(n_jobs=1)]: Done   1 out of   1 | elapsed:   25.1s remaining:    0.0s\n",
      "[Parallel(n_jobs=1)]: Done   1 out of   1 | elapsed:   25.1s finished\n"
     ]
    },
    {
     "name": "stdout",
     "output_type": "stream",
     "text": [
      "[CV] ................. C=1500, penalty=l2, solver=lbfgs, total=  25.7s\n",
      "[CV] C=1500, penalty=l2, solver=lbfgs ................................\n"
     ]
    },
    {
     "name": "stderr",
     "output_type": "stream",
     "text": [
      "C:\\Users\\austin\\anaconda3\\lib\\site-packages\\sklearn\\utils\\validation.py:73: DataConversionWarning: A column-vector y was passed when a 1d array was expected. Please change the shape of y to (n_samples, ), for example using ravel().\n",
      "  return f(**kwargs)\n",
      "[Parallel(n_jobs=1)]: Using backend SequentialBackend with 1 concurrent workers.\n",
      "C:\\Users\\austin\\anaconda3\\lib\\site-packages\\sklearn\\linear_model\\_logistic.py:762: ConvergenceWarning: lbfgs failed to converge (status=1):\n",
      "STOP: TOTAL NO. of ITERATIONS REACHED LIMIT.\n",
      "\n",
      "Increase the number of iterations (max_iter) or scale the data as shown in:\n",
      "    https://scikit-learn.org/stable/modules/preprocessing.html\n",
      "Please also refer to the documentation for alternative solver options:\n",
      "    https://scikit-learn.org/stable/modules/linear_model.html#logistic-regression\n",
      "  n_iter_i = _check_optimize_result(\n",
      "[Parallel(n_jobs=1)]: Done   1 out of   1 | elapsed:   24.4s remaining:    0.0s\n",
      "[Parallel(n_jobs=1)]: Done   1 out of   1 | elapsed:   24.4s finished\n"
     ]
    },
    {
     "name": "stdout",
     "output_type": "stream",
     "text": [
      "[CV] ................. C=1500, penalty=l2, solver=lbfgs, total=  25.0s\n",
      "[CV] C=1500, penalty=l2, solver=lbfgs ................................\n"
     ]
    },
    {
     "name": "stderr",
     "output_type": "stream",
     "text": [
      "C:\\Users\\austin\\anaconda3\\lib\\site-packages\\sklearn\\utils\\validation.py:73: DataConversionWarning: A column-vector y was passed when a 1d array was expected. Please change the shape of y to (n_samples, ), for example using ravel().\n",
      "  return f(**kwargs)\n",
      "[Parallel(n_jobs=1)]: Using backend SequentialBackend with 1 concurrent workers.\n",
      "C:\\Users\\austin\\anaconda3\\lib\\site-packages\\sklearn\\linear_model\\_logistic.py:762: ConvergenceWarning: lbfgs failed to converge (status=1):\n",
      "STOP: TOTAL NO. of ITERATIONS REACHED LIMIT.\n",
      "\n",
      "Increase the number of iterations (max_iter) or scale the data as shown in:\n",
      "    https://scikit-learn.org/stable/modules/preprocessing.html\n",
      "Please also refer to the documentation for alternative solver options:\n",
      "    https://scikit-learn.org/stable/modules/linear_model.html#logistic-regression\n",
      "  n_iter_i = _check_optimize_result(\n",
      "[Parallel(n_jobs=1)]: Done   1 out of   1 | elapsed:   24.7s remaining:    0.0s\n",
      "[Parallel(n_jobs=1)]: Done   1 out of   1 | elapsed:   24.7s finished\n"
     ]
    },
    {
     "name": "stdout",
     "output_type": "stream",
     "text": [
      "[CV] ................. C=1500, penalty=l2, solver=lbfgs, total=  25.2s\n",
      "[CV] C=1500, penalty=l2, solver=lbfgs ................................\n"
     ]
    },
    {
     "name": "stderr",
     "output_type": "stream",
     "text": [
      "C:\\Users\\austin\\anaconda3\\lib\\site-packages\\sklearn\\utils\\validation.py:73: DataConversionWarning: A column-vector y was passed when a 1d array was expected. Please change the shape of y to (n_samples, ), for example using ravel().\n",
      "  return f(**kwargs)\n",
      "[Parallel(n_jobs=1)]: Using backend SequentialBackend with 1 concurrent workers.\n",
      "C:\\Users\\austin\\anaconda3\\lib\\site-packages\\sklearn\\linear_model\\_logistic.py:762: ConvergenceWarning: lbfgs failed to converge (status=1):\n",
      "STOP: TOTAL NO. of ITERATIONS REACHED LIMIT.\n",
      "\n",
      "Increase the number of iterations (max_iter) or scale the data as shown in:\n",
      "    https://scikit-learn.org/stable/modules/preprocessing.html\n",
      "Please also refer to the documentation for alternative solver options:\n",
      "    https://scikit-learn.org/stable/modules/linear_model.html#logistic-regression\n",
      "  n_iter_i = _check_optimize_result(\n",
      "[Parallel(n_jobs=1)]: Done   1 out of   1 | elapsed:   24.6s remaining:    0.0s\n",
      "[Parallel(n_jobs=1)]: Done   1 out of   1 | elapsed:   24.6s finished\n"
     ]
    },
    {
     "name": "stdout",
     "output_type": "stream",
     "text": [
      "[CV] ................. C=1500, penalty=l2, solver=lbfgs, total=  25.3s\n",
      "[CV] C=1500, penalty=l2, solver=lbfgs ................................\n"
     ]
    },
    {
     "name": "stderr",
     "output_type": "stream",
     "text": [
      "C:\\Users\\austin\\anaconda3\\lib\\site-packages\\sklearn\\utils\\validation.py:73: DataConversionWarning: A column-vector y was passed when a 1d array was expected. Please change the shape of y to (n_samples, ), for example using ravel().\n",
      "  return f(**kwargs)\n",
      "[Parallel(n_jobs=1)]: Using backend SequentialBackend with 1 concurrent workers.\n",
      "C:\\Users\\austin\\anaconda3\\lib\\site-packages\\sklearn\\linear_model\\_logistic.py:762: ConvergenceWarning: lbfgs failed to converge (status=1):\n",
      "STOP: TOTAL NO. of ITERATIONS REACHED LIMIT.\n",
      "\n",
      "Increase the number of iterations (max_iter) or scale the data as shown in:\n",
      "    https://scikit-learn.org/stable/modules/preprocessing.html\n",
      "Please also refer to the documentation for alternative solver options:\n",
      "    https://scikit-learn.org/stable/modules/linear_model.html#logistic-regression\n",
      "  n_iter_i = _check_optimize_result(\n",
      "[Parallel(n_jobs=1)]: Done   1 out of   1 | elapsed:   25.8s remaining:    0.0s\n",
      "[Parallel(n_jobs=1)]: Done   1 out of   1 | elapsed:   25.8s finished\n"
     ]
    },
    {
     "name": "stdout",
     "output_type": "stream",
     "text": [
      "[CV] ................. C=1500, penalty=l2, solver=lbfgs, total=  26.4s\n",
      "[CV] C=1500, penalty=l2, solver=lbfgs ................................\n"
     ]
    },
    {
     "name": "stderr",
     "output_type": "stream",
     "text": [
      "C:\\Users\\austin\\anaconda3\\lib\\site-packages\\sklearn\\utils\\validation.py:73: DataConversionWarning: A column-vector y was passed when a 1d array was expected. Please change the shape of y to (n_samples, ), for example using ravel().\n",
      "  return f(**kwargs)\n",
      "[Parallel(n_jobs=1)]: Using backend SequentialBackend with 1 concurrent workers.\n",
      "C:\\Users\\austin\\anaconda3\\lib\\site-packages\\sklearn\\linear_model\\_logistic.py:762: ConvergenceWarning: lbfgs failed to converge (status=1):\n",
      "STOP: TOTAL NO. of ITERATIONS REACHED LIMIT.\n",
      "\n",
      "Increase the number of iterations (max_iter) or scale the data as shown in:\n",
      "    https://scikit-learn.org/stable/modules/preprocessing.html\n",
      "Please also refer to the documentation for alternative solver options:\n",
      "    https://scikit-learn.org/stable/modules/linear_model.html#logistic-regression\n",
      "  n_iter_i = _check_optimize_result(\n",
      "[Parallel(n_jobs=1)]: Done   1 out of   1 | elapsed:   24.2s remaining:    0.0s\n",
      "[Parallel(n_jobs=1)]: Done   1 out of   1 | elapsed:   24.2s finished\n"
     ]
    },
    {
     "name": "stdout",
     "output_type": "stream",
     "text": [
      "[CV] ................. C=1500, penalty=l2, solver=lbfgs, total=  24.8s\n",
      "[CV] C=1500, penalty=l2, solver=lbfgs ................................\n"
     ]
    },
    {
     "name": "stderr",
     "output_type": "stream",
     "text": [
      "C:\\Users\\austin\\anaconda3\\lib\\site-packages\\sklearn\\utils\\validation.py:73: DataConversionWarning: A column-vector y was passed when a 1d array was expected. Please change the shape of y to (n_samples, ), for example using ravel().\n",
      "  return f(**kwargs)\n",
      "[Parallel(n_jobs=1)]: Using backend SequentialBackend with 1 concurrent workers.\n",
      "C:\\Users\\austin\\anaconda3\\lib\\site-packages\\sklearn\\linear_model\\_logistic.py:762: ConvergenceWarning: lbfgs failed to converge (status=1):\n",
      "STOP: TOTAL NO. of ITERATIONS REACHED LIMIT.\n",
      "\n",
      "Increase the number of iterations (max_iter) or scale the data as shown in:\n",
      "    https://scikit-learn.org/stable/modules/preprocessing.html\n",
      "Please also refer to the documentation for alternative solver options:\n",
      "    https://scikit-learn.org/stable/modules/linear_model.html#logistic-regression\n",
      "  n_iter_i = _check_optimize_result(\n",
      "[Parallel(n_jobs=1)]: Done   1 out of   1 | elapsed:   28.0s remaining:    0.0s\n",
      "[Parallel(n_jobs=1)]: Done   1 out of   1 | elapsed:   28.0s finished\n",
      "[Parallel(n_jobs=1)]: Done  40 out of  40 | elapsed: 49.8min finished\n"
     ]
    },
    {
     "name": "stdout",
     "output_type": "stream",
     "text": [
      "[CV] ................. C=1500, penalty=l2, solver=lbfgs, total=  28.6s\n"
     ]
    },
    {
     "name": "stderr",
     "output_type": "stream",
     "text": [
      "C:\\Users\\austin\\anaconda3\\lib\\site-packages\\sklearn\\utils\\validation.py:73: DataConversionWarning: A column-vector y was passed when a 1d array was expected. Please change the shape of y to (n_samples, ), for example using ravel().\n",
      "  return f(**kwargs)\n"
     ]
    },
    {
     "name": "stdout",
     "output_type": "stream",
     "text": [
      "[LibLinear]"
     ]
    },
    {
     "data": {
      "text/plain": [
       "GridSearchCV(cv=10,\n",
       "             estimator=LogisticRegression(max_iter=500, random_state=100,\n",
       "                                          verbose=2),\n",
       "             param_grid=[{'C': [100, 1500], 'penalty': ['l1'],\n",
       "                          'solver': ['liblinear']},\n",
       "                         {'C': [100, 1500], 'penalty': ['l2'],\n",
       "                          'solver': ['lbfgs']}],\n",
       "             scoring='roc_auc', verbose=2)"
      ]
     },
     "execution_count": 448,
     "metadata": {},
     "output_type": "execute_result"
    }
   ],
   "source": [
    "params = [{'penalty':['l1'],'C':[100,1500],'solver':['liblinear']},{'penalty':['l2'],'C':[100,1500],'solver':['lbfgs']}]\n",
    "clf = LogisticRegression(random_state=100,max_iter=500,verbose=2)\n",
    "log_gridcv =GridSearchCV(clf,params,scoring='roc_auc',cv=10,verbose=2)\n",
    "log_gridcv.fit(xtrain,ytrain)"
   ]
  },
  {
   "cell_type": "code",
   "execution_count": 449,
   "metadata": {},
   "outputs": [
    {
     "name": "stdout",
     "output_type": "stream",
     "text": [
      "0.6335802271076878\n",
      "{'C': 1500, 'penalty': 'l1', 'solver': 'liblinear'}\n",
      "{'mean_fit_time': array([143.67509727, 102.97083738,  26.37671065,  25.65103478]), 'std_fit_time': array([15.03661344,  4.91428707,  0.84917842,  1.03535991]), 'mean_score_time': array([0.06126814, 0.04107702, 0.03665509, 0.03847957]), 'std_score_time': array([0.0508109 , 0.00540877, 0.00454192, 0.0112712 ]), 'param_C': masked_array(data=[100, 1500, 100, 1500],\n",
      "             mask=[False, False, False, False],\n",
      "       fill_value='?',\n",
      "            dtype=object), 'param_penalty': masked_array(data=['l1', 'l1', 'l2', 'l2'],\n",
      "             mask=[False, False, False, False],\n",
      "       fill_value='?',\n",
      "            dtype=object), 'param_solver': masked_array(data=['liblinear', 'liblinear', 'lbfgs', 'lbfgs'],\n",
      "             mask=[False, False, False, False],\n",
      "       fill_value='?',\n",
      "            dtype=object), 'params': [{'C': 100, 'penalty': 'l1', 'solver': 'liblinear'}, {'C': 1500, 'penalty': 'l1', 'solver': 'liblinear'}, {'C': 100, 'penalty': 'l2', 'solver': 'lbfgs'}, {'C': 1500, 'penalty': 'l2', 'solver': 'lbfgs'}], 'split0_test_score': array([0.6324945 , 0.63251914, 0.63117426, 0.63151902]), 'split1_test_score': array([0.64657228, 0.64657913, 0.64092581, 0.64173045]), 'split2_test_score': array([0.63209864, 0.6321057 , 0.6332881 , 0.63417974]), 'split3_test_score': array([0.64228235, 0.6422665 , 0.64230625, 0.64247756]), 'split4_test_score': array([0.62349357, 0.62345403, 0.62253755, 0.62274574]), 'split5_test_score': array([0.62619812, 0.62622925, 0.62173035, 0.62085185]), 'split6_test_score': array([0.63217244, 0.6321682 , 0.62759178, 0.62776618]), 'split7_test_score': array([0.63702621, 0.63703997, 0.63051279, 0.63096621]), 'split8_test_score': array([0.64216832, 0.64217261, 0.63687064, 0.6361973 ]), 'split9_test_score': array([0.6212674 , 0.62126777, 0.61790008, 0.61846477]), 'mean_test_score': array([0.63357738, 0.63358023, 0.63048376, 0.63068988]), 'std_test_score': array([0.0080209 , 0.00802302, 0.00777444, 0.0078868 ]), 'rank_test_score': array([2, 1, 4, 3])}\n",
      "LogisticRegression(C=1500, max_iter=500, penalty='l1', random_state=100,\n",
      "                   solver='liblinear', verbose=2)\n"
     ]
    }
   ],
   "source": [
    "print(log_gridcv.best_score_)    #查看最佳分数(此处为neg_mean_absolute_error)\n",
    "print(log_gridcv.best_params_)   #查看最佳参数\n",
    "print(log_gridcv.cv_results_)\n",
    "print(log_gridcv.best_estimator_) \n",
    "lr=log_gridcv.best_estimator_"
   ]
  },
  {
   "cell_type": "code",
   "execution_count": 463,
   "metadata": {},
   "outputs": [],
   "source": [
    "test_data1 = test_data.copy()"
   ]
  },
  {
   "cell_type": "code",
   "execution_count": 541,
   "metadata": {},
   "outputs": [],
   "source": [
    "x_train, y_train = train_data.drop(['label'], axis=1), train_data['label']"
   ]
  },
  {
   "cell_type": "code",
   "execution_count": 542,
   "metadata": {},
   "outputs": [],
   "source": [
    "train_x, valid_x, train_y, valid_y = train_test_split(x_train, y_train, test_size=0.2, random_state=100)"
   ]
  },
  {
   "cell_type": "code",
   "execution_count": 543,
   "metadata": {},
   "outputs": [],
   "source": [
    "def xgboost_train(train_x, train_y, valid_x, valid_y, verbose=True):\n",
    "    xgboost_model = xgb.XGBClassifier(\n",
    "        max_depth=20\n",
    "        ,n_estimators=1500\n",
    "        ,min_child_weight=400\n",
    "        ,colsample_bytree=0.5\n",
    "        ,subsample=0.7\n",
    "        ,eta=0.05\n",
    "        ,seed=42        )\n",
    "\n",
    "    xgboost_model.fit(\n",
    "        train_x \n",
    "        ,train_y\n",
    "        ,eval_metric='auc'\n",
    "        ,eval_set=[(train_x, train_y), (valid_x, valid_y)]\n",
    "        ,verbose=verbose\n",
    "        ,early_stopping_rounds=20\n",
    "    )\n",
    "    print(xgboost_model.best_score)\n",
    "    return xgboost_model"
   ]
  },
  {
   "cell_type": "code",
   "execution_count": 544,
   "metadata": {},
   "outputs": [
    {
     "name": "stdout",
     "output_type": "stream",
     "text": [
      "0.680656\n"
     ]
    }
   ],
   "source": [
    "import xgboost as xgb\n",
    "xgboost_model = xgboost_train(train_x, train_y, valid_x, valid_y, verbose=False)"
   ]
  },
  {
   "cell_type": "code",
   "execution_count": 545,
   "metadata": {},
   "outputs": [],
   "source": [
    "result = test_data.copy()"
   ]
  },
  {
   "cell_type": "code",
   "execution_count": 470,
   "metadata": {
    "scrolled": true
   },
   "outputs": [],
   "source": [
    "#將模型運用到測試集當中，並且輸出呈excel檔案\n",
    "xgb_probability = model_xgb.predict_proba(test_data1)\n",
    "\n",
    "result['prob'] = pd.Series(xgb_probability[:,1])\n",
    "result.to_csv('xgb_model_result.csv', index=False)"
   ]
  },
  {
   "cell_type": "code",
   "execution_count": 514,
   "metadata": {},
   "outputs": [],
   "source": [
    "\n",
    "#給予lightgbm參數，並且訓練她\n",
    "def lightgbm_train(train_x, train_y, valid_x, valid_y, verbose=True):\n",
    "    lightgbm_model = lgb.LGBMClassifier(\n",
    "        max_depth=20\n",
    "        ,n_estimators=1000\n",
    "        ,min_child_weight=200 \n",
    "        ,colsample_bytree=0.5 \n",
    "        ,subsample=0.7 \n",
    "        ,eta=0.05    \n",
    "        ,seed=42        \n",
    "    )\n",
    "\n",
    "    lightgbm_model.fit(\n",
    "        train_x, \n",
    "        train_y,\n",
    "        eval_metric='auc',\n",
    "        eval_set=[(train_x, train_y), (valid_x, valid_y)],\n",
    "        verbose=verbose,\n",
    "        early_stopping_rounds=20\n",
    "    )\n",
    "\n",
    "    print(lightgbm_model.best_score_['valid_1']['auc'])\n",
    "    return lightgbm_model"
   ]
  },
  {
   "cell_type": "code",
   "execution_count": 515,
   "metadata": {},
   "outputs": [
    {
     "name": "stdout",
     "output_type": "stream",
     "text": [
      "0.6905247102012406\n"
     ]
    }
   ],
   "source": [
    "\n",
    "import lightgbm as lgb\n",
    "lightgbm_model = lightgbm_train(train_x, train_y, valid_x, valid_y, verbose=False)"
   ]
  },
  {
   "cell_type": "code",
   "execution_count": 546,
   "metadata": {},
   "outputs": [],
   "source": [
    "#將模型運用到測試集當中，並且輸出呈excel檔案\n",
    "lightgbm_probability = model_lgb.predict_proba(test_data1)\n",
    "result['prob'] = pd.Series(lightgbm_probability[:,1])\n",
    "result.to_csv('lightgbm_model_result.csv', index=False)"
   ]
  },
  {
   "cell_type": "code",
   "execution_count": 479,
   "metadata": {},
   "outputs": [],
   "source": [
    "import catboost as cat\n",
    "def catboost_model_train(train_x, train_y, valid_x, valid_y, verbose=True):\n",
    "    catboost_model = cat.CatBoostClassifier(\n",
    "        learning_rate=0.02\n",
    "        ,iterations=6000\n",
    "        ,eval_metric='AUC'\n",
    "        ,od_wait=60\n",
    "        ,od_type='Iter'\n",
    "        ,random_state=10\n",
    "        ,thread_count=7\n",
    "        ,l2_leaf_reg=1, verbose=verbose)\n",
    "    \n",
    "    catboost_model.fit(\n",
    "        train_x\n",
    "        ,train_y\n",
    "        ,eval_set=[(valid_x, valid_y)]\n",
    "        ,early_stopping_rounds=50\n",
    "        ,use_best_model=True)\n",
    "\n",
    "    print(catboost_model.best_score_['validation']['AUC'])\n",
    "    return catboost_model"
   ]
  },
  {
   "cell_type": "code",
   "execution_count": 480,
   "metadata": {},
   "outputs": [
    {
     "name": "stdout",
     "output_type": "stream",
     "text": [
      "0.6890287432162316\n"
     ]
    }
   ],
   "source": [
    "train_x, valid_x, train_y, valid_y\n",
    "catboost_model = catboost_model_train(train_x, train_y, valid_x, valid_y, verbose=False)\n"
   ]
  },
  {
   "cell_type": "code",
   "execution_count": 481,
   "metadata": {},
   "outputs": [],
   "source": [
    "#將模型運用到測試集當中，並且輸出呈excel檔案\n",
    "catboost_prob = model_cat.predict_proba(test_data1)\n",
    "result['prob'] = pd.Series(catboost_prob[:,1])\n",
    "result.to_csv('catboost_model_result.csv', index=False)"
   ]
  },
  {
   "cell_type": "code",
   "execution_count": 492,
   "metadata": {},
   "outputs": [],
   "source": [
    "xgb_6819 =pd.read_csv('submission_xgb.csv')\n",
    "cat_6890 =pd.read_csv('submission_cat.csv')\n",
    "lgb_6871 =pd.read_csv('submission_lgb.csv')"
   ]
  },
  {
   "cell_type": "code",
   "execution_count": 494,
   "metadata": {},
   "outputs": [
    {
     "data": {
      "text/plain": [
       "array([[1.        , 0.94209482, 0.93599242],\n",
       "       [0.94209482, 1.        , 0.90758663],\n",
       "       [0.93599242, 0.90758663, 1.        ]])"
      ]
     },
     "execution_count": 494,
     "metadata": {},
     "output_type": "execute_result"
    }
   ],
   "source": [
    "df = np.array([lgb_6871.prob, xgb_6819.prob, cat_6890.prob])\n",
    "np.corrcoef(df)"
   ]
  },
  {
   "cell_type": "code",
   "execution_count": 495,
   "metadata": {},
   "outputs": [],
   "source": [
    "result=xgb_6819.copy()"
   ]
  },
  {
   "cell_type": "code",
   "execution_count": 499,
   "metadata": {},
   "outputs": [],
   "source": [
    "result.prob = 0.5*lgb_6871.prob+0.3*cat_6890.prob+0.2*xgb_6819.prob\n",
    "result.to_csv('blending1.csv',index=False)"
   ]
  },
  {
   "cell_type": "code",
   "execution_count": 501,
   "metadata": {},
   "outputs": [],
   "source": [
    "df1= pd.read_csv('blending1.csv')"
   ]
  },
  {
   "cell_type": "code",
   "execution_count": null,
   "metadata": {},
   "outputs": [],
   "source": []
  }
 ],
 "metadata": {
  "kernelspec": {
   "display_name": "Python 3",
   "language": "python",
   "name": "python3"
  },
  "language_info": {
   "codemirror_mode": {
    "name": "ipython",
    "version": 3
   },
   "file_extension": ".py",
   "mimetype": "text/x-python",
   "name": "python",
   "nbconvert_exporter": "python",
   "pygments_lexer": "ipython3",
   "version": "3.8.3"
  }
 },
 "nbformat": 4,
 "nbformat_minor": 4
}
